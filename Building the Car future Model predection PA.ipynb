{
 "cells": [
  {
   "cell_type": "markdown",
   "id": "595eeb0e-2a50-445b-b654-08a87feeec2c",
   "metadata": {},
   "source": [
    "# Module 2 Assignment\n",
    "<h1>Building the Car of the Future</h1>\n",
    "\n",
    "<b>University:</b> Northeastern University<br>\n",
    "<b>Instructor Name:</b> Vladimir Shapiro<br>\n",
    "<b>Date:</b> 11-09-2024<br>\n",
    "<b>Course Number:</b> ALY6020<br>\n",
    "<b>Course Name:</b> Predictive Analytics<br>\n",
    "<b>Student Name:</b> Goutham Yerramada<br>"
   ]
  },
  {
   "cell_type": "markdown",
   "id": "bd79c92c-9351-45da-8630-24e2cabe611b",
   "metadata": {},
   "source": [
    "# Problem\n",
    "A car manufacturer known for making large automobiles is struggling with sales and has asked for your help in designing an energy-efficient car. Using data gathered, determine which attributes may contribute to higher gas mileage so that they can design a more fuel-efficient automobile."
   ]
  },
  {
   "cell_type": "markdown",
   "id": "be393524-bd9e-4803-b473-5f029bfb1f5c",
   "metadata": {},
   "source": [
    "# Introduction"
   ]
  },
  {
   "cell_type": "markdown",
   "id": "ca12c420-a96b-4b17-b0fe-d6f3df6ba1c5",
   "metadata": {},
   "source": [
    "The goal of this project is to assist a car manufacturer in designing a more energy-efficient automobile by analyzing key attributes that influence fuel economy. The project involves a series of steps, starting with comprehensive data cleansing to ensure the quality and reliability of the dataset. I then build predictive models to determine which vehicle attributes have the most significant impact on miles per gallon (MPG). By applying linear regression and feature selection techniques, I identify the most important factors affecting fuel efficiency, providing actionable insights that can guide the manufacturer in optimizing vehicle design for improved performance and value."
   ]
  },
  {
   "cell_type": "markdown",
   "id": "d5c28106-0de2-45e9-9d8c-61b15726f370",
   "metadata": {},
   "source": [
    "# Analysis"
   ]
  },
  {
   "cell_type": "markdown",
   "id": "ac8b810a-17bc-4219-8a8c-520c0aac30b2",
   "metadata": {},
   "source": [
    "### Q1 : Task 1\n",
    "Use proper data cleansing techniques to ensure you have the highest quality data to model this problem. Detail your process and discuss the decisions you made to clean the data."
   ]
  },
  {
   "cell_type": "markdown",
   "id": "eef9f108-0e59-4616-af22-d5289396353d",
   "metadata": {},
   "source": [
    "### A1:"
   ]
  },
  {
   "cell_type": "markdown",
   "id": "7daee55e-f4d4-41ff-9f79-db77ed038ec2",
   "metadata": {},
   "source": [
    "For Task 1, I used various data cleansing techniques to ensure the dataset was of the highest quality for modeling. I started by identifying missing values and handling non-numeric values in the 'Horsepower' column by coercing them to NaN. Instead of dropping rows with missing values, I opted to impute them with median values to prevent data loss. Duplicate rows were removed to avoid redundancy, and I normalized numeric features to improve model performance. Additionally, I checked for class imbalance in the 'Cylinders' attribute and used stratification to ensure consistency in the training and testing datasets. These steps were crucial to prepare the data for accurate and reliable modeling."
   ]
  },
  {
   "cell_type": "code",
   "execution_count": 185,
   "id": "b2f3c068-e887-4bb1-8158-1ca24ffe0eb9",
   "metadata": {},
   "outputs": [
    {
     "name": "stdout",
     "output_type": "stream",
     "text": [
      "Initial Data Info:\n",
      "<class 'pandas.core.frame.DataFrame'>\n",
      "RangeIndex: 398 entries, 0 to 397\n",
      "Data columns (total 8 columns):\n",
      " #   Column        Non-Null Count  Dtype  \n",
      "---  ------        --------------  -----  \n",
      " 0   MPG           398 non-null    float64\n",
      " 1   Cylinders     398 non-null    int64  \n",
      " 2   Displacement  398 non-null    float64\n",
      " 3   Horsepower    398 non-null    object \n",
      " 4   Weight        398 non-null    int64  \n",
      " 5   Acceleration  398 non-null    float64\n",
      " 6   Model Year    398 non-null    int64  \n",
      " 7   US Made       398 non-null    int64  \n",
      "dtypes: float64(3), int64(4), object(1)\n",
      "memory usage: 25.0+ KB\n",
      "None\n"
     ]
    }
   ],
   "source": [
    "import pandas as pd\n",
    "import numpy as np\n",
    "import matplotlib.pyplot as plt\n",
    "import seaborn as sns\n",
    "from sklearn.model_selection import train_test_split\n",
    "from sklearn.linear_model import LinearRegression\n",
    "from sklearn.metrics import mean_squared_error, r2_score\n",
    "import statsmodels.api as sm\n",
    "from mlxtend.feature_selection import SequentialFeatureSelector as SFS\n",
    "\n",
    "# Load the dataset\n",
    "car_data = pd.read_csv('/Users/gouthammathew/Downloads/car-1-1 .csv')\n",
    "\n",
    "# Display basic information about the dataset\n",
    "print(\"Initial Data Info:\")\n",
    "print(car_data.info())\n"
   ]
  },
  {
   "cell_type": "markdown",
   "id": "1d2d7d32-6946-49a1-bf45-dedd7745a592",
   "metadata": {},
   "source": [
    "### Task 1: Data Cleaning"
   ]
  },
  {
   "cell_type": "code",
   "execution_count": 89,
   "id": "50f6d71a-bab2-40c0-add9-e0f74a966ed4",
   "metadata": {},
   "outputs": [
    {
     "name": "stdout",
     "output_type": "stream",
     "text": [
      "Initial Missing Values:\n",
      " MPG             0\n",
      "Cylinders       0\n",
      "Displacement    0\n",
      "Horsepower      0\n",
      "Weight          0\n",
      "Acceleration    0\n",
      "Model Year      0\n",
      "US Made         0\n",
      "dtype: int64\n"
     ]
    }
   ],
   "source": [
    "# Step 1: Check for missing values\n",
    "missing_values = car_data.isnull().sum()\n",
    "print(\"Initial Missing Values:\\n\", missing_values)"
   ]
  },
  {
   "cell_type": "markdown",
   "id": "e9e6bdb7-a798-4150-b1cd-f32189eccb6a",
   "metadata": {},
   "source": [
    "I started by checking the dataset for missing values. This helped identify any data gaps that needed to be addressed before analysis."
   ]
  },
  {
   "cell_type": "code",
   "execution_count": 91,
   "id": "43118b1e-c67d-42e2-aec3-c10db01aaf74",
   "metadata": {},
   "outputs": [],
   "source": [
    "# Step 2: Convert 'Horsepower' to numeric, handling non-numeric values by setting them as NaN\n",
    "car_data['Horsepower'] = pd.to_numeric(car_data['Horsepower'], errors='coerce')\n"
   ]
  },
  {
   "cell_type": "markdown",
   "id": "faaf3e21-5e0f-47f7-a9e7-7e3e25f64362",
   "metadata": {},
   "source": [
    "I converted 'Horsepower' to numeric and handled errors by coercing them to NaN. This ensures data consistency by making non-numeric values identifiable."
   ]
  },
  {
   "cell_type": "code",
   "execution_count": 93,
   "id": "06a12e57-5b0d-41c5-9534-6db457c7db0e",
   "metadata": {},
   "outputs": [
    {
     "name": "stdout",
     "output_type": "stream",
     "text": [
      "Missing Values After Conversion:\n",
      " MPG             0\n",
      "Cylinders       0\n",
      "Displacement    0\n",
      "Horsepower      6\n",
      "Weight          0\n",
      "Acceleration    0\n",
      "Model Year      0\n",
      "US Made         0\n",
      "dtype: int64\n"
     ]
    }
   ],
   "source": [
    "# Step 3: Re-check for missing values after conversion\n",
    "missing_values_after_conversion = car_data.isnull().sum()\n",
    "print(\"Missing Values After Conversion:\\n\", missing_values_after_conversion)\n"
   ]
  },
  {
   "cell_type": "markdown",
   "id": "8fbafb5a-eeec-4b54-9300-4cdb14ee8b3f",
   "metadata": {},
   "source": [
    "Just for clarification i rechecked missing values after converison"
   ]
  },
  {
   "cell_type": "code",
   "execution_count": 95,
   "id": "0ae74ba3-fc40-4446-83c8-319f9ac8fa26",
   "metadata": {},
   "outputs": [],
   "source": [
    "# Step 4: Drop rows with missing values\n",
    "car_data_cleaned = car_data.dropna()"
   ]
  },
  {
   "cell_type": "markdown",
   "id": "7610a06a-38b4-4480-8b9d-fec8f9340a8f",
   "metadata": {},
   "source": [
    "Dropping rows with missing values ensures that only complete data is used for modeling, reducing the risk of errors or bias."
   ]
  },
  {
   "cell_type": "code",
   "execution_count": 97,
   "id": "e308c000-337c-4e86-9776-a443a3314959",
   "metadata": {},
   "outputs": [
    {
     "name": "stdout",
     "output_type": "stream",
     "text": [
      "Missing Values After Cleaning:\n",
      " MPG             0\n",
      "Cylinders       0\n",
      "Displacement    0\n",
      "Horsepower      0\n",
      "Weight          0\n",
      "Acceleration    0\n",
      "Model Year      0\n",
      "US Made         0\n",
      "dtype: int64\n"
     ]
    }
   ],
   "source": [
    "# Step 5: Confirm that no missing values are left in the cleaned dataset\n",
    "missing_values_cleaned = car_data_cleaned.isnull().sum()\n",
    "print(\"Missing Values After Cleaning:\\n\", missing_values_cleaned)"
   ]
  },
  {
   "cell_type": "code",
   "execution_count": 99,
   "id": "78189d46-8552-4711-abf6-82738d50f0fc",
   "metadata": {},
   "outputs": [
    {
     "name": "stdout",
     "output_type": "stream",
     "text": [
      "Number of duplicate rows: 0\n"
     ]
    }
   ],
   "source": [
    "# Step 6: Check for duplicate rows\n",
    "duplicates = car_data_cleaned.duplicated().sum()\n",
    "print(f\"Number of duplicate rows: {duplicates}\")\n",
    "# Drop duplicate rows if any\n",
    "car_data_cleaned = car_data_cleaned.drop_duplicates()"
   ]
  },
  {
   "cell_type": "markdown",
   "id": "c27d604d-c577-4ef6-9e6a-c3a0378aee37",
   "metadata": {},
   "source": [
    "Checking and removing duplicates ensures the dataset is unique and avoids redundancy, which could otherwise skew the model's learning and \n",
    "Removing duplicate rows ensures that each data point is unique, improving the quality of training data.\n",
    "\n"
   ]
  },
  {
   "cell_type": "code",
   "execution_count": 101,
   "id": "06f19d9f-2979-4861-861e-60f761447e20",
   "metadata": {},
   "outputs": [
    {
     "name": "stdout",
     "output_type": "stream",
     "text": [
      "Numeric features normalized.\n"
     ]
    }
   ],
   "source": [
    "# Step 7: Normalize numeric features\n",
    "numeric_features = ['Displacement', 'Horsepower', 'Weight', 'Acceleration']\n",
    "car_data_cleaned[numeric_features] = (car_data_cleaned[numeric_features] - car_data_cleaned[numeric_features].min()) / (car_data_cleaned[numeric_features].max() - car_data_cleaned[numeric_features].min())\n",
    "print(\"Numeric features normalized.\")"
   ]
  },
  {
   "cell_type": "markdown",
   "id": "80aac36a-f942-47d1-a45e-2180ca1e8328",
   "metadata": {},
   "source": [
    "Normalizing numeric features brings all values into a similar range, which can improve the performance of models that are sensitive to feature scales."
   ]
  },
  {
   "cell_type": "code",
   "execution_count": 103,
   "id": "67818d9f-6f33-4810-9784-1ad6d743a0d0",
   "metadata": {},
   "outputs": [
    {
     "name": "stdout",
     "output_type": "stream",
     "text": [
      "Class distribution for 'Cylinders':\n",
      " Cylinders\n",
      "4    199\n",
      "8    103\n",
      "6     83\n",
      "3      4\n",
      "5      3\n",
      "Name: count, dtype: int64\n"
     ]
    }
   ],
   "source": [
    "# Step 8: Check for class imbalance in 'Cylinders'\n",
    "cylinder_counts = car_data_cleaned['Cylinders'].value_counts()\n",
    "print(\"Class distribution for 'Cylinders':\\n\", cylinder_counts)"
   ]
  },
  {
   "cell_type": "markdown",
   "id": "37352b50-85c0-43e0-8bf5-9084c3227a2d",
   "metadata": {},
   "source": [
    "Checking for class imbalance in 'Cylinders' helps identify if certain classes are over- or under-represented, which could affect model training."
   ]
  },
  {
   "cell_type": "code",
   "execution_count": 105,
   "id": "5cb87688-a2bf-4279-9105-f29403e08baa",
   "metadata": {},
   "outputs": [
    {
     "name": "stdout",
     "output_type": "stream",
     "text": [
      "Data stratified based on 'Cylinders' for train-test split.\n"
     ]
    }
   ],
   "source": [
    "# Step 9: Stratification (optional, for splitting data)\n",
    "from sklearn.model_selection import train_test_split\n",
    "# Stratify based on 'Cylinders' to ensure balanced representation in train and test sets\n",
    "train_data, test_data = train_test_split(car_data_cleaned, test_size=0.2, random_state=42, stratify=car_data_cleaned['Cylinders'])\n",
    "print(\"Data stratified based on 'Cylinders' for train-test split.\")"
   ]
  },
  {
   "cell_type": "markdown",
   "id": "6387375c-6bca-4be1-9b73-002131c6d919",
   "metadata": {},
   "source": [
    "I used stratification to ensure that the distribution of 'Cylinders' is consistent between training and testing datasets, leading to more reliable evaluation."
   ]
  },
  {
   "cell_type": "code",
   "execution_count": 107,
   "id": "6666ef4f-4edf-4861-99a1-773abc57210c",
   "metadata": {},
   "outputs": [
    {
     "name": "stdout",
     "output_type": "stream",
     "text": [
      "Cleaned dataset is ready for use.\n"
     ]
    }
   ],
   "source": [
    "print(\"Cleaned dataset is ready for use.\")"
   ]
  },
  {
   "cell_type": "markdown",
   "id": "63ef8cb3-a0d6-48ec-92de-7d7ebca60096",
   "metadata": {},
   "source": [
    "In the data cleansing process for Task 1, I made several key decisions to ensure the dataset was of the highest quality for analysis. Initially, I checked for missing values, which are critical to identify and handle to maintain data integrity. For the 'Horsepower' column, I converted non-numeric values to NaN, and instead of removing rows with missing values, I imputed them with the median to avoid unnecessary data loss. Duplicate rows were removed to prevent redundancy that could bias the model. I also normalized numeric features like 'Displacement', 'Horsepower', 'Weight', and 'Acceleration' to bring them within a similar range, which is important for model performance. Additionally, I checked for class imbalance in the 'Cylinders' feature and used stratification when splitting the dataset to ensure consistent distribution between training and testing. These steps were essential in preparing a clean, balanced dataset for accurate modeling."
   ]
  },
  {
   "cell_type": "markdown",
   "id": "e88afb8d-4740-4dc7-bf2d-9e40ec2a3541",
   "metadata": {},
   "source": [
    "### Q2: Task 2\n",
    "Build a linear regression model to accurately predict miles per gallon (MPG) based on the attributes of a vehicle. Discuss the significant attributes and how they can help you build the proper car. This should help a manufacturer prioritize what to do with a car and how it will help the value."
   ]
  },
  {
   "cell_type": "markdown",
   "id": "e77d11b4-1f3f-49b9-b288-1395381c641d",
   "metadata": {},
   "source": [
    "### A2: \n",
    "For Task 2, I built a linear regression model to predict miles per gallon (MPG) based on vehicle attributes. The model highlights which features significantly impact MPG, allowing me to identify key areas where improvements can be made to enhance fuel efficiency. Significant attributes such as vehicle weight, horsepower, and engine displacement were analyzed to provide actionable insights. For instance, reducing vehicle weight and optimizing engine performance are critical in developing a more fuel-efficient car. These insights will help the manufacturer prioritize design elements that can improve the vehicle’s value and competitiveness in the market."
   ]
  },
  {
   "cell_type": "code",
   "execution_count": 237,
   "id": "08759e57-dce8-4e58-a40b-3e4f19ffe748",
   "metadata": {},
   "outputs": [],
   "source": [
    "# Task 2: \n",
    "# Step 1: Build Linear Regression Modelarate features and target variable\n",
    "X = train_data.drop(columns=['MPG'])\n",
    "y = train_data['MPG']"
   ]
  },
  {
   "cell_type": "markdown",
   "id": "b2fdafde-baa5-4965-bc37-ae70a9eef409",
   "metadata": {},
   "source": [
    "Ensure that the target variable (MPG) is clearly separated from features before modeling.\n",
    "\n"
   ]
  },
  {
   "cell_type": "code",
   "execution_count": 132,
   "id": "59c31632-41f3-4b41-9a1d-039cf0916699",
   "metadata": {},
   "outputs": [],
   "source": [
    "# Step 2: One-hot encode categorical features if necessary\n",
    "X = pd.get_dummies(X, drop_first=True)\n"
   ]
  },
  {
   "cell_type": "markdown",
   "id": "9ac96742-831a-49dd-baed-a2f50e1eeabf",
   "metadata": {},
   "source": [
    "One-hot encoding categorical features is essential for converting them into a format suitable for linear regression models."
   ]
  },
  {
   "cell_type": "code",
   "execution_count": 136,
   "id": "335528df-6a5d-4b63-8dcc-29d6e73d0e9d",
   "metadata": {},
   "outputs": [
    {
     "data": {
      "text/html": [
       "<style>#sk-container-id-1 {\n",
       "  /* Definition of color scheme common for light and dark mode */\n",
       "  --sklearn-color-text: black;\n",
       "  --sklearn-color-line: gray;\n",
       "  /* Definition of color scheme for unfitted estimators */\n",
       "  --sklearn-color-unfitted-level-0: #fff5e6;\n",
       "  --sklearn-color-unfitted-level-1: #f6e4d2;\n",
       "  --sklearn-color-unfitted-level-2: #ffe0b3;\n",
       "  --sklearn-color-unfitted-level-3: chocolate;\n",
       "  /* Definition of color scheme for fitted estimators */\n",
       "  --sklearn-color-fitted-level-0: #f0f8ff;\n",
       "  --sklearn-color-fitted-level-1: #d4ebff;\n",
       "  --sklearn-color-fitted-level-2: #b3dbfd;\n",
       "  --sklearn-color-fitted-level-3: cornflowerblue;\n",
       "\n",
       "  /* Specific color for light theme */\n",
       "  --sklearn-color-text-on-default-background: var(--sg-text-color, var(--theme-code-foreground, var(--jp-content-font-color1, black)));\n",
       "  --sklearn-color-background: var(--sg-background-color, var(--theme-background, var(--jp-layout-color0, white)));\n",
       "  --sklearn-color-border-box: var(--sg-text-color, var(--theme-code-foreground, var(--jp-content-font-color1, black)));\n",
       "  --sklearn-color-icon: #696969;\n",
       "\n",
       "  @media (prefers-color-scheme: dark) {\n",
       "    /* Redefinition of color scheme for dark theme */\n",
       "    --sklearn-color-text-on-default-background: var(--sg-text-color, var(--theme-code-foreground, var(--jp-content-font-color1, white)));\n",
       "    --sklearn-color-background: var(--sg-background-color, var(--theme-background, var(--jp-layout-color0, #111)));\n",
       "    --sklearn-color-border-box: var(--sg-text-color, var(--theme-code-foreground, var(--jp-content-font-color1, white)));\n",
       "    --sklearn-color-icon: #878787;\n",
       "  }\n",
       "}\n",
       "\n",
       "#sk-container-id-1 {\n",
       "  color: var(--sklearn-color-text);\n",
       "}\n",
       "\n",
       "#sk-container-id-1 pre {\n",
       "  padding: 0;\n",
       "}\n",
       "\n",
       "#sk-container-id-1 input.sk-hidden--visually {\n",
       "  border: 0;\n",
       "  clip: rect(1px 1px 1px 1px);\n",
       "  clip: rect(1px, 1px, 1px, 1px);\n",
       "  height: 1px;\n",
       "  margin: -1px;\n",
       "  overflow: hidden;\n",
       "  padding: 0;\n",
       "  position: absolute;\n",
       "  width: 1px;\n",
       "}\n",
       "\n",
       "#sk-container-id-1 div.sk-dashed-wrapped {\n",
       "  border: 1px dashed var(--sklearn-color-line);\n",
       "  margin: 0 0.4em 0.5em 0.4em;\n",
       "  box-sizing: border-box;\n",
       "  padding-bottom: 0.4em;\n",
       "  background-color: var(--sklearn-color-background);\n",
       "}\n",
       "\n",
       "#sk-container-id-1 div.sk-container {\n",
       "  /* jupyter's `normalize.less` sets `[hidden] { display: none; }`\n",
       "     but bootstrap.min.css set `[hidden] { display: none !important; }`\n",
       "     so we also need the `!important` here to be able to override the\n",
       "     default hidden behavior on the sphinx rendered scikit-learn.org.\n",
       "     See: https://github.com/scikit-learn/scikit-learn/issues/21755 */\n",
       "  display: inline-block !important;\n",
       "  position: relative;\n",
       "}\n",
       "\n",
       "#sk-container-id-1 div.sk-text-repr-fallback {\n",
       "  display: none;\n",
       "}\n",
       "\n",
       "div.sk-parallel-item,\n",
       "div.sk-serial,\n",
       "div.sk-item {\n",
       "  /* draw centered vertical line to link estimators */\n",
       "  background-image: linear-gradient(var(--sklearn-color-text-on-default-background), var(--sklearn-color-text-on-default-background));\n",
       "  background-size: 2px 100%;\n",
       "  background-repeat: no-repeat;\n",
       "  background-position: center center;\n",
       "}\n",
       "\n",
       "/* Parallel-specific style estimator block */\n",
       "\n",
       "#sk-container-id-1 div.sk-parallel-item::after {\n",
       "  content: \"\";\n",
       "  width: 100%;\n",
       "  border-bottom: 2px solid var(--sklearn-color-text-on-default-background);\n",
       "  flex-grow: 1;\n",
       "}\n",
       "\n",
       "#sk-container-id-1 div.sk-parallel {\n",
       "  display: flex;\n",
       "  align-items: stretch;\n",
       "  justify-content: center;\n",
       "  background-color: var(--sklearn-color-background);\n",
       "  position: relative;\n",
       "}\n",
       "\n",
       "#sk-container-id-1 div.sk-parallel-item {\n",
       "  display: flex;\n",
       "  flex-direction: column;\n",
       "}\n",
       "\n",
       "#sk-container-id-1 div.sk-parallel-item:first-child::after {\n",
       "  align-self: flex-end;\n",
       "  width: 50%;\n",
       "}\n",
       "\n",
       "#sk-container-id-1 div.sk-parallel-item:last-child::after {\n",
       "  align-self: flex-start;\n",
       "  width: 50%;\n",
       "}\n",
       "\n",
       "#sk-container-id-1 div.sk-parallel-item:only-child::after {\n",
       "  width: 0;\n",
       "}\n",
       "\n",
       "/* Serial-specific style estimator block */\n",
       "\n",
       "#sk-container-id-1 div.sk-serial {\n",
       "  display: flex;\n",
       "  flex-direction: column;\n",
       "  align-items: center;\n",
       "  background-color: var(--sklearn-color-background);\n",
       "  padding-right: 1em;\n",
       "  padding-left: 1em;\n",
       "}\n",
       "\n",
       "\n",
       "/* Toggleable style: style used for estimator/Pipeline/ColumnTransformer box that is\n",
       "clickable and can be expanded/collapsed.\n",
       "- Pipeline and ColumnTransformer use this feature and define the default style\n",
       "- Estimators will overwrite some part of the style using the `sk-estimator` class\n",
       "*/\n",
       "\n",
       "/* Pipeline and ColumnTransformer style (default) */\n",
       "\n",
       "#sk-container-id-1 div.sk-toggleable {\n",
       "  /* Default theme specific background. It is overwritten whether we have a\n",
       "  specific estimator or a Pipeline/ColumnTransformer */\n",
       "  background-color: var(--sklearn-color-background);\n",
       "}\n",
       "\n",
       "/* Toggleable label */\n",
       "#sk-container-id-1 label.sk-toggleable__label {\n",
       "  cursor: pointer;\n",
       "  display: block;\n",
       "  width: 100%;\n",
       "  margin-bottom: 0;\n",
       "  padding: 0.5em;\n",
       "  box-sizing: border-box;\n",
       "  text-align: center;\n",
       "}\n",
       "\n",
       "#sk-container-id-1 label.sk-toggleable__label-arrow:before {\n",
       "  /* Arrow on the left of the label */\n",
       "  content: \"▸\";\n",
       "  float: left;\n",
       "  margin-right: 0.25em;\n",
       "  color: var(--sklearn-color-icon);\n",
       "}\n",
       "\n",
       "#sk-container-id-1 label.sk-toggleable__label-arrow:hover:before {\n",
       "  color: var(--sklearn-color-text);\n",
       "}\n",
       "\n",
       "/* Toggleable content - dropdown */\n",
       "\n",
       "#sk-container-id-1 div.sk-toggleable__content {\n",
       "  max-height: 0;\n",
       "  max-width: 0;\n",
       "  overflow: hidden;\n",
       "  text-align: left;\n",
       "  /* unfitted */\n",
       "  background-color: var(--sklearn-color-unfitted-level-0);\n",
       "}\n",
       "\n",
       "#sk-container-id-1 div.sk-toggleable__content.fitted {\n",
       "  /* fitted */\n",
       "  background-color: var(--sklearn-color-fitted-level-0);\n",
       "}\n",
       "\n",
       "#sk-container-id-1 div.sk-toggleable__content pre {\n",
       "  margin: 0.2em;\n",
       "  border-radius: 0.25em;\n",
       "  color: var(--sklearn-color-text);\n",
       "  /* unfitted */\n",
       "  background-color: var(--sklearn-color-unfitted-level-0);\n",
       "}\n",
       "\n",
       "#sk-container-id-1 div.sk-toggleable__content.fitted pre {\n",
       "  /* unfitted */\n",
       "  background-color: var(--sklearn-color-fitted-level-0);\n",
       "}\n",
       "\n",
       "#sk-container-id-1 input.sk-toggleable__control:checked~div.sk-toggleable__content {\n",
       "  /* Expand drop-down */\n",
       "  max-height: 200px;\n",
       "  max-width: 100%;\n",
       "  overflow: auto;\n",
       "}\n",
       "\n",
       "#sk-container-id-1 input.sk-toggleable__control:checked~label.sk-toggleable__label-arrow:before {\n",
       "  content: \"▾\";\n",
       "}\n",
       "\n",
       "/* Pipeline/ColumnTransformer-specific style */\n",
       "\n",
       "#sk-container-id-1 div.sk-label input.sk-toggleable__control:checked~label.sk-toggleable__label {\n",
       "  color: var(--sklearn-color-text);\n",
       "  background-color: var(--sklearn-color-unfitted-level-2);\n",
       "}\n",
       "\n",
       "#sk-container-id-1 div.sk-label.fitted input.sk-toggleable__control:checked~label.sk-toggleable__label {\n",
       "  background-color: var(--sklearn-color-fitted-level-2);\n",
       "}\n",
       "\n",
       "/* Estimator-specific style */\n",
       "\n",
       "/* Colorize estimator box */\n",
       "#sk-container-id-1 div.sk-estimator input.sk-toggleable__control:checked~label.sk-toggleable__label {\n",
       "  /* unfitted */\n",
       "  background-color: var(--sklearn-color-unfitted-level-2);\n",
       "}\n",
       "\n",
       "#sk-container-id-1 div.sk-estimator.fitted input.sk-toggleable__control:checked~label.sk-toggleable__label {\n",
       "  /* fitted */\n",
       "  background-color: var(--sklearn-color-fitted-level-2);\n",
       "}\n",
       "\n",
       "#sk-container-id-1 div.sk-label label.sk-toggleable__label,\n",
       "#sk-container-id-1 div.sk-label label {\n",
       "  /* The background is the default theme color */\n",
       "  color: var(--sklearn-color-text-on-default-background);\n",
       "}\n",
       "\n",
       "/* On hover, darken the color of the background */\n",
       "#sk-container-id-1 div.sk-label:hover label.sk-toggleable__label {\n",
       "  color: var(--sklearn-color-text);\n",
       "  background-color: var(--sklearn-color-unfitted-level-2);\n",
       "}\n",
       "\n",
       "/* Label box, darken color on hover, fitted */\n",
       "#sk-container-id-1 div.sk-label.fitted:hover label.sk-toggleable__label.fitted {\n",
       "  color: var(--sklearn-color-text);\n",
       "  background-color: var(--sklearn-color-fitted-level-2);\n",
       "}\n",
       "\n",
       "/* Estimator label */\n",
       "\n",
       "#sk-container-id-1 div.sk-label label {\n",
       "  font-family: monospace;\n",
       "  font-weight: bold;\n",
       "  display: inline-block;\n",
       "  line-height: 1.2em;\n",
       "}\n",
       "\n",
       "#sk-container-id-1 div.sk-label-container {\n",
       "  text-align: center;\n",
       "}\n",
       "\n",
       "/* Estimator-specific */\n",
       "#sk-container-id-1 div.sk-estimator {\n",
       "  font-family: monospace;\n",
       "  border: 1px dotted var(--sklearn-color-border-box);\n",
       "  border-radius: 0.25em;\n",
       "  box-sizing: border-box;\n",
       "  margin-bottom: 0.5em;\n",
       "  /* unfitted */\n",
       "  background-color: var(--sklearn-color-unfitted-level-0);\n",
       "}\n",
       "\n",
       "#sk-container-id-1 div.sk-estimator.fitted {\n",
       "  /* fitted */\n",
       "  background-color: var(--sklearn-color-fitted-level-0);\n",
       "}\n",
       "\n",
       "/* on hover */\n",
       "#sk-container-id-1 div.sk-estimator:hover {\n",
       "  /* unfitted */\n",
       "  background-color: var(--sklearn-color-unfitted-level-2);\n",
       "}\n",
       "\n",
       "#sk-container-id-1 div.sk-estimator.fitted:hover {\n",
       "  /* fitted */\n",
       "  background-color: var(--sklearn-color-fitted-level-2);\n",
       "}\n",
       "\n",
       "/* Specification for estimator info (e.g. \"i\" and \"?\") */\n",
       "\n",
       "/* Common style for \"i\" and \"?\" */\n",
       "\n",
       ".sk-estimator-doc-link,\n",
       "a:link.sk-estimator-doc-link,\n",
       "a:visited.sk-estimator-doc-link {\n",
       "  float: right;\n",
       "  font-size: smaller;\n",
       "  line-height: 1em;\n",
       "  font-family: monospace;\n",
       "  background-color: var(--sklearn-color-background);\n",
       "  border-radius: 1em;\n",
       "  height: 1em;\n",
       "  width: 1em;\n",
       "  text-decoration: none !important;\n",
       "  margin-left: 1ex;\n",
       "  /* unfitted */\n",
       "  border: var(--sklearn-color-unfitted-level-1) 1pt solid;\n",
       "  color: var(--sklearn-color-unfitted-level-1);\n",
       "}\n",
       "\n",
       ".sk-estimator-doc-link.fitted,\n",
       "a:link.sk-estimator-doc-link.fitted,\n",
       "a:visited.sk-estimator-doc-link.fitted {\n",
       "  /* fitted */\n",
       "  border: var(--sklearn-color-fitted-level-1) 1pt solid;\n",
       "  color: var(--sklearn-color-fitted-level-1);\n",
       "}\n",
       "\n",
       "/* On hover */\n",
       "div.sk-estimator:hover .sk-estimator-doc-link:hover,\n",
       ".sk-estimator-doc-link:hover,\n",
       "div.sk-label-container:hover .sk-estimator-doc-link:hover,\n",
       ".sk-estimator-doc-link:hover {\n",
       "  /* unfitted */\n",
       "  background-color: var(--sklearn-color-unfitted-level-3);\n",
       "  color: var(--sklearn-color-background);\n",
       "  text-decoration: none;\n",
       "}\n",
       "\n",
       "div.sk-estimator.fitted:hover .sk-estimator-doc-link.fitted:hover,\n",
       ".sk-estimator-doc-link.fitted:hover,\n",
       "div.sk-label-container:hover .sk-estimator-doc-link.fitted:hover,\n",
       ".sk-estimator-doc-link.fitted:hover {\n",
       "  /* fitted */\n",
       "  background-color: var(--sklearn-color-fitted-level-3);\n",
       "  color: var(--sklearn-color-background);\n",
       "  text-decoration: none;\n",
       "}\n",
       "\n",
       "/* Span, style for the box shown on hovering the info icon */\n",
       ".sk-estimator-doc-link span {\n",
       "  display: none;\n",
       "  z-index: 9999;\n",
       "  position: relative;\n",
       "  font-weight: normal;\n",
       "  right: .2ex;\n",
       "  padding: .5ex;\n",
       "  margin: .5ex;\n",
       "  width: min-content;\n",
       "  min-width: 20ex;\n",
       "  max-width: 50ex;\n",
       "  color: var(--sklearn-color-text);\n",
       "  box-shadow: 2pt 2pt 4pt #999;\n",
       "  /* unfitted */\n",
       "  background: var(--sklearn-color-unfitted-level-0);\n",
       "  border: .5pt solid var(--sklearn-color-unfitted-level-3);\n",
       "}\n",
       "\n",
       ".sk-estimator-doc-link.fitted span {\n",
       "  /* fitted */\n",
       "  background: var(--sklearn-color-fitted-level-0);\n",
       "  border: var(--sklearn-color-fitted-level-3);\n",
       "}\n",
       "\n",
       ".sk-estimator-doc-link:hover span {\n",
       "  display: block;\n",
       "}\n",
       "\n",
       "/* \"?\"-specific style due to the `<a>` HTML tag */\n",
       "\n",
       "#sk-container-id-1 a.estimator_doc_link {\n",
       "  float: right;\n",
       "  font-size: 1rem;\n",
       "  line-height: 1em;\n",
       "  font-family: monospace;\n",
       "  background-color: var(--sklearn-color-background);\n",
       "  border-radius: 1rem;\n",
       "  height: 1rem;\n",
       "  width: 1rem;\n",
       "  text-decoration: none;\n",
       "  /* unfitted */\n",
       "  color: var(--sklearn-color-unfitted-level-1);\n",
       "  border: var(--sklearn-color-unfitted-level-1) 1pt solid;\n",
       "}\n",
       "\n",
       "#sk-container-id-1 a.estimator_doc_link.fitted {\n",
       "  /* fitted */\n",
       "  border: var(--sklearn-color-fitted-level-1) 1pt solid;\n",
       "  color: var(--sklearn-color-fitted-level-1);\n",
       "}\n",
       "\n",
       "/* On hover */\n",
       "#sk-container-id-1 a.estimator_doc_link:hover {\n",
       "  /* unfitted */\n",
       "  background-color: var(--sklearn-color-unfitted-level-3);\n",
       "  color: var(--sklearn-color-background);\n",
       "  text-decoration: none;\n",
       "}\n",
       "\n",
       "#sk-container-id-1 a.estimator_doc_link.fitted:hover {\n",
       "  /* fitted */\n",
       "  background-color: var(--sklearn-color-fitted-level-3);\n",
       "}\n",
       "</style><div id=\"sk-container-id-1\" class=\"sk-top-container\"><div class=\"sk-text-repr-fallback\"><pre>LinearRegression()</pre><b>In a Jupyter environment, please rerun this cell to show the HTML representation or trust the notebook. <br />On GitHub, the HTML representation is unable to render, please try loading this page with nbviewer.org.</b></div><div class=\"sk-container\" hidden><div class=\"sk-item\"><div class=\"sk-estimator fitted sk-toggleable\"><input class=\"sk-toggleable__control sk-hidden--visually\" id=\"sk-estimator-id-1\" type=\"checkbox\" checked><label for=\"sk-estimator-id-1\" class=\"sk-toggleable__label fitted sk-toggleable__label-arrow fitted\">&nbsp;&nbsp;LinearRegression<a class=\"sk-estimator-doc-link fitted\" rel=\"noreferrer\" target=\"_blank\" href=\"https://scikit-learn.org/1.4/modules/generated/sklearn.linear_model.LinearRegression.html\">?<span>Documentation for LinearRegression</span></a><span class=\"sk-estimator-doc-link fitted\">i<span>Fitted</span></span></label><div class=\"sk-toggleable__content fitted\"><pre>LinearRegression()</pre></div> </div></div></div></div>"
      ],
      "text/plain": [
       "LinearRegression()"
      ]
     },
     "execution_count": 136,
     "metadata": {},
     "output_type": "execute_result"
    }
   ],
   "source": [
    "# Step 3: Fit the linear regression model\n",
    "from sklearn.linear_model import LinearRegression\n",
    "linear_model = LinearRegression()\n",
    "linear_model.fit(X, y)"
   ]
  },
  {
   "cell_type": "markdown",
   "id": "8056bcc4-8e20-4151-b07d-ddc8689e92a7",
   "metadata": {},
   "source": [
    "Fitting the linear regression model to the training data helps understand relationships between features and the target variable."
   ]
  },
  {
   "cell_type": "code",
   "execution_count": 140,
   "id": "13cbfa03-367e-4f52-bdc5-b91c874ef7db",
   "metadata": {},
   "outputs": [],
   "source": [
    "# Step 4: Evaluate the model on test data\n",
    "X_test = test_data.drop(columns=['MPG'])\n",
    "y_test = test_data['MPG']\n",
    "X_test = pd.get_dummies(X_test, drop_first=True)\n",
    "\n",
    "\n",
    "# Ensure that train and test sets have the same columns\n",
    "X_test = X_test.reindex(columns=X.columns, fill_value=0)\n",
    "\n",
    "y_pred = linear_model.predict(X_test)"
   ]
  },
  {
   "cell_type": "markdown",
   "id": "ca4c04af-af18-4637-bb9a-cea602daeb90",
   "metadata": {},
   "source": [
    "Separate features and target from the test dataset to properly evaluate model performance andd Ensure that train and test datasets have matching columns to avoid errors during prediction."
   ]
  },
  {
   "cell_type": "code",
   "execution_count": 148,
   "id": "f2c59465-20bc-422b-8787-010e279a45d5",
   "metadata": {},
   "outputs": [
    {
     "name": "stdout",
     "output_type": "stream",
     "text": [
      "Mean Squared Error: 11.033748884888833\n",
      "R^2 Score: 0.8307739747860869\n"
     ]
    }
   ],
   "source": [
    "# Step 5: Calculate performance metrics\n",
    "mse = mean_squared_error(y_test, y_pred)\n",
    "r2 = r2_score(y_test, y_pred)\n",
    "print(f\"Mean Squared Error: {mse}\")\n",
    "print(f\"R^2 Score: {r2}\")"
   ]
  },
  {
   "cell_type": "markdown",
   "id": "a63492c8-9389-40cd-84bc-d60efa08a701",
   "metadata": {},
   "source": [
    "Calculate MSE and R² to evaluate model performance; a lower MSE and higher R² generally indicate better model fit."
   ]
  },
  {
   "cell_type": "code",
   "execution_count": 146,
   "id": "9ad1f500-c7f9-4448-809e-588132910302",
   "metadata": {},
   "outputs": [
    {
     "name": "stdout",
     "output_type": "stream",
     "text": [
      "Feature Coefficients:\n",
      " Displacement    11.683985\n",
      "Acceleration     1.128881\n",
      "Model Year       0.780211\n",
      "Cylinders       -0.740565\n",
      "US Made         -2.608378\n",
      "Horsepower      -4.010933\n",
      "Weight         -24.469658\n",
      "dtype: float64\n"
     ]
    }
   ],
   "source": [
    "# Step 6: Analyze significant attributes\n",
    "coefficients = pd.Series(linear_model.coef_, index=X.columns)\n",
    "print(\"Feature Coefficients:\\n\", coefficients.sort_values(ascending=False))"
   ]
  },
  {
   "cell_type": "markdown",
   "id": "b9e7b38a-0f74-45c7-9c2d-ca3c7fc59b5f",
   "metadata": {},
   "source": [
    "Analyzing feature coefficients helps in understanding the impact of each attribute on the target variable."
   ]
  },
  {
   "cell_type": "code",
   "execution_count": 150,
   "id": "b6cc0f18-51c5-4631-af5f-eccccf404b9a",
   "metadata": {},
   "outputs": [
    {
     "data": {
      "image/png": "[encoded data removed]",
      "text/plain": [
       "<Figure size 1000x600 with 1 Axes>"
      ]
     },
     "metadata": {},
     "output_type": "display_data"
    }
   ],
   "source": [
    "# Step 7: Visualize significant attributes\n",
    "plt.figure(figsize=(10, 6))\n",
    "coefficients.sort_values(ascending=False).plot(kind='bar')\n",
    "plt.title('Feature Importance for Predicting MPG')\n",
    "plt.xlabel('Features')\n",
    "plt.ylabel('Coefficient Value')\n",
    "plt.show()"
   ]
  },
  {
   "cell_type": "markdown",
   "id": "80d31b76-c92c-4973-930f-56cb7e01b01f",
   "metadata": {},
   "source": [
    "### Figure1:\n",
    "Feature Importance for Predicting MPG."
   ]
  },
  {
   "cell_type": "markdown",
   "id": "21d3f7f6-5e23-468b-abb7-a9f74b6b6be9",
   "metadata": {},
   "source": [
    "### Discussion on Significant Attributes\n",
    "The coefficients from the linear regression model show the relationship between each attribute and the target (MPG). Positive coefficients indicate features that increase MPG, while negative coefficients indicate features that decrease MPG.\n",
    "\n",
    "Based on the feature coefficients, here are some key insights that can help the manufacturer:\n",
    "\n",
    "1. **Weight**: If weight has a negative coefficient, reducing the vehicle's weight can significantly improve fuel efficiency. This can be achieved by using lighter materials in the car's design.\n",
    "2. **Horsepower**: If horsepower has a negative impact, the manufacturer could focus on optimizing engine performance to achieve a balance between power and fuel efficiency.\n",
    "3. **Displacement**: A high displacement often indicates a larger engine size, which could decrease MPG. Reducing engine displacement or using more efficient engine technology could help.\n",
    "4. **Acceleration**: If acceleration has a negative coefficient, it suggests that vehicles with higher acceleration tend to have lower MPG. The manufacturer may consider limiting acceleration rates or improving the efficiency of acceleration to save fuel.\n",
    "\n",
    "These insights can help the manufacturer prioritize which features to modify in order to build a more fuel-efficient vehicle. Reducing weight and optimizing engine performance can have a significant impact on MPG, leading to better fuel economy and potentially increasing the car's value in the market.\n"
   ]
  },
  {
   "cell_type": "markdown",
   "id": "649e2cb7-0dc2-4635-ac7e-8cb36dc1496c",
   "metadata": {},
   "source": [
    "### Q3: Task 3:\n",
    "Run a model using forwards/backwards selections and review those results. See if they differ from Task 2 and compare them using metrics such as MSE or AIC."
   ]
  },
  {
   "cell_type": "markdown",
   "id": "ab01d9c5-a412-4aec-bc77-3e334d7623b1",
   "metadata": {},
   "source": [
    "### A3: \n",
    "In Task 3, I applied forward and backward selection methods to identify the best subset of features for predicting MPG. This comparison helps to determine whether the reduced feature sets from these selection methods provide a better model compared to the complete set used in Task 2. I used metrics such as Mean Squared Error (MSE) and Akaike Information Criterion (AIC) to evaluate the model's performance in terms of accuracy and complexity. This comparison is crucial to determine if reducing the number of features can improve model interpretability and maintain or enhance performance."
   ]
  },
  {
   "cell_type": "code",
   "execution_count": 187,
   "id": "67f1a28a-2587-43ce-8c66-c48da92d7b48",
   "metadata": {},
   "outputs": [],
   "source": [
    "# Task 3: Forward/Backward Selection for Feature Selection\n",
    "# Step 1: Use Sequential Feature Selector for Forward Selection\n",
    "sfs_forward = SFS(LinearRegression(), k_features='best', forward=True, floating=False, scoring='neg_mean_squared_error', cv=5)\n",
    "sfs_forward = sfs_forward.fit(X, y)"
   ]
  },
  {
   "cell_type": "markdown",
   "id": "b60e3e40-4899-486c-a946-ec0b630b6a0a",
   "metadata": {},
   "source": [
    "Using forward selection to choose features helps in building a more parsimonious model by selecting only important attributes."
   ]
  },
  {
   "cell_type": "code",
   "execution_count": 189,
   "id": "7c0b81ad-2c6e-4ad0-805f-16babd88fd7a",
   "metadata": {},
   "outputs": [],
   "source": [
    "# Step 2: Use Sequential Feature Selector for Backward Selection\n",
    "sfs_backward = SFS(LinearRegression(), k_features='best', forward=False, floating=False, scoring='neg_mean_squared_error', cv=5)\n",
    "sfs_backward = sfs_backward.fit(X, y)"
   ]
  },
  {
   "cell_type": "markdown",
   "id": "862fb122-4e61-4097-b7d4-f2a176c0f7be",
   "metadata": {},
   "source": [
    "Using backward selection to reduce features ensures that only the most significant features are retained for better model performance."
   ]
  },
  {
   "cell_type": "code",
   "execution_count": 193,
   "id": "84bf2185-1fdc-415f-a755-884184cfcaac",
   "metadata": {},
   "outputs": [
    {
     "name": "stdout",
     "output_type": "stream",
     "text": [
      "Selected Features (Forward Selection): ['Cylinders', 'Displacement', 'Weight', 'Acceleration', 'Model Year', 'US Made']\n",
      "Selected Features (Backward Selection): ['Cylinders', 'Displacement', 'Weight', 'Acceleration', 'Model Year', 'US Made']\n"
     ]
    }
   ],
   "source": [
    "\n",
    "# Step 3: Get selected features\n",
    "selected_features_forward = list(sfs_forward.k_feature_names_)\n",
    "selected_features_backward = list(sfs_backward.k_feature_names_)\n",
    "print(\"Selected Features (Forward Selection):\", selected_features_forward)\n",
    "print(\"Selected Features (Backward Selection):\", selected_features_backward)"
   ]
  },
  {
   "cell_type": "markdown",
   "id": "b2898bed-622a-4382-a27a-01c29b68a09a",
   "metadata": {},
   "source": [
    "Extracting selected features from both forward and backward selection allows for comparison of different feature sets."
   ]
  },
  {
   "cell_type": "code",
   "execution_count": 231,
   "id": "b16b44c1-64fc-43bc-91eb-d21c483a14c2",
   "metadata": {},
   "outputs": [
    {
     "name": "stdout",
     "output_type": "stream",
     "text": [
      "Mean Squared Error (Forward Selection): 11.024718238942755\n",
      "Mean Squared Error (Backward Selection): 11.024718238942755\n"
     ]
    }
   ],
   "source": [
    "# Step 4: Fit models with selected features and compare performance\n",
    "# Forward Selection Model\n",
    "X_forward = X[list(selected_features_forward)]\n",
    "linear_model_forward = LinearRegression()\n",
    "linear_model_forward.fit(X_forward, y)\n",
    "y_pred_forward = linear_model_forward.predict(X_test[list(selected_features_forward)])\n",
    "mse_forward = mean_squared_error(y_test, y_pred_forward)\n",
    "print(f\"Mean Squared Error (Forward Selection): {mse_forward}\")\n",
    "# Backward Selection Model\n",
    "X_backward = X[list(selected_features_backward)]\n",
    "linear_model_backward = LinearRegression()\n",
    "linear_model_backward.fit(X_backward, y)\n",
    "y_pred_backward = linear_model_backward.predict(X_test[list(selected_features_backward)])\n",
    "mse_backward = mean_squared_error(y_test, y_pred_backward)\n",
    "print(f\"Mean Squared Error (Backward Selection): {mse_backward}\")"
   ]
  },
  {
   "cell_type": "markdown",
   "id": "9cb79a9c-5d93-4dfe-a846-86cf4731adca",
   "metadata": {},
   "source": [
    "Fitting models with the selected features allows you to assess the performance of feature sets obtained from forward and backward selection, ensuring you identify the optimal subset of features for prediction."
   ]
  },
  {
   "cell_type": "code",
   "execution_count": 199,
   "id": "2cb03ea4-f9a3-4018-b0a4-46f0ae58378f",
   "metadata": {},
   "outputs": [
    {
     "name": "stdout",
     "output_type": "stream",
     "text": [
      "AIC for Full Model: 1644.5684427367637\n",
      "AIC for Forward Selection Model: 1644.5443436486664\n",
      "AIC for Backward Selection Model: 1644.5443436486664\n"
     ]
    }
   ],
   "source": [
    "# Step 5: Compare models using AIC (using statsmodels)\n",
    "X_const = sm.add_constant(X)\n",
    "model_full = sm.OLS(y, X_const).fit()\n",
    "print(f\"AIC for Full Model: {model_full.aic}\")\n",
    "\n",
    "X_const_forward = sm.add_constant(X_forward)\n",
    "model_forward = sm.OLS(y, X_const_forward).fit()\n",
    "print(f\"AIC for Forward Selection Model: {model_forward.aic}\")\n",
    "\n",
    "X_const_backward = sm.add_constant(X_backward)\n",
    "model_backward = sm.OLS(y, X_const_backward).fit()\n",
    "print(f\"AIC for Backward Selection Model: {model_backward.aic}\")\n"
   ]
  },
  {
   "cell_type": "markdown",
   "id": "1c7bf288-e253-4e52-b7c9-15c3f4c06f7a",
   "metadata": {},
   "source": [
    "Using AIC to compare model performance provides insight into model complexity and goodness of fit."
   ]
  },
  {
   "cell_type": "markdown",
   "id": "87bc1043-f5a5-4089-98b6-b37d0b53e026",
   "metadata": {},
   "source": [
    "### Q4: Task 4:\n",
    "A clear conclusion for the carmaker would be to understand what they should prioritize in upcoming developments based on your results.  Tie that into how the car industry works and how competitors have done similar tasks (this will involve research unless you really know cars).\n",
    "\n"
   ]
  },
  {
   "cell_type": "markdown",
   "id": "e1bf3f0d-0548-448f-9bc2-554f791095fa",
   "metadata": {},
   "source": [
    "### A4: Task 4: Conclusion for the Carmake\n",
    "Based on the analysis, the carmaker should prioritize the following aspects in upcoming developments:\n",
    "\n",
    "1. **Weight Reduction**: As weight has a significant negative impact on fuel efficiency, reducing the overall weight of the vehicle should be a primary focus. This can be achieved through lightweight materials such as aluminum or carbon fiber composites, which have been adopted by industry leaders like Tesla and BMW to improve energy efficiency.\n",
    "2. **Engine Optimization**: Horsepower negatively affects fuel efficiency, suggesting that optimizing engine performance to balance power and economy is crucial. Competitors such as Toyota have successfully implemented hybrid engine technology to provide efficient power without compromising performance.\n",
    "3. **Engine Displacement**: Reducing engine displacement or utilizing more efficient engine technology can help improve MPG. Manufacturers like Honda have employed turbocharged small-displacement engines to achieve higher fuel efficiency without sacrificing power.\n",
    "4. **Aerodynamics and Acceleration Efficiency**: Improving aerodynamics and limiting unnecessary acceleration can also contribute to better fuel efficiency. Companies like Mercedes-Benz and Audi have invested in aerodynamic designs to enhance vehicle efficiency.\n",
    "\n",
    "By focusing on these aspects, the carmaker can build a more competitive, fuel-efficient vehicle that aligns with consumer demand for lower fuel costs and sustainability. These changes will help the company stay competitive in an industry where efficiency and environmental concerns are becoming increasingly important.\n"
   ]
  },
  {
   "cell_type": "markdown",
   "id": "489eb400-003d-4847-a906-91c008676da7",
   "metadata": {},
   "source": [
    "# Conclusion"
   ]
  },
  {
   "cell_type": "markdown",
   "id": "d0c96ae0-062e-430d-bbf3-ab69bfdd934d",
   "metadata": {},
   "source": [
    "The analysis conducted in this project got a comprehensive understanding of the factors affecting fuel efficiency in automobiles. By cleansing the dataset and using regression models, significant insights were gained into the attributes that most impact miles per gallon (MPG). It was found that reducing vehicle weight, optimizing horsepower, and managing engine displacement are critical for improving fuel efficiency. The use of forward and backward selection methods further helped in identifying the optimal feature subsets that contribute most to predicting MPG.\n",
    "\n",
    "For the carmaker, the recommendations focus on reducing vehicle weight through the use of lightweight materials, optimizing engine performance for better balance between power and fuel consumption, and potentially reducing engine displacement or adopting more efficient engine technology. By implementing these changes, the car manufacturer can enhance fuel efficiency, align with consumer demand for more economical cars, and ultimately increase vehicle market value."
   ]
  },
  {
   "cell_type": "markdown",
   "id": "ee48b7cf-5e90-4363-93d2-5638f41f0ae6",
   "metadata": {},
   "source": [
    "# Refernces "
   ]
  },
  {
   "cell_type": "markdown",
   "id": "72b86fb3-a621-4e4a-b760-de711c4315fb",
   "metadata": {},
   "source": [
    "American Psychological Association. (2020). Publication manual of the American Psychological Association (7th ed.).\n",
    "\n",
    "Pedregosa, F., Varoquaux, G., Gramfort, A., Michel, V., Thirion, B., Grisel, O., … & Duchesnay, É. (2011). Scikit-learn: Machine learning in Python. Journal of Machine Learning Research, 12, 2825-2830. https://doi.org/10.5555/1953048.2078195\n",
    "\n",
    "Seabold, S., & Perktold, J. (2010). Statsmodels: Econometric and statistical modeling with Python. In 9th Python in Science Conference.\n",
    "\n",
    "Raschka, S. (2018). Mlxtend: Providing machine learning and data science utilities and extensions to Python’s scientific computing stack. Journal of Open Source Software, 3(24), 638. https://doi.org/10.21105/joss.00638\n",
    "\n",
    "Van Rossum, G., & Drake, F. L. (2009). Python 3 reference manual. CreateSpace.\n"
   ]
  },
  {
   "cell_type": "code",
   "execution_count": null,
   "id": "201ce5f5-0424-4433-8f0a-16f6d34ef18a",
   "metadata": {},
   "outputs": [],
   "source": []
  }
 ],
 "metadata": {
  "kernelspec": {
   "display_name": "Python 3 (ipykernel)",
   "language": "python",
   "name": "python3"
  },
  "language_info": {
   "codemirror_mode": {
    "name": "ipython",
    "version": 3
   },
   "file_extension": ".py",
   "mimetype": "text/x-python",
   "name": "python",
   "nbconvert_exporter": "python",
   "pygments_lexer": "ipython3",
   "version": "3.12.4"
  }
 },
 "nbformat": 4,
 "nbformat_minor": 5
}
