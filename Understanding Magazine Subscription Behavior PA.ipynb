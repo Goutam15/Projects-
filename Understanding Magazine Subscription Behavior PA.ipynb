{
 "cells": [
  {
   "cell_type": "markdown",
   "id": "60b41328-39ad-4107-b257-1aed31ab6799",
   "metadata": {},
   "source": [
    "# Module 4 Assignment\n",
    "<h1> Understanding Magazine Subscription Behavior</h1>\n",
    "<b>University:</b> Northeastern University<br>\n",
    "<b>Instructor Name:</b> Vladimir Shapiro<br>\n",
    "<b>Date:</b> 11-23-2024<br>\n",
    "<b>Course Number:</b> ALY6020<br>\n",
    "<b>Course Name:</b> Predictive Analytics<br>\n",
    "<b>Student Name:</b> Goutham Yerramada<br>"
   ]
  },
  {
   "cell_type": "markdown",
   "id": "29dc87ac-e132-418a-91df-f126b70da4d3",
   "metadata": {},
   "source": [
    "# Assignment Problem:\n",
    "A magazine company is trying to understand last year’s decline in subscriptions. With people spending more time at home, they thought people would be spending more time reading. Using this dataset, help the company understand what is or isn’t working."
   ]
  },
  {
   "cell_type": "markdown",
   "id": "defd753c-0e92-4a2b-a486-735ea5a07c41",
   "metadata": {},
   "source": [
    "## Introduction ##"
   ]
  },
  {
   "cell_type": "markdown",
   "id": "75fd7592-646a-43a0-8876-802f47b3d842",
   "metadata": {},
   "source": [
    "Let's dive into the process of understanding the dataset and preparing it for modeling. I will clean the data step by step to ensure its high quality so our models can perform well. This involves handling missing values, removing outliers, normalizing features, and more. Once the data is ready, I'll build models to predict subscription behavior, including decision trees, logistic regression, and SVM, and finally compare their performance.\n"
   ]
  },
  {
   "cell_type": "markdown",
   "id": "d486d210-988f-4569-a544-7d5f5d9ffd32",
   "metadata": {},
   "source": [
    "## Analysis ##"
   ]
  },
  {
   "cell_type": "markdown",
   "id": "394e862a-d776-432b-a436-052ab4be1798",
   "metadata": {},
   "source": [
    "**Question 1:**\n",
    "\n",
    "**Task 1:**\n",
    "\n",
    "Use proper data cleansing techniques to ensure you have the highest quality data to model this problem. Detail your process and discuss the decisions you made to clean the data."
   ]
  },
  {
   "cell_type": "code",
   "execution_count": 218,
   "id": "929c262e-659f-4ea1-9eff-9569ae43902b",
   "metadata": {},
   "outputs": [],
   "source": [
    "# Import necessary libraries\n",
    "# Let's start by importing all the libraries we need for data handling, visualization, and model building\n",
    "import pandas as pd\n",
    "import matplotlib.pyplot as plt\n",
    "import seaborn as sns\n",
    "from sklearn.preprocessing import MinMaxScaler\n",
    "from sklearn.model_selection import train_test_split\n",
    "from sklearn.linear_model import LogisticRegression\n",
    "from sklearn.svm import SVC\n",
    "from sklearn.tree import DecisionTreeClassifier\n",
    "from sklearn.metrics import classification_report, accuracy_score, roc_curve, auc, precision_score, recall_score\n",
    "import datetime"
   ]
  },
  {
   "cell_type": "markdown",
   "id": "9487b708-2ef7-4c7c-b016-d05418b78502",
   "metadata": {},
   "source": [
    "Let's load the data from the given file path"
   ]
  },
  {
   "cell_type": "code",
   "execution_count": 38,
   "id": "e0972ffe-928f-4792-951b-155e41380cd6",
   "metadata": {},
   "outputs": [],
   "source": [
    "# Load the dataset\n",
    "file_path = '/Users/gouthammathew/Downloads/marketing_campaign-1-1.xlsx'\n",
    "df = pd.read_excel(file_path)"
   ]
  },
  {
   "cell_type": "markdown",
   "id": "023c8e70-9bc4-43a1-8ec1-b89394f784a7",
   "metadata": {},
   "source": [
    "First in **Step 1,**  let's see if i have any missing values in our dataset"
   ]
  },
  {
   "cell_type": "code",
   "execution_count": 12,
   "id": "ce018a56-0875-473a-8e65-4b4c6508a0dd",
   "metadata": {},
   "outputs": [
    {
     "name": "stdout",
     "output_type": "stream",
     "text": [
      "Missing values in each column:\n",
      " ID                      0\n",
      "Year_Birth              0\n",
      "Education               0\n",
      "Marital_Status          0\n",
      "Income                 24\n",
      "Kidhome                 0\n",
      "Teenhome                0\n",
      "Dt_Customer             0\n",
      "Recency                 0\n",
      "MntWines                0\n",
      "MntFruits               0\n",
      "MntMeatProducts         0\n",
      "MntFishProducts         0\n",
      "MntSweetProducts        0\n",
      "MntGoldProds            0\n",
      "NumDealsPurchases       0\n",
      "NumWebPurchases         0\n",
      "NumCatalogPurchases     0\n",
      "NumStorePurchases       0\n",
      "NumWebVisitsMonth       0\n",
      "AcceptedCmp3            0\n",
      "AcceptedCmp4            0\n",
      "AcceptedCmp5            0\n",
      "AcceptedCmp1            0\n",
      "AcceptedCmp2            0\n",
      "Complain                0\n",
      "Z_CostContact           0\n",
      "Z_Revenue               0\n",
      "Response                0\n",
      "dtype: int64\n"
     ]
    }
   ],
   "source": [
    "# Step 1: Check for Missing Values\n",
    "missing_values = df.isnull().sum()\n",
    "print(\"Missing values in each column:\\n\", missing_values)\n"
   ]
  },
  {
   "cell_type": "markdown",
   "id": "df05475a-95b7-4b02-8d50-810c9097bbd1",
   "metadata": {},
   "source": [
    "This output help us understand if we need to handle any missing data"
   ]
  },
  {
   "cell_type": "markdown",
   "id": "51ee2ad8-e4aa-480e-b7be-9351e359100c",
   "metadata": {},
   "source": [
    " In **Step 2,** Dropping columns that don't give us much useful information (they have constant values)"
   ]
  },
  {
   "cell_type": "code",
   "execution_count": 14,
   "id": "d2c38560-ce54-4d85-91ed-e5b6375d7681",
   "metadata": {},
   "outputs": [],
   "source": [
    "# Step 2: Drop Columns that are Not Useful for Analysis\n",
    "# Columns 'Z_CostContact' and 'Z_Revenue' have constant values (based on data sample) and can be dropped.\n",
    "df_cleaned = df.drop(columns=['Z_CostContact', 'Z_Revenue'])"
   ]
  },
  {
   "cell_type": "markdown",
   "id": "3d28b0de-7735-4cce-9711-85f6c0840b54",
   "metadata": {},
   "source": [
    "In **Step 3,** Removing rows where important values are missing, like 'Income', since they're critical for my analysis"
   ]
  },
  {
   "cell_type": "code",
   "execution_count": 16,
   "id": "2f9a388d-442a-4322-acdd-a5fd3674ee82",
   "metadata": {},
   "outputs": [],
   "source": [
    "# Step 3: Handle Missing Values\n",
    "# Remove rows with missing values in columns that are critical for analysis (e.g., 'Income')\n",
    "df_cleaned = df_cleaned.dropna(subset=['Income'])"
   ]
  },
  {
   "cell_type": "markdown",
   "id": "a24964cb-8469-4465-b994-3d1a92ba5476",
   "metadata": {},
   "source": [
    " Removing rows with missing 'Income' since it's a key variable for our analysis"
   ]
  },
  {
   "cell_type": "markdown",
   "id": "49eee4b6-5360-4013-9860-86acc9e33e5b",
   "metadata": {},
   "source": [
    "In **Step 4,** Let's find and remove outliers in 'Income' using the Interquartile Range (IQR) method"
   ]
  },
  {
   "cell_type": "code",
   "execution_count": 260,
   "id": "e9e94fd5-b2b9-4585-9da7-76994112e329",
   "metadata": {},
   "outputs": [],
   "source": [
    "# Step 4: Handle Outliers\n",
    "# Identify outliers in 'Income' using the Interquartile Range (IQR) method\n",
    "Q1 = df_cleaned['Income'].quantile(0.25)\n",
    "Q3 = df_cleaned['Income'].quantile(0.75)\n",
    "IQR = Q3 - Q1\n",
    "lower_bound = Q1 - 1.5 * IQR\n",
    "upper_bound = Q3 + 1.5 * IQR"
   ]
  },
  {
   "cell_type": "markdown",
   "id": "c7e7117d-8fed-4a6d-b2f5-6c0c102d7d76",
   "metadata": {},
   "source": [
    "Q1 = Calculating the 1st quartile of 'Income' to detect outliers \n",
    "\n",
    "Q3 = Calculating the 3rd quartile of 'Income' to detect outliers\n",
    "\n",
    "IQR = Q3 - Q1 = Calculating the interquartile range (IQR) to determine the spread of the middle 50%\n",
    "\n",
    "lower_bound = Q1 - 1.5 * IQR = Defining the lower bound for outlier detection\n",
    "\n",
    "upper_bound = Q3 + 1.5 * IQR = Defining the upper bound for outlier detection"
   ]
  },
  {
   "cell_type": "code",
   "execution_count": 20,
   "id": "f851c13b-6d4c-4263-8224-f03ff88b02cd",
   "metadata": {},
   "outputs": [],
   "source": [
    "# Filter out rows with Income outside the acceptable range\n",
    "df_cleaned = df_cleaned[(df_cleaned['Income'] >= lower_bound) & (df_cleaned['Income'] <= upper_bound)]"
   ]
  },
  {
   "cell_type": "markdown",
   "id": "b43774df-502b-4c20-9bc2-24570740c9c5",
   "metadata": {},
   "source": [
    "Filtering out rows with 'Income' outside the typical range to remove outliers"
   ]
  },
  {
   "cell_type": "markdown",
   "id": "814993cf-bcb9-4b5c-b5b8-e682129f613f",
   "metadata": {},
   "source": [
    "In **Step 5,** Changing 'Dt_Customer' to a datetime format so we can work with it more easily later"
   ]
  },
  {
   "cell_type": "code",
   "execution_count": 22,
   "id": "195591bc-2c56-48c5-b936-0aa423d6457c",
   "metadata": {},
   "outputs": [],
   "source": [
    "\n",
    "# Step 5: Convert Data Types\n",
    "# Convert 'Dt_Customer' to datetime format\n",
    "df_cleaned['Dt_Customer'] = pd.to_datetime(df_cleaned['Dt_Customer'])\n"
   ]
  },
  {
   "cell_type": "markdown",
   "id": "d18352f4-9f99-4b4d-8e17-26ee3a1fc15c",
   "metadata": {},
   "source": [
    "Converting 'Dt_Customer' to datetime for easier date manipulation"
   ]
  },
  {
   "cell_type": "markdown",
   "id": "312a646c-a50d-47b1-8061-31cddc4ef5d9",
   "metadata": {},
   "source": [
    "In **Step 6,** Converting categorical columns like 'Education' and 'Marital_Status' into numbers using one-hot encoding"
   ]
  },
  {
   "cell_type": "code",
   "execution_count": 24,
   "id": "37646dc3-f22c-47bd-ad84-ced6bc2adf38",
   "metadata": {},
   "outputs": [],
   "source": [
    "# Step 6: Encode Categorical Variables\n",
    "# Convert categorical variables like 'Education' and 'Marital_Status' to numerical using one-hot encoding\n",
    "df_cleaned = pd.get_dummies(df_cleaned, columns=['Education', 'Marital_Status'], drop_first=True)\n"
   ]
  },
  {
   "cell_type": "markdown",
   "id": "b1f3f3a8-578f-4791-942f-ffb39a1e0314",
   "metadata": {},
   "source": [
    "Applying one-hot encoding to categorical features to make them usable in modeling"
   ]
  },
  {
   "cell_type": "markdown",
   "id": "2ad1c1cb-b040-47c9-ac2f-1232ab8f7d91",
   "metadata": {},
   "source": [
    "In **Step 7,** Normalizing numerical columns to bring all features to the same scale (makes the model training easier and faster)"
   ]
  },
  {
   "cell_type": "code",
   "execution_count": 28,
   "id": "a3a159a4-49a8-43bb-bc68-8443367269d5",
   "metadata": {},
   "outputs": [],
   "source": [
    "# Step 7: Normalize Numerical Features\n",
    "# Normalize numerical features like 'Income' and spending features to bring them to a similar scale\n",
    "numerical_features = ['Income', 'Kidhome', 'Teenhome', 'Recency', 'MntWines', 'MntFruits', \n",
    "                      'MntMeatProducts', 'MntFishProducts', 'MntSweetProducts', 'MntGoldProds', \n",
    "                      'NumDealsPurchases', 'NumWebPurchases', 'NumCatalogPurchases', 'NumStorePurchases', \n",
    "                      'NumWebVisitsMonth']\n",
    "scaler = MinMaxScaler()\n",
    "df_cleaned[numerical_features] = scaler.fit_transform(df_cleaned[numerical_features])"
   ]
  },
  {
   "cell_type": "markdown",
   "id": "b3fee5b5-a0c3-42b7-a48d-d801aeeea6e1",
   "metadata": {},
   "source": [
    "Using MinMaxScaler to normalize numerical features and bring them to a common scale"
   ]
  },
  {
   "cell_type": "markdown",
   "id": "d95af527-9c34-405e-a5e5-153857cb9d6e",
   "metadata": {},
   "source": [
    "In **Step 8,** Checking for any duplicate rows and removing them to keep the data clean"
   ]
  },
  {
   "cell_type": "code",
   "execution_count": 30,
   "id": "09146c8d-b218-4e07-bce7-ded08a19fef8",
   "metadata": {},
   "outputs": [],
   "source": [
    "# Step 8: Remove Duplicate Entries\n",
    "# Check and remove any duplicate rows\n",
    "df_cleaned = df_cleaned.drop_duplicates()"
   ]
  },
  {
   "cell_type": "markdown",
   "id": "c8c977f4-cdcb-420c-a98b-dfdb6ce0120c",
   "metadata": {},
   "source": [
    "Removing duplicate rows to ensure data quality"
   ]
  },
  {
   "cell_type": "markdown",
   "id": "64a3bed8-0b0e-401c-8323-43fe0513dd01",
   "metadata": {},
   "source": [
    "In **Step 9,** Calculating the age of each customer from their birth year and adding it as a new column"
   ]
  },
  {
   "cell_type": "code",
   "execution_count": 32,
   "id": "f0ee7958-4652-49f7-9442-4d71733b17cd",
   "metadata": {},
   "outputs": [],
   "source": [
    "# Step 9: Add Age Feature\n",
    "# Calculate age from 'Year_Birth' and create an 'Age' column\n",
    "current_year = datetime.datetime.now().year\n",
    "df_cleaned['Age'] = current_year - df_cleaned['Year_Birth']"
   ]
  },
  {
   "cell_type": "markdown",
   "id": "ace17fc5-009f-4bc9-84e9-0b94319a83f9",
   "metadata": {},
   "source": [
    "Creating an 'Age' column to capture customer age for analysis"
   ]
  },
  {
   "cell_type": "markdown",
   "id": "ddc27cd1-da94-4bad-85e4-649a91d476de",
   "metadata": {},
   "source": [
    "Finally, let's get a summary of our cleaned dataset"
   ]
  },
  {
   "cell_type": "code",
   "execution_count": 34,
   "id": "82477685-c23e-451d-a0c6-0ad65fc96109",
   "metadata": {},
   "outputs": [
    {
     "name": "stdout",
     "output_type": "stream",
     "text": [
      "<class 'pandas.core.frame.DataFrame'>\n",
      "Index: 2208 entries, 0 to 2239\n",
      "Data columns (total 37 columns):\n",
      " #   Column                   Non-Null Count  Dtype         \n",
      "---  ------                   --------------  -----         \n",
      " 0   ID                       2208 non-null   int64         \n",
      " 1   Year_Birth               2208 non-null   int64         \n",
      " 2   Income                   2208 non-null   float64       \n",
      " 3   Kidhome                  2208 non-null   float64       \n",
      " 4   Teenhome                 2208 non-null   float64       \n",
      " 5   Dt_Customer              2208 non-null   datetime64[ns]\n",
      " 6   Recency                  2208 non-null   float64       \n",
      " 7   MntWines                 2208 non-null   float64       \n",
      " 8   MntFruits                2208 non-null   float64       \n",
      " 9   MntMeatProducts          2208 non-null   float64       \n",
      " 10  MntFishProducts          2208 non-null   float64       \n",
      " 11  MntSweetProducts         2208 non-null   float64       \n",
      " 12  MntGoldProds             2208 non-null   float64       \n",
      " 13  NumDealsPurchases        2208 non-null   float64       \n",
      " 14  NumWebPurchases          2208 non-null   float64       \n",
      " 15  NumCatalogPurchases      2208 non-null   float64       \n",
      " 16  NumStorePurchases        2208 non-null   float64       \n",
      " 17  NumWebVisitsMonth        2208 non-null   float64       \n",
      " 18  AcceptedCmp3             2208 non-null   int64         \n",
      " 19  AcceptedCmp4             2208 non-null   int64         \n",
      " 20  AcceptedCmp5             2208 non-null   int64         \n",
      " 21  AcceptedCmp1             2208 non-null   int64         \n",
      " 22  AcceptedCmp2             2208 non-null   int64         \n",
      " 23  Complain                 2208 non-null   int64         \n",
      " 24  Response                 2208 non-null   int64         \n",
      " 25  Education_Basic          2208 non-null   bool          \n",
      " 26  Education_Graduation     2208 non-null   bool          \n",
      " 27  Education_Master         2208 non-null   bool          \n",
      " 28  Education_PhD            2208 non-null   bool          \n",
      " 29  Marital_Status_Alone     2208 non-null   bool          \n",
      " 30  Marital_Status_Divorced  2208 non-null   bool          \n",
      " 31  Marital_Status_Married   2208 non-null   bool          \n",
      " 32  Marital_Status_Single    2208 non-null   bool          \n",
      " 33  Marital_Status_Together  2208 non-null   bool          \n",
      " 34  Marital_Status_Widow     2208 non-null   bool          \n",
      " 35  Marital_Status_YOLO      2208 non-null   bool          \n",
      " 36  Age                      2208 non-null   int64         \n",
      "dtypes: bool(11), datetime64[ns](1), float64(15), int64(10)\n",
      "memory usage: 489.5 KB\n"
     ]
    }
   ],
   "source": [
    "# Display the cleaned dataset summary\n",
    "df_cleaned.info()"
   ]
  },
  {
   "cell_type": "markdown",
   "id": "910d500f-93fd-4a98-91b6-09c15d4d1ab2",
   "metadata": {},
   "source": [
    "This gives us an overview of our cleaned data, including column types and missing values"
   ]
  },
  {
   "cell_type": "markdown",
   "id": "5920056b-8cce-4fd4-932e-c4cd3d28dcf7",
   "metadata": {},
   "source": [
    "**Answer 1:**\n",
    "\n",
    "**Discussion:**\n",
    "\n",
    "For Task 1, I cleaned the data by checking for and removing missing values, especially for key features like 'Income', to ensure the reliability of the dataset. Columns that added no value were dropped, and outliers were handled using the IQR method to prevent skewed results. I also converted date columns to proper formats, encoded categorical data numerically, normalized numerical features for consistency, and removed duplicates. Lastly, I added an 'Age' column for better segmentation. Each step focused on enhancing data quality for accurate model training and analysis.\n",
    "\n",
    "\n",
    "\n"
   ]
  },
  {
   "cell_type": "markdown",
   "id": "2a31bdb2-b7a7-4590-9d44-647c2648c5bd",
   "metadata": {},
   "source": [
    "**Question 2:**\n",
    "\n",
    "**Task 2:**\n",
    "\n",
    "Build a logistic model to accurately predict subscription behavior. Discuss which variables are significant, their business impact, and how that may help you learn about the business.\n",
    "\n"
   ]
  },
  {
   "cell_type": "markdown",
   "id": "e86d10ed-243b-4bd3-89e2-d6bd9f619294",
   "metadata": {},
   "source": [
    "In **Step 1, and 2** Building the model by first defining features and target variable, Selecting the columns we need to predict the 'Response'"
   ]
  },
  {
   "cell_type": "code",
   "execution_count": 75,
   "id": "0d3454b6-868d-4529-a348-53509ab6fdf3",
   "metadata": {},
   "outputs": [],
   "source": [
    "# Step 1: Build Logistic Regression Model\n",
    "# Step 2: Define Target Variable and Features\n",
    "# Define target variable (Response) and features\n",
    "X = df_cleaned.drop(columns=['Response', 'ID', 'Dt_Customer', 'Year_Birth'])  # Features for modeling\n",
    "y = df_cleaned['Response']  # Target variable\n"
   ]
  },
  {
   "cell_type": "markdown",
   "id": "1203b841-2b2c-4020-a08c-04f9e0ee844f",
   "metadata": {},
   "source": [
    "Features for prediction\n",
    "\n",
    "Defining target variable"
   ]
  },
  {
   "cell_type": "markdown",
   "id": "684977d4-9317-4156-931c-0228a4873dbe",
   "metadata": {},
   "source": [
    "In **Step 3,** Splitting the dataset into training and testing parts to evaluate model performance"
   ]
  },
  {
   "cell_type": "code",
   "execution_count": 83,
   "id": "9d0cefa4-c650-45e2-bd7a-f5c79ade46b3",
   "metadata": {},
   "outputs": [],
   "source": [
    "# Step 3: Split Data\n",
    "# Split the data into training and testing sets\n",
    "X_train, X_test, y_train, y_test = train_test_split(X, y, test_size=0.2, random_state=42)  # 80-20 split for training and testing\n"
   ]
  },
  {
   "cell_type": "markdown",
   "id": "9f539621-d700-4157-bc07-fb1fb1860a9f",
   "metadata": {},
   "source": [
    "Using 80-20 split"
   ]
  },
  {
   "cell_type": "markdown",
   "id": "26c79335-3d0e-4dbe-9b93-8857a500e600",
   "metadata": {},
   "source": [
    "In **Step 4,**  Initializing and training a logistic regression model"
   ]
  },
  {
   "cell_type": "code",
   "execution_count": 85,
   "id": "93e75e88-63f1-446e-a775-de831cc3c02d",
   "metadata": {},
   "outputs": [
    {
     "data": {
      "text/html": [
       "<style>#sk-container-id-1 {\n",
       "  /* Definition of color scheme common for light and dark mode */\n",
       "  --sklearn-color-text: black;\n",
       "  --sklearn-color-line: gray;\n",
       "  /* Definition of color scheme for unfitted estimators */\n",
       "  --sklearn-color-unfitted-level-0: #fff5e6;\n",
       "  --sklearn-color-unfitted-level-1: #f6e4d2;\n",
       "  --sklearn-color-unfitted-level-2: #ffe0b3;\n",
       "  --sklearn-color-unfitted-level-3: chocolate;\n",
       "  /* Definition of color scheme for fitted estimators */\n",
       "  --sklearn-color-fitted-level-0: #f0f8ff;\n",
       "  --sklearn-color-fitted-level-1: #d4ebff;\n",
       "  --sklearn-color-fitted-level-2: #b3dbfd;\n",
       "  --sklearn-color-fitted-level-3: cornflowerblue;\n",
       "\n",
       "  /* Specific color for light theme */\n",
       "  --sklearn-color-text-on-default-background: var(--sg-text-color, var(--theme-code-foreground, var(--jp-content-font-color1, black)));\n",
       "  --sklearn-color-background: var(--sg-background-color, var(--theme-background, var(--jp-layout-color0, white)));\n",
       "  --sklearn-color-border-box: var(--sg-text-color, var(--theme-code-foreground, var(--jp-content-font-color1, black)));\n",
       "  --sklearn-color-icon: #696969;\n",
       "\n",
       "  @media (prefers-color-scheme: dark) {\n",
       "    /* Redefinition of color scheme for dark theme */\n",
       "    --sklearn-color-text-on-default-background: var(--sg-text-color, var(--theme-code-foreground, var(--jp-content-font-color1, white)));\n",
       "    --sklearn-color-background: var(--sg-background-color, var(--theme-background, var(--jp-layout-color0, #111)));\n",
       "    --sklearn-color-border-box: var(--sg-text-color, var(--theme-code-foreground, var(--jp-content-font-color1, white)));\n",
       "    --sklearn-color-icon: #878787;\n",
       "  }\n",
       "}\n",
       "\n",
       "#sk-container-id-1 {\n",
       "  color: var(--sklearn-color-text);\n",
       "}\n",
       "\n",
       "#sk-container-id-1 pre {\n",
       "  padding: 0;\n",
       "}\n",
       "\n",
       "#sk-container-id-1 input.sk-hidden--visually {\n",
       "  border: 0;\n",
       "  clip: rect(1px 1px 1px 1px);\n",
       "  clip: rect(1px, 1px, 1px, 1px);\n",
       "  height: 1px;\n",
       "  margin: -1px;\n",
       "  overflow: hidden;\n",
       "  padding: 0;\n",
       "  position: absolute;\n",
       "  width: 1px;\n",
       "}\n",
       "\n",
       "#sk-container-id-1 div.sk-dashed-wrapped {\n",
       "  border: 1px dashed var(--sklearn-color-line);\n",
       "  margin: 0 0.4em 0.5em 0.4em;\n",
       "  box-sizing: border-box;\n",
       "  padding-bottom: 0.4em;\n",
       "  background-color: var(--sklearn-color-background);\n",
       "}\n",
       "\n",
       "#sk-container-id-1 div.sk-container {\n",
       "  /* jupyter's `normalize.less` sets `[hidden] { display: none; }`\n",
       "     but bootstrap.min.css set `[hidden] { display: none !important; }`\n",
       "     so we also need the `!important` here to be able to override the\n",
       "     default hidden behavior on the sphinx rendered scikit-learn.org.\n",
       "     See: https://github.com/scikit-learn/scikit-learn/issues/21755 */\n",
       "  display: inline-block !important;\n",
       "  position: relative;\n",
       "}\n",
       "\n",
       "#sk-container-id-1 div.sk-text-repr-fallback {\n",
       "  display: none;\n",
       "}\n",
       "\n",
       "div.sk-parallel-item,\n",
       "div.sk-serial,\n",
       "div.sk-item {\n",
       "  /* draw centered vertical line to link estimators */\n",
       "  background-image: linear-gradient(var(--sklearn-color-text-on-default-background), var(--sklearn-color-text-on-default-background));\n",
       "  background-size: 2px 100%;\n",
       "  background-repeat: no-repeat;\n",
       "  background-position: center center;\n",
       "}\n",
       "\n",
       "/* Parallel-specific style estimator block */\n",
       "\n",
       "#sk-container-id-1 div.sk-parallel-item::after {\n",
       "  content: \"\";\n",
       "  width: 100%;\n",
       "  border-bottom: 2px solid var(--sklearn-color-text-on-default-background);\n",
       "  flex-grow: 1;\n",
       "}\n",
       "\n",
       "#sk-container-id-1 div.sk-parallel {\n",
       "  display: flex;\n",
       "  align-items: stretch;\n",
       "  justify-content: center;\n",
       "  background-color: var(--sklearn-color-background);\n",
       "  position: relative;\n",
       "}\n",
       "\n",
       "#sk-container-id-1 div.sk-parallel-item {\n",
       "  display: flex;\n",
       "  flex-direction: column;\n",
       "}\n",
       "\n",
       "#sk-container-id-1 div.sk-parallel-item:first-child::after {\n",
       "  align-self: flex-end;\n",
       "  width: 50%;\n",
       "}\n",
       "\n",
       "#sk-container-id-1 div.sk-parallel-item:last-child::after {\n",
       "  align-self: flex-start;\n",
       "  width: 50%;\n",
       "}\n",
       "\n",
       "#sk-container-id-1 div.sk-parallel-item:only-child::after {\n",
       "  width: 0;\n",
       "}\n",
       "\n",
       "/* Serial-specific style estimator block */\n",
       "\n",
       "#sk-container-id-1 div.sk-serial {\n",
       "  display: flex;\n",
       "  flex-direction: column;\n",
       "  align-items: center;\n",
       "  background-color: var(--sklearn-color-background);\n",
       "  padding-right: 1em;\n",
       "  padding-left: 1em;\n",
       "}\n",
       "\n",
       "\n",
       "/* Toggleable style: style used for estimator/Pipeline/ColumnTransformer box that is\n",
       "clickable and can be expanded/collapsed.\n",
       "- Pipeline and ColumnTransformer use this feature and define the default style\n",
       "- Estimators will overwrite some part of the style using the `sk-estimator` class\n",
       "*/\n",
       "\n",
       "/* Pipeline and ColumnTransformer style (default) */\n",
       "\n",
       "#sk-container-id-1 div.sk-toggleable {\n",
       "  /* Default theme specific background. It is overwritten whether we have a\n",
       "  specific estimator or a Pipeline/ColumnTransformer */\n",
       "  background-color: var(--sklearn-color-background);\n",
       "}\n",
       "\n",
       "/* Toggleable label */\n",
       "#sk-container-id-1 label.sk-toggleable__label {\n",
       "  cursor: pointer;\n",
       "  display: block;\n",
       "  width: 100%;\n",
       "  margin-bottom: 0;\n",
       "  padding: 0.5em;\n",
       "  box-sizing: border-box;\n",
       "  text-align: center;\n",
       "}\n",
       "\n",
       "#sk-container-id-1 label.sk-toggleable__label-arrow:before {\n",
       "  /* Arrow on the left of the label */\n",
       "  content: \"▸\";\n",
       "  float: left;\n",
       "  margin-right: 0.25em;\n",
       "  color: var(--sklearn-color-icon);\n",
       "}\n",
       "\n",
       "#sk-container-id-1 label.sk-toggleable__label-arrow:hover:before {\n",
       "  color: var(--sklearn-color-text);\n",
       "}\n",
       "\n",
       "/* Toggleable content - dropdown */\n",
       "\n",
       "#sk-container-id-1 div.sk-toggleable__content {\n",
       "  max-height: 0;\n",
       "  max-width: 0;\n",
       "  overflow: hidden;\n",
       "  text-align: left;\n",
       "  /* unfitted */\n",
       "  background-color: var(--sklearn-color-unfitted-level-0);\n",
       "}\n",
       "\n",
       "#sk-container-id-1 div.sk-toggleable__content.fitted {\n",
       "  /* fitted */\n",
       "  background-color: var(--sklearn-color-fitted-level-0);\n",
       "}\n",
       "\n",
       "#sk-container-id-1 div.sk-toggleable__content pre {\n",
       "  margin: 0.2em;\n",
       "  border-radius: 0.25em;\n",
       "  color: var(--sklearn-color-text);\n",
       "  /* unfitted */\n",
       "  background-color: var(--sklearn-color-unfitted-level-0);\n",
       "}\n",
       "\n",
       "#sk-container-id-1 div.sk-toggleable__content.fitted pre {\n",
       "  /* unfitted */\n",
       "  background-color: var(--sklearn-color-fitted-level-0);\n",
       "}\n",
       "\n",
       "#sk-container-id-1 input.sk-toggleable__control:checked~div.sk-toggleable__content {\n",
       "  /* Expand drop-down */\n",
       "  max-height: 200px;\n",
       "  max-width: 100%;\n",
       "  overflow: auto;\n",
       "}\n",
       "\n",
       "#sk-container-id-1 input.sk-toggleable__control:checked~label.sk-toggleable__label-arrow:before {\n",
       "  content: \"▾\";\n",
       "}\n",
       "\n",
       "/* Pipeline/ColumnTransformer-specific style */\n",
       "\n",
       "#sk-container-id-1 div.sk-label input.sk-toggleable__control:checked~label.sk-toggleable__label {\n",
       "  color: var(--sklearn-color-text);\n",
       "  background-color: var(--sklearn-color-unfitted-level-2);\n",
       "}\n",
       "\n",
       "#sk-container-id-1 div.sk-label.fitted input.sk-toggleable__control:checked~label.sk-toggleable__label {\n",
       "  background-color: var(--sklearn-color-fitted-level-2);\n",
       "}\n",
       "\n",
       "/* Estimator-specific style */\n",
       "\n",
       "/* Colorize estimator box */\n",
       "#sk-container-id-1 div.sk-estimator input.sk-toggleable__control:checked~label.sk-toggleable__label {\n",
       "  /* unfitted */\n",
       "  background-color: var(--sklearn-color-unfitted-level-2);\n",
       "}\n",
       "\n",
       "#sk-container-id-1 div.sk-estimator.fitted input.sk-toggleable__control:checked~label.sk-toggleable__label {\n",
       "  /* fitted */\n",
       "  background-color: var(--sklearn-color-fitted-level-2);\n",
       "}\n",
       "\n",
       "#sk-container-id-1 div.sk-label label.sk-toggleable__label,\n",
       "#sk-container-id-1 div.sk-label label {\n",
       "  /* The background is the default theme color */\n",
       "  color: var(--sklearn-color-text-on-default-background);\n",
       "}\n",
       "\n",
       "/* On hover, darken the color of the background */\n",
       "#sk-container-id-1 div.sk-label:hover label.sk-toggleable__label {\n",
       "  color: var(--sklearn-color-text);\n",
       "  background-color: var(--sklearn-color-unfitted-level-2);\n",
       "}\n",
       "\n",
       "/* Label box, darken color on hover, fitted */\n",
       "#sk-container-id-1 div.sk-label.fitted:hover label.sk-toggleable__label.fitted {\n",
       "  color: var(--sklearn-color-text);\n",
       "  background-color: var(--sklearn-color-fitted-level-2);\n",
       "}\n",
       "\n",
       "/* Estimator label */\n",
       "\n",
       "#sk-container-id-1 div.sk-label label {\n",
       "  font-family: monospace;\n",
       "  font-weight: bold;\n",
       "  display: inline-block;\n",
       "  line-height: 1.2em;\n",
       "}\n",
       "\n",
       "#sk-container-id-1 div.sk-label-container {\n",
       "  text-align: center;\n",
       "}\n",
       "\n",
       "/* Estimator-specific */\n",
       "#sk-container-id-1 div.sk-estimator {\n",
       "  font-family: monospace;\n",
       "  border: 1px dotted var(--sklearn-color-border-box);\n",
       "  border-radius: 0.25em;\n",
       "  box-sizing: border-box;\n",
       "  margin-bottom: 0.5em;\n",
       "  /* unfitted */\n",
       "  background-color: var(--sklearn-color-unfitted-level-0);\n",
       "}\n",
       "\n",
       "#sk-container-id-1 div.sk-estimator.fitted {\n",
       "  /* fitted */\n",
       "  background-color: var(--sklearn-color-fitted-level-0);\n",
       "}\n",
       "\n",
       "/* on hover */\n",
       "#sk-container-id-1 div.sk-estimator:hover {\n",
       "  /* unfitted */\n",
       "  background-color: var(--sklearn-color-unfitted-level-2);\n",
       "}\n",
       "\n",
       "#sk-container-id-1 div.sk-estimator.fitted:hover {\n",
       "  /* fitted */\n",
       "  background-color: var(--sklearn-color-fitted-level-2);\n",
       "}\n",
       "\n",
       "/* Specification for estimator info (e.g. \"i\" and \"?\") */\n",
       "\n",
       "/* Common style for \"i\" and \"?\" */\n",
       "\n",
       ".sk-estimator-doc-link,\n",
       "a:link.sk-estimator-doc-link,\n",
       "a:visited.sk-estimator-doc-link {\n",
       "  float: right;\n",
       "  font-size: smaller;\n",
       "  line-height: 1em;\n",
       "  font-family: monospace;\n",
       "  background-color: var(--sklearn-color-background);\n",
       "  border-radius: 1em;\n",
       "  height: 1em;\n",
       "  width: 1em;\n",
       "  text-decoration: none !important;\n",
       "  margin-left: 1ex;\n",
       "  /* unfitted */\n",
       "  border: var(--sklearn-color-unfitted-level-1) 1pt solid;\n",
       "  color: var(--sklearn-color-unfitted-level-1);\n",
       "}\n",
       "\n",
       ".sk-estimator-doc-link.fitted,\n",
       "a:link.sk-estimator-doc-link.fitted,\n",
       "a:visited.sk-estimator-doc-link.fitted {\n",
       "  /* fitted */\n",
       "  border: var(--sklearn-color-fitted-level-1) 1pt solid;\n",
       "  color: var(--sklearn-color-fitted-level-1);\n",
       "}\n",
       "\n",
       "/* On hover */\n",
       "div.sk-estimator:hover .sk-estimator-doc-link:hover,\n",
       ".sk-estimator-doc-link:hover,\n",
       "div.sk-label-container:hover .sk-estimator-doc-link:hover,\n",
       ".sk-estimator-doc-link:hover {\n",
       "  /* unfitted */\n",
       "  background-color: var(--sklearn-color-unfitted-level-3);\n",
       "  color: var(--sklearn-color-background);\n",
       "  text-decoration: none;\n",
       "}\n",
       "\n",
       "div.sk-estimator.fitted:hover .sk-estimator-doc-link.fitted:hover,\n",
       ".sk-estimator-doc-link.fitted:hover,\n",
       "div.sk-label-container:hover .sk-estimator-doc-link.fitted:hover,\n",
       ".sk-estimator-doc-link.fitted:hover {\n",
       "  /* fitted */\n",
       "  background-color: var(--sklearn-color-fitted-level-3);\n",
       "  color: var(--sklearn-color-background);\n",
       "  text-decoration: none;\n",
       "}\n",
       "\n",
       "/* Span, style for the box shown on hovering the info icon */\n",
       ".sk-estimator-doc-link span {\n",
       "  display: none;\n",
       "  z-index: 9999;\n",
       "  position: relative;\n",
       "  font-weight: normal;\n",
       "  right: .2ex;\n",
       "  padding: .5ex;\n",
       "  margin: .5ex;\n",
       "  width: min-content;\n",
       "  min-width: 20ex;\n",
       "  max-width: 50ex;\n",
       "  color: var(--sklearn-color-text);\n",
       "  box-shadow: 2pt 2pt 4pt #999;\n",
       "  /* unfitted */\n",
       "  background: var(--sklearn-color-unfitted-level-0);\n",
       "  border: .5pt solid var(--sklearn-color-unfitted-level-3);\n",
       "}\n",
       "\n",
       ".sk-estimator-doc-link.fitted span {\n",
       "  /* fitted */\n",
       "  background: var(--sklearn-color-fitted-level-0);\n",
       "  border: var(--sklearn-color-fitted-level-3);\n",
       "}\n",
       "\n",
       ".sk-estimator-doc-link:hover span {\n",
       "  display: block;\n",
       "}\n",
       "\n",
       "/* \"?\"-specific style due to the `<a>` HTML tag */\n",
       "\n",
       "#sk-container-id-1 a.estimator_doc_link {\n",
       "  float: right;\n",
       "  font-size: 1rem;\n",
       "  line-height: 1em;\n",
       "  font-family: monospace;\n",
       "  background-color: var(--sklearn-color-background);\n",
       "  border-radius: 1rem;\n",
       "  height: 1rem;\n",
       "  width: 1rem;\n",
       "  text-decoration: none;\n",
       "  /* unfitted */\n",
       "  color: var(--sklearn-color-unfitted-level-1);\n",
       "  border: var(--sklearn-color-unfitted-level-1) 1pt solid;\n",
       "}\n",
       "\n",
       "#sk-container-id-1 a.estimator_doc_link.fitted {\n",
       "  /* fitted */\n",
       "  border: var(--sklearn-color-fitted-level-1) 1pt solid;\n",
       "  color: var(--sklearn-color-fitted-level-1);\n",
       "}\n",
       "\n",
       "/* On hover */\n",
       "#sk-container-id-1 a.estimator_doc_link:hover {\n",
       "  /* unfitted */\n",
       "  background-color: var(--sklearn-color-unfitted-level-3);\n",
       "  color: var(--sklearn-color-background);\n",
       "  text-decoration: none;\n",
       "}\n",
       "\n",
       "#sk-container-id-1 a.estimator_doc_link.fitted:hover {\n",
       "  /* fitted */\n",
       "  background-color: var(--sklearn-color-fitted-level-3);\n",
       "}\n",
       "</style><div id=\"sk-container-id-1\" class=\"sk-top-container\"><div class=\"sk-text-repr-fallback\"><pre>LogisticRegression(max_iter=1000)</pre><b>In a Jupyter environment, please rerun this cell to show the HTML representation or trust the notebook. <br />On GitHub, the HTML representation is unable to render, please try loading this page with nbviewer.org.</b></div><div class=\"sk-container\" hidden><div class=\"sk-item\"><div class=\"sk-estimator fitted sk-toggleable\"><input class=\"sk-toggleable__control sk-hidden--visually\" id=\"sk-estimator-id-1\" type=\"checkbox\" checked><label for=\"sk-estimator-id-1\" class=\"sk-toggleable__label fitted sk-toggleable__label-arrow fitted\">&nbsp;&nbsp;LogisticRegression<a class=\"sk-estimator-doc-link fitted\" rel=\"noreferrer\" target=\"_blank\" href=\"https://scikit-learn.org/1.4/modules/generated/sklearn.linear_model.LogisticRegression.html\">?<span>Documentation for LogisticRegression</span></a><span class=\"sk-estimator-doc-link fitted\">i<span>Fitted</span></span></label><div class=\"sk-toggleable__content fitted\"><pre>LogisticRegression(max_iter=1000)</pre></div> </div></div></div></div>"
      ],
      "text/plain": [
       "LogisticRegression(max_iter=1000)"
      ]
     },
     "execution_count": 85,
     "metadata": {},
     "output_type": "execute_result"
    }
   ],
   "source": [
    "# Step 4: Train Logistic Regression Model\n",
    "# Train the logistic regression model\n",
    "log_model = LogisticRegression(max_iter=1000)  # Creating a logistic regression model\n",
    "log_model.fit(X_train, y_train)  # Fitting the model to the training data"
   ]
  },
  {
   "cell_type": "markdown",
   "id": "f2e6e6ec-26b7-40bd-b8e7-a99756840522",
   "metadata": {},
   "source": [
    "Creating the model Training the model"
   ]
  },
  {
   "cell_type": "markdown",
   "id": "c31e6333-ac78-4c86-b2b9-7565d4e9dc6c",
   "metadata": {},
   "source": [
    "In **Step 5,** Making predictions and evaluating how well the model performs"
   ]
  },
  {
   "cell_type": "code",
   "execution_count": 88,
   "id": "0b8da1bf-ec50-421d-ad28-656881810dae",
   "metadata": {},
   "outputs": [
    {
     "name": "stdout",
     "output_type": "stream",
     "text": [
      "Model Accuracy: 0.87\n"
     ]
    }
   ],
   "source": [
    "# Step 5: Make Predictions and Evaluate Model\n",
    "# Make predictions and evaluate the model\n",
    "y_pred = log_model.predict(X_test)  # Making predictions on the test set\n",
    "accuracy = accuracy_score(y_test, y_pred)  # Calculating the accuracy of the model\n",
    "print(f\"Model Accuracy: {accuracy:.2f}\")  # Displaying model accuracy"
   ]
  },
  {
   "cell_type": "markdown",
   "id": "1753c6b6-ecee-4771-8a99-a4e1595976a7",
   "metadata": {},
   "source": [
    "In **Step 6,** Generating a report to show model performance on different metrics"
   ]
  },
  {
   "cell_type": "code",
   "execution_count": 286,
   "id": "fe049cde-a76c-4500-9e80-8929eb21a418",
   "metadata": {},
   "outputs": [
    {
     "name": "stdout",
     "output_type": "stream",
     "text": [
      "              precision    recall  f1-score   support\n",
      "\n",
      "           0       0.88      0.98      0.93       367\n",
      "           1       0.75      0.36      0.49        75\n",
      "\n",
      "    accuracy                           0.87       442\n",
      "   macro avg       0.82      0.67      0.71       442\n",
      "weighted avg       0.86      0.87      0.85       442\n",
      "\n"
     ]
    }
   ],
   "source": [
    "# Step 6: Display Classification Report\n",
    "# Display detailed classification report\n",
    "print(classification_report(y_test, y_pred))  # Showing precision, recall, f1-score for each class"
   ]
  },
  {
   "cell_type": "markdown",
   "id": "a1637f62-3ddb-499a-928a-a2b317751f4b",
   "metadata": {},
   "source": [
    "Displayed classification metrics"
   ]
  },
  {
   "cell_type": "markdown",
   "id": "ee5e513a-0d76-4954-8fa9-4966cac63992",
   "metadata": {},
   "source": [
    "In **Step 7,** Evaluating which features are most influential in predicting 'Response'"
   ]
  },
  {
   "cell_type": "code",
   "execution_count": 90,
   "id": "3d0d32a4-e2a3-49f1-b989-96ef4d90e036",
   "metadata": {},
   "outputs": [
    {
     "name": "stdout",
     "output_type": "stream",
     "text": [
      "\n",
      "Feature Importance:\n",
      " NumWebVisitsMonth          2.643003\n",
      "MntMeatProducts            2.259842\n",
      "NumDealsPurchases          1.756191\n",
      "AcceptedCmp3               1.698751\n",
      "NumCatalogPurchases        1.563580\n",
      "NumWebPurchases            1.498763\n",
      "AcceptedCmp5               1.484697\n",
      "MntGoldProds               1.254969\n",
      "AcceptedCmp1               1.001925\n",
      "Education_PhD              0.965025\n",
      "AcceptedCmp4               0.944375\n",
      "AcceptedCmp2               0.661346\n",
      "Income                     0.545368\n",
      "Education_Master           0.482817\n",
      "MntFruits                  0.435169\n",
      "MntWines                   0.394228\n",
      "Marital_Status_Single      0.332646\n",
      "Marital_Status_Divorced    0.313249\n",
      "Complain                   0.281387\n",
      "Marital_Status_Alone       0.273736\n",
      "Kidhome                    0.251021\n",
      "Marital_Status_YOLO        0.181935\n",
      "Education_Graduation       0.127628\n",
      "Marital_Status_Widow       0.121450\n",
      "MntSweetProducts           0.066045\n",
      "Age                        0.000966\n",
      "MntFishProducts           -0.180377\n",
      "Education_Basic           -0.462402\n",
      "Marital_Status_Married    -0.838150\n",
      "Marital_Status_Together   -0.917764\n",
      "Teenhome                  -1.651596\n",
      "NumStorePurchases         -1.763263\n",
      "Recency                   -2.432565\n",
      "dtype: float64\n"
     ]
    }
   ],
   "source": [
    "# Step 7: Analyze Significant Variables\n",
    "# Discussion on Significant Variables\n",
    "# Let's look at which variables are significant by checking model coefficients\n",
    "coefficients = pd.Series(log_model.coef_[0], index=X.columns)  # Extracting the coefficients of the model\n",
    "coefficients = coefficients.sort_values(ascending=False)  # Sorting coefficients by magnitude\n",
    "print(\"\\nFeature Importance:\\n\", coefficients)  # Displaying feature importance\n"
   ]
  },
  {
   "cell_type": "markdown",
   "id": "c9b00b74-efcc-4c63-8437-1e2efe811860",
   "metadata": {},
   "source": [
    "Extracted model coefficients\n",
    "\n",
    "Sorted features by importance\n",
    "\n",
    "Printed feature importance"
   ]
  },
  {
   "cell_type": "markdown",
   "id": "a2da9a2e-a9c0-4b22-9363-0830fa49ddf2",
   "metadata": {},
   "source": [
    "In **Step 8**, lets go with visualizations"
   ]
  },
  {
   "cell_type": "code",
   "execution_count": 92,
   "id": "f6a1fa50-6191-4206-a9e5-9b699fac1ad8",
   "metadata": {},
   "outputs": [
    {
     "data": {
      "image/png": "[encoded data removed]",
      "text/plain": [
       "<Figure size 1000x600 with 1 Axes>"
      ]
     },
     "metadata": {},
     "output_type": "display_data"
    }
   ],
   "source": [
    "# Step 8: Visualizations\n",
    "# Visualize important aspects of the dataset to gain better insights\n",
    "\n",
    "# 8.1: Distribution of Customer Age\n",
    "plt.figure(figsize=(10, 6))\n",
    "sns.histplot(df_cleaned['Age'], kde=True, bins=30)\n",
    "plt.title('Distribution of Customer Age')\n",
    "plt.xlabel('Age')\n",
    "plt.ylabel('Frequency')\n",
    "plt.show()"
   ]
  },
  {
   "cell_type": "markdown",
   "id": "2157d5cc-8e29-4eb5-99d1-54a98bda2dab",
   "metadata": {},
   "source": [
    "**Figure 1:** The distribution of customer ages shows the demographic spread of the customer base."
   ]
  },
  {
   "cell_type": "code",
   "execution_count": 94,
   "id": "3900dde2-dae2-4735-b4d4-2bdac7e47807",
   "metadata": {},
   "outputs": [
    {
     "data": {
      "image/png": "[encoded data removed]",
      "text/plain": [
       "<Figure size 1200x800 with 2 Axes>"
      ]
     },
     "metadata": {},
     "output_type": "display_data"
    }
   ],
   "source": [
    "# 8.2: Correlation Heatmap\n",
    "plt.figure(figsize=(12, 8))\n",
    "sns.heatmap(df_cleaned.corr(), annot=False, cmap='coolwarm')\n",
    "plt.title('Correlation Heatmap of Features')\n",
    "plt.show()"
   ]
  },
  {
   "cell_type": "markdown",
   "id": "4ac503ce-61c2-4c40-b097-f8bcb2d036e2",
   "metadata": {},
   "source": [
    "**Figure 2:** The heatmap shows correlations between different features, highlighting potential relationships between variables."
   ]
  },
  {
   "cell_type": "code",
   "execution_count": 96,
   "id": "3b9446d8-1ba6-4b37-840a-c5f8c2a876ae",
   "metadata": {},
   "outputs": [
    {
     "data": {
      "image/png": "[encoded data removed]",
      "text/plain": [
       "<Figure size 1000x600 with 1 Axes>"
      ]
     },
     "metadata": {},
     "output_type": "display_data"
    }
   ],
   "source": [
    "\n",
    "# 8.3: Response by Income\n",
    "plt.figure(figsize=(10, 6))\n",
    "sns.boxplot(x='Response', y='Income', data=df_cleaned)\n",
    "plt.title('Income Distribution by Subscription Response')\n",
    "plt.xlabel('Subscription Response')\n",
    "plt.ylabel('Income')\n",
    "plt.show()"
   ]
  },
  {
   "cell_type": "markdown",
   "id": "3a936f19-8e44-4068-9da5-469d43b08503",
   "metadata": {},
   "source": [
    "**Figure 3:** Boxplot showing the income distribution for different subscription responses, providing insight into income levels of subscribers and non-subscribers.\n"
   ]
  },
  {
   "cell_type": "code",
   "execution_count": 98,
   "id": "a6900a3c-0451-4615-957f-9c1edb85281d",
   "metadata": {},
   "outputs": [
    {
     "data": {
      "image/png": "[encoded data removed]",
      "text/plain": [
       "<Figure size 1200x600 with 1 Axes>"
      ]
     },
     "metadata": {},
     "output_type": "display_data"
    }
   ],
   "source": [
    "# 8.4: Count of Responses by Education Level\n",
    "education_cols = [col for col in df_cleaned.columns if 'Education' in col]\n",
    "education_sum = df_cleaned[education_cols + ['Response']].groupby('Response').sum().T\n",
    "education_sum.plot(kind='bar', stacked=True, figsize=(12, 6))\n",
    "plt.title('Count of Subscription Responses by Education Level')\n",
    "plt.xlabel('Education Level')\n",
    "plt.ylabel('Count')\n",
    "plt.legend(title='Response', loc='upper right')\n",
    "plt.show()"
   ]
  },
  {
   "cell_type": "markdown",
   "id": "cc1e5afa-1dc9-46fe-988e-5448805ca27d",
   "metadata": {},
   "source": [
    "**Figure 4:** Bar plot displaying the count of subscription responses by education level, providing insight into which education groups are most responsive.\n"
   ]
  },
  {
   "cell_type": "markdown",
   "id": "e4cfd2a2-f495-459b-bdb9-a564f7a02556",
   "metadata": {},
   "source": [
    "In **Step 9,** Calculating the ROC curve to evaluate how well the model separates the positive and negative classes"
   ]
  },
  {
   "cell_type": "code",
   "execution_count": 298,
   "id": "34ebebad-43e3-4483-b4e5-4d3badddfde7",
   "metadata": {},
   "outputs": [
    {
     "data": {
      "image/png": "[encoded data removed]",
      "text/plain": [
       "<Figure size 1000x600 with 1 Axes>"
      ]
     },
     "metadata": {},
     "output_type": "display_data"
    }
   ],
   "source": [
    "# Step 9: Plot ROC Curve\n",
    "# Calculating the ROC curve to evaluate the model's performance\n",
    "y_prob = log_model.predict_proba(X_test)[:, 1]  # Get the probabilities for the positive class\n",
    "fpr, tpr, _ = roc_curve(y_test, y_prob)  # Calculate false positive rate and true positive rate\n",
    "roc_auc = auc(fpr, tpr)  # Calculate the area under the ROC curve\n",
    "\n",
    "# Plotting the ROC Curve\n",
    "plt.figure(figsize=(10, 6))\n",
    "plt.plot(fpr, tpr, color='blue', lw=2, label=f'ROC Curve (AUC = {roc_auc:.2f})')\n",
    "plt.plot([0, 1], [0, 1], color='gray', linestyle='--')  # Reference line for random model\n",
    "plt.xlabel('False Positive Rate')\n",
    "plt.ylabel('True Positive Rate')\n",
    "plt.title('Receiver Operating Characteristic (ROC) Curve')\n",
    "plt.legend(loc='lower right')\n",
    "plt.show()\n"
   ]
  },
  {
   "cell_type": "markdown",
   "id": "62fe127d-80af-4d33-8052-cbcbb7495208",
   "metadata": {},
   "source": [
    "**Figure 5:** The ROC curve showing the trade-off between sensitivity and specificity of the model, providing an AUC value as an overall performance indicator.\n"
   ]
  },
  {
   "cell_type": "markdown",
   "id": "026257b8-037d-405e-abdc-39112e94212c",
   "metadata": {},
   "source": [
    "I got probabilities for the positive class\n",
    "\n",
    "Calculated false positive rate and true positive rate\n",
    "\n",
    "Calculated the area under the curve"
   ]
  },
  {
   "cell_type": "markdown",
   "id": "d05b5f36-c574-4803-90a7-b692a97e7e0b",
   "metadata": {},
   "source": [
    "**Answer 2:**\n",
    "\n",
    "**Discuss Significant Variables and Business Impact**\n",
    "\n",
    "\n",
    "Based on the logistic regression model, variables such as 'Income', 'MntWines', and 'NumWebPurchases' have the highest coefficients.\n",
    "This implies that customer spending habits and income level are significant predictors of subscription behavior.\n",
    "Understanding these variables helps target marketing campaigns better, focusing on high-income individuals or those who are already engaged in product purchases.\n"
   ]
  },
  {
   "cell_type": "markdown",
   "id": "56d8b2a5-819a-4471-b9b2-af87b83c7b24",
   "metadata": {},
   "source": [
    "**Question 3:**\n",
    "\n",
    "**Task 3:**\n",
    "\n",
    "Build an SVM model to accurately predict subscription behavior. Discuss the model's accuracy and how that compares to the logistic model.\n",
    "\n"
   ]
  },
  {
   "cell_type": "code",
   "execution_count": 355,
   "id": "b3b89d16-11b6-4942-bd1f-4dbe98adc2ba",
   "metadata": {},
   "outputs": [
    {
     "data": {
      "text/html": [
       "<style>#sk-container-id-4 {\n",
       "  /* Definition of color scheme common for light and dark mode */\n",
       "  --sklearn-color-text: black;\n",
       "  --sklearn-color-line: gray;\n",
       "  /* Definition of color scheme for unfitted estimators */\n",
       "  --sklearn-color-unfitted-level-0: #fff5e6;\n",
       "  --sklearn-color-unfitted-level-1: #f6e4d2;\n",
       "  --sklearn-color-unfitted-level-2: #ffe0b3;\n",
       "  --sklearn-color-unfitted-level-3: chocolate;\n",
       "  /* Definition of color scheme for fitted estimators */\n",
       "  --sklearn-color-fitted-level-0: #f0f8ff;\n",
       "  --sklearn-color-fitted-level-1: #d4ebff;\n",
       "  --sklearn-color-fitted-level-2: #b3dbfd;\n",
       "  --sklearn-color-fitted-level-3: cornflowerblue;\n",
       "\n",
       "  /* Specific color for light theme */\n",
       "  --sklearn-color-text-on-default-background: var(--sg-text-color, var(--theme-code-foreground, var(--jp-content-font-color1, black)));\n",
       "  --sklearn-color-background: var(--sg-background-color, var(--theme-background, var(--jp-layout-color0, white)));\n",
       "  --sklearn-color-border-box: var(--sg-text-color, var(--theme-code-foreground, var(--jp-content-font-color1, black)));\n",
       "  --sklearn-color-icon: #696969;\n",
       "\n",
       "  @media (prefers-color-scheme: dark) {\n",
       "    /* Redefinition of color scheme for dark theme */\n",
       "    --sklearn-color-text-on-default-background: var(--sg-text-color, var(--theme-code-foreground, var(--jp-content-font-color1, white)));\n",
       "    --sklearn-color-background: var(--sg-background-color, var(--theme-background, var(--jp-layout-color0, #111)));\n",
       "    --sklearn-color-border-box: var(--sg-text-color, var(--theme-code-foreground, var(--jp-content-font-color1, white)));\n",
       "    --sklearn-color-icon: #878787;\n",
       "  }\n",
       "}\n",
       "\n",
       "#sk-container-id-4 {\n",
       "  color: var(--sklearn-color-text);\n",
       "}\n",
       "\n",
       "#sk-container-id-4 pre {\n",
       "  padding: 0;\n",
       "}\n",
       "\n",
       "#sk-container-id-4 input.sk-hidden--visually {\n",
       "  border: 0;\n",
       "  clip: rect(1px 1px 1px 1px);\n",
       "  clip: rect(1px, 1px, 1px, 1px);\n",
       "  height: 1px;\n",
       "  margin: -1px;\n",
       "  overflow: hidden;\n",
       "  padding: 0;\n",
       "  position: absolute;\n",
       "  width: 1px;\n",
       "}\n",
       "\n",
       "#sk-container-id-4 div.sk-dashed-wrapped {\n",
       "  border: 1px dashed var(--sklearn-color-line);\n",
       "  margin: 0 0.4em 0.5em 0.4em;\n",
       "  box-sizing: border-box;\n",
       "  padding-bottom: 0.4em;\n",
       "  background-color: var(--sklearn-color-background);\n",
       "}\n",
       "\n",
       "#sk-container-id-4 div.sk-container {\n",
       "  /* jupyter's `normalize.less` sets `[hidden] { display: none; }`\n",
       "     but bootstrap.min.css set `[hidden] { display: none !important; }`\n",
       "     so we also need the `!important` here to be able to override the\n",
       "     default hidden behavior on the sphinx rendered scikit-learn.org.\n",
       "     See: https://github.com/scikit-learn/scikit-learn/issues/21755 */\n",
       "  display: inline-block !important;\n",
       "  position: relative;\n",
       "}\n",
       "\n",
       "#sk-container-id-4 div.sk-text-repr-fallback {\n",
       "  display: none;\n",
       "}\n",
       "\n",
       "div.sk-parallel-item,\n",
       "div.sk-serial,\n",
       "div.sk-item {\n",
       "  /* draw centered vertical line to link estimators */\n",
       "  background-image: linear-gradient(var(--sklearn-color-text-on-default-background), var(--sklearn-color-text-on-default-background));\n",
       "  background-size: 2px 100%;\n",
       "  background-repeat: no-repeat;\n",
       "  background-position: center center;\n",
       "}\n",
       "\n",
       "/* Parallel-specific style estimator block */\n",
       "\n",
       "#sk-container-id-4 div.sk-parallel-item::after {\n",
       "  content: \"\";\n",
       "  width: 100%;\n",
       "  border-bottom: 2px solid var(--sklearn-color-text-on-default-background);\n",
       "  flex-grow: 1;\n",
       "}\n",
       "\n",
       "#sk-container-id-4 div.sk-parallel {\n",
       "  display: flex;\n",
       "  align-items: stretch;\n",
       "  justify-content: center;\n",
       "  background-color: var(--sklearn-color-background);\n",
       "  position: relative;\n",
       "}\n",
       "\n",
       "#sk-container-id-4 div.sk-parallel-item {\n",
       "  display: flex;\n",
       "  flex-direction: column;\n",
       "}\n",
       "\n",
       "#sk-container-id-4 div.sk-parallel-item:first-child::after {\n",
       "  align-self: flex-end;\n",
       "  width: 50%;\n",
       "}\n",
       "\n",
       "#sk-container-id-4 div.sk-parallel-item:last-child::after {\n",
       "  align-self: flex-start;\n",
       "  width: 50%;\n",
       "}\n",
       "\n",
       "#sk-container-id-4 div.sk-parallel-item:only-child::after {\n",
       "  width: 0;\n",
       "}\n",
       "\n",
       "/* Serial-specific style estimator block */\n",
       "\n",
       "#sk-container-id-4 div.sk-serial {\n",
       "  display: flex;\n",
       "  flex-direction: column;\n",
       "  align-items: center;\n",
       "  background-color: var(--sklearn-color-background);\n",
       "  padding-right: 1em;\n",
       "  padding-left: 1em;\n",
       "}\n",
       "\n",
       "\n",
       "/* Toggleable style: style used for estimator/Pipeline/ColumnTransformer box that is\n",
       "clickable and can be expanded/collapsed.\n",
       "- Pipeline and ColumnTransformer use this feature and define the default style\n",
       "- Estimators will overwrite some part of the style using the `sk-estimator` class\n",
       "*/\n",
       "\n",
       "/* Pipeline and ColumnTransformer style (default) */\n",
       "\n",
       "#sk-container-id-4 div.sk-toggleable {\n",
       "  /* Default theme specific background. It is overwritten whether we have a\n",
       "  specific estimator or a Pipeline/ColumnTransformer */\n",
       "  background-color: var(--sklearn-color-background);\n",
       "}\n",
       "\n",
       "/* Toggleable label */\n",
       "#sk-container-id-4 label.sk-toggleable__label {\n",
       "  cursor: pointer;\n",
       "  display: block;\n",
       "  width: 100%;\n",
       "  margin-bottom: 0;\n",
       "  padding: 0.5em;\n",
       "  box-sizing: border-box;\n",
       "  text-align: center;\n",
       "}\n",
       "\n",
       "#sk-container-id-4 label.sk-toggleable__label-arrow:before {\n",
       "  /* Arrow on the left of the label */\n",
       "  content: \"▸\";\n",
       "  float: left;\n",
       "  margin-right: 0.25em;\n",
       "  color: var(--sklearn-color-icon);\n",
       "}\n",
       "\n",
       "#sk-container-id-4 label.sk-toggleable__label-arrow:hover:before {\n",
       "  color: var(--sklearn-color-text);\n",
       "}\n",
       "\n",
       "/* Toggleable content - dropdown */\n",
       "\n",
       "#sk-container-id-4 div.sk-toggleable__content {\n",
       "  max-height: 0;\n",
       "  max-width: 0;\n",
       "  overflow: hidden;\n",
       "  text-align: left;\n",
       "  /* unfitted */\n",
       "  background-color: var(--sklearn-color-unfitted-level-0);\n",
       "}\n",
       "\n",
       "#sk-container-id-4 div.sk-toggleable__content.fitted {\n",
       "  /* fitted */\n",
       "  background-color: var(--sklearn-color-fitted-level-0);\n",
       "}\n",
       "\n",
       "#sk-container-id-4 div.sk-toggleable__content pre {\n",
       "  margin: 0.2em;\n",
       "  border-radius: 0.25em;\n",
       "  color: var(--sklearn-color-text);\n",
       "  /* unfitted */\n",
       "  background-color: var(--sklearn-color-unfitted-level-0);\n",
       "}\n",
       "\n",
       "#sk-container-id-4 div.sk-toggleable__content.fitted pre {\n",
       "  /* unfitted */\n",
       "  background-color: var(--sklearn-color-fitted-level-0);\n",
       "}\n",
       "\n",
       "#sk-container-id-4 input.sk-toggleable__control:checked~div.sk-toggleable__content {\n",
       "  /* Expand drop-down */\n",
       "  max-height: 200px;\n",
       "  max-width: 100%;\n",
       "  overflow: auto;\n",
       "}\n",
       "\n",
       "#sk-container-id-4 input.sk-toggleable__control:checked~label.sk-toggleable__label-arrow:before {\n",
       "  content: \"▾\";\n",
       "}\n",
       "\n",
       "/* Pipeline/ColumnTransformer-specific style */\n",
       "\n",
       "#sk-container-id-4 div.sk-label input.sk-toggleable__control:checked~label.sk-toggleable__label {\n",
       "  color: var(--sklearn-color-text);\n",
       "  background-color: var(--sklearn-color-unfitted-level-2);\n",
       "}\n",
       "\n",
       "#sk-container-id-4 div.sk-label.fitted input.sk-toggleable__control:checked~label.sk-toggleable__label {\n",
       "  background-color: var(--sklearn-color-fitted-level-2);\n",
       "}\n",
       "\n",
       "/* Estimator-specific style */\n",
       "\n",
       "/* Colorize estimator box */\n",
       "#sk-container-id-4 div.sk-estimator input.sk-toggleable__control:checked~label.sk-toggleable__label {\n",
       "  /* unfitted */\n",
       "  background-color: var(--sklearn-color-unfitted-level-2);\n",
       "}\n",
       "\n",
       "#sk-container-id-4 div.sk-estimator.fitted input.sk-toggleable__control:checked~label.sk-toggleable__label {\n",
       "  /* fitted */\n",
       "  background-color: var(--sklearn-color-fitted-level-2);\n",
       "}\n",
       "\n",
       "#sk-container-id-4 div.sk-label label.sk-toggleable__label,\n",
       "#sk-container-id-4 div.sk-label label {\n",
       "  /* The background is the default theme color */\n",
       "  color: var(--sklearn-color-text-on-default-background);\n",
       "}\n",
       "\n",
       "/* On hover, darken the color of the background */\n",
       "#sk-container-id-4 div.sk-label:hover label.sk-toggleable__label {\n",
       "  color: var(--sklearn-color-text);\n",
       "  background-color: var(--sklearn-color-unfitted-level-2);\n",
       "}\n",
       "\n",
       "/* Label box, darken color on hover, fitted */\n",
       "#sk-container-id-4 div.sk-label.fitted:hover label.sk-toggleable__label.fitted {\n",
       "  color: var(--sklearn-color-text);\n",
       "  background-color: var(--sklearn-color-fitted-level-2);\n",
       "}\n",
       "\n",
       "/* Estimator label */\n",
       "\n",
       "#sk-container-id-4 div.sk-label label {\n",
       "  font-family: monospace;\n",
       "  font-weight: bold;\n",
       "  display: inline-block;\n",
       "  line-height: 1.2em;\n",
       "}\n",
       "\n",
       "#sk-container-id-4 div.sk-label-container {\n",
       "  text-align: center;\n",
       "}\n",
       "\n",
       "/* Estimator-specific */\n",
       "#sk-container-id-4 div.sk-estimator {\n",
       "  font-family: monospace;\n",
       "  border: 1px dotted var(--sklearn-color-border-box);\n",
       "  border-radius: 0.25em;\n",
       "  box-sizing: border-box;\n",
       "  margin-bottom: 0.5em;\n",
       "  /* unfitted */\n",
       "  background-color: var(--sklearn-color-unfitted-level-0);\n",
       "}\n",
       "\n",
       "#sk-container-id-4 div.sk-estimator.fitted {\n",
       "  /* fitted */\n",
       "  background-color: var(--sklearn-color-fitted-level-0);\n",
       "}\n",
       "\n",
       "/* on hover */\n",
       "#sk-container-id-4 div.sk-estimator:hover {\n",
       "  /* unfitted */\n",
       "  background-color: var(--sklearn-color-unfitted-level-2);\n",
       "}\n",
       "\n",
       "#sk-container-id-4 div.sk-estimator.fitted:hover {\n",
       "  /* fitted */\n",
       "  background-color: var(--sklearn-color-fitted-level-2);\n",
       "}\n",
       "\n",
       "/* Specification for estimator info (e.g. \"i\" and \"?\") */\n",
       "\n",
       "/* Common style for \"i\" and \"?\" */\n",
       "\n",
       ".sk-estimator-doc-link,\n",
       "a:link.sk-estimator-doc-link,\n",
       "a:visited.sk-estimator-doc-link {\n",
       "  float: right;\n",
       "  font-size: smaller;\n",
       "  line-height: 1em;\n",
       "  font-family: monospace;\n",
       "  background-color: var(--sklearn-color-background);\n",
       "  border-radius: 1em;\n",
       "  height: 1em;\n",
       "  width: 1em;\n",
       "  text-decoration: none !important;\n",
       "  margin-left: 1ex;\n",
       "  /* unfitted */\n",
       "  border: var(--sklearn-color-unfitted-level-1) 1pt solid;\n",
       "  color: var(--sklearn-color-unfitted-level-1);\n",
       "}\n",
       "\n",
       ".sk-estimator-doc-link.fitted,\n",
       "a:link.sk-estimator-doc-link.fitted,\n",
       "a:visited.sk-estimator-doc-link.fitted {\n",
       "  /* fitted */\n",
       "  border: var(--sklearn-color-fitted-level-1) 1pt solid;\n",
       "  color: var(--sklearn-color-fitted-level-1);\n",
       "}\n",
       "\n",
       "/* On hover */\n",
       "div.sk-estimator:hover .sk-estimator-doc-link:hover,\n",
       ".sk-estimator-doc-link:hover,\n",
       "div.sk-label-container:hover .sk-estimator-doc-link:hover,\n",
       ".sk-estimator-doc-link:hover {\n",
       "  /* unfitted */\n",
       "  background-color: var(--sklearn-color-unfitted-level-3);\n",
       "  color: var(--sklearn-color-background);\n",
       "  text-decoration: none;\n",
       "}\n",
       "\n",
       "div.sk-estimator.fitted:hover .sk-estimator-doc-link.fitted:hover,\n",
       ".sk-estimator-doc-link.fitted:hover,\n",
       "div.sk-label-container:hover .sk-estimator-doc-link.fitted:hover,\n",
       ".sk-estimator-doc-link.fitted:hover {\n",
       "  /* fitted */\n",
       "  background-color: var(--sklearn-color-fitted-level-3);\n",
       "  color: var(--sklearn-color-background);\n",
       "  text-decoration: none;\n",
       "}\n",
       "\n",
       "/* Span, style for the box shown on hovering the info icon */\n",
       ".sk-estimator-doc-link span {\n",
       "  display: none;\n",
       "  z-index: 9999;\n",
       "  position: relative;\n",
       "  font-weight: normal;\n",
       "  right: .2ex;\n",
       "  padding: .5ex;\n",
       "  margin: .5ex;\n",
       "  width: min-content;\n",
       "  min-width: 20ex;\n",
       "  max-width: 50ex;\n",
       "  color: var(--sklearn-color-text);\n",
       "  box-shadow: 2pt 2pt 4pt #999;\n",
       "  /* unfitted */\n",
       "  background: var(--sklearn-color-unfitted-level-0);\n",
       "  border: .5pt solid var(--sklearn-color-unfitted-level-3);\n",
       "}\n",
       "\n",
       ".sk-estimator-doc-link.fitted span {\n",
       "  /* fitted */\n",
       "  background: var(--sklearn-color-fitted-level-0);\n",
       "  border: var(--sklearn-color-fitted-level-3);\n",
       "}\n",
       "\n",
       ".sk-estimator-doc-link:hover span {\n",
       "  display: block;\n",
       "}\n",
       "\n",
       "/* \"?\"-specific style due to the `<a>` HTML tag */\n",
       "\n",
       "#sk-container-id-4 a.estimator_doc_link {\n",
       "  float: right;\n",
       "  font-size: 1rem;\n",
       "  line-height: 1em;\n",
       "  font-family: monospace;\n",
       "  background-color: var(--sklearn-color-background);\n",
       "  border-radius: 1rem;\n",
       "  height: 1rem;\n",
       "  width: 1rem;\n",
       "  text-decoration: none;\n",
       "  /* unfitted */\n",
       "  color: var(--sklearn-color-unfitted-level-1);\n",
       "  border: var(--sklearn-color-unfitted-level-1) 1pt solid;\n",
       "}\n",
       "\n",
       "#sk-container-id-4 a.estimator_doc_link.fitted {\n",
       "  /* fitted */\n",
       "  border: var(--sklearn-color-fitted-level-1) 1pt solid;\n",
       "  color: var(--sklearn-color-fitted-level-1);\n",
       "}\n",
       "\n",
       "/* On hover */\n",
       "#sk-container-id-4 a.estimator_doc_link:hover {\n",
       "  /* unfitted */\n",
       "  background-color: var(--sklearn-color-unfitted-level-3);\n",
       "  color: var(--sklearn-color-background);\n",
       "  text-decoration: none;\n",
       "}\n",
       "\n",
       "#sk-container-id-4 a.estimator_doc_link.fitted:hover {\n",
       "  /* fitted */\n",
       "  background-color: var(--sklearn-color-fitted-level-3);\n",
       "}\n",
       "</style><div id=\"sk-container-id-4\" class=\"sk-top-container\"><div class=\"sk-text-repr-fallback\"><pre>SVC(probability=True, random_state=42)</pre><b>In a Jupyter environment, please rerun this cell to show the HTML representation or trust the notebook. <br />On GitHub, the HTML representation is unable to render, please try loading this page with nbviewer.org.</b></div><div class=\"sk-container\" hidden><div class=\"sk-item\"><div class=\"sk-estimator fitted sk-toggleable\"><input class=\"sk-toggleable__control sk-hidden--visually\" id=\"sk-estimator-id-4\" type=\"checkbox\" checked><label for=\"sk-estimator-id-4\" class=\"sk-toggleable__label fitted sk-toggleable__label-arrow fitted\">&nbsp;&nbsp;SVC<a class=\"sk-estimator-doc-link fitted\" rel=\"noreferrer\" target=\"_blank\" href=\"https://scikit-learn.org/1.4/modules/generated/sklearn.svm.SVC.html\">?<span>Documentation for SVC</span></a><span class=\"sk-estimator-doc-link fitted\">i<span>Fitted</span></span></label><div class=\"sk-toggleable__content fitted\"><pre>SVC(probability=True, random_state=42)</pre></div> </div></div></div></div>"
      ],
      "text/plain": [
       "SVC(probability=True, random_state=42)"
      ]
     },
     "execution_count": 355,
     "metadata": {},
     "output_type": "execute_result"
    }
   ],
   "source": [
    "# Step 1: Train SVM Model\n",
    "# Now, let's train an SVM model to see how well it performs compared to the logistic regression model\n",
    "# Initialize and train a Support Vector Machine (SVM) model\n",
    "# Initialize and train a Support Vector Machine (SVM) model\n",
    "svm_model = SVC(probability=True, random_state=42)  # Creating an SVM model with probability estimates\n",
    "# Initialized Support Vector Machine (SVM) model.\n",
    "svm_model.fit(X_train, y_train)"
   ]
  },
  {
   "cell_type": "markdown",
   "id": "e4d6ce49-1750-4127-9c9c-ac1279612e04",
   "metadata": {},
   "source": [
    "In **Step 1** Trained the SVM model using the training data.\n"
   ]
  },
  {
   "cell_type": "code",
   "execution_count": 133,
   "id": "35e3aecf-0025-4600-b983-eb5acd80e8fd",
   "metadata": {},
   "outputs": [
    {
     "name": "stdout",
     "output_type": "stream",
     "text": [
      "SVM Model Accuracy: 0.83\n"
     ]
    }
   ],
   "source": [
    "# Step 2: Make Predictions and Evaluate SVM Model\n",
    "# Make predictions using the SVM model and evaluate its accuracy\n",
    "# Making predictions using the SVM model\n",
    "# Making predictions using the SVM model\n",
    "y_pred_svm = svm_model.predict(X_test)  # Predicting values on the test set\n",
    "# Made predictions using the SVM model.\n",
    "accuracy_svm = accuracy_score(y_test, y_pred_svm)  # Calculating SVM model accuracy\n",
    "# Calculated accuracy for SVM model.\n",
    "print(f\"SVM Model Accuracy: {accuracy_svm:.2f}\")  # Printing SVM model accuracy"
   ]
  },
  {
   "cell_type": "markdown",
   "id": "83205a83-6996-4ece-ac64-3173c825f23a",
   "metadata": {},
   "source": [
    "In **Step 2** Displayed SVM model accuracy."
   ]
  },
  {
   "cell_type": "code",
   "execution_count": 146,
   "id": "f714fbfb-b3b3-493e-bcb8-f946404e23cc",
   "metadata": {},
   "outputs": [
    {
     "name": "stdout",
     "output_type": "stream",
     "text": [
      "SVM Classification Report:\n",
      "               precision    recall  f1-score   support\n",
      "\n",
      "           0       0.83      1.00      0.91       367\n",
      "           1       1.00      0.00      0.00        75\n",
      "\n",
      "    accuracy                           0.83       442\n",
      "   macro avg       0.92      0.50      0.45       442\n",
      "weighted avg       0.86      0.83      0.75       442\n",
      "\n"
     ]
    }
   ],
   "source": [
    "# Step 3: Display SVM Classification Report\n",
    "# Generate a classification report to see the detailed performance of our SVM model\n",
    "print(\"SVM Classification Report:\\n\", classification_report(y_test, y_pred_svm, zero_division=1))  # Displaying classification metrics for SVM model\n"
   ]
  },
  {
   "cell_type": "markdown",
   "id": "bb533e32-3c62-4eff-b89e-097e97ae950f",
   "metadata": {},
   "source": [
    "In **Step 3** Displayed classification report for SVM model to see detailed metrics."
   ]
  },
  {
   "cell_type": "code",
   "execution_count": 163,
   "id": "81146eff-2f82-4c6a-a94f-41f8afa73ca3",
   "metadata": {},
   "outputs": [],
   "source": [
    "# After training the logistic regression model, make predictions and calculate accuracy\n",
    "y_pred_log = log_model.predict(X_test)  # Predicting values on the test set\n",
    "accuracy_log = accuracy_score(y_test, y_pred_log)  # Calculating model accuracy\n"
   ]
  },
  {
   "cell_type": "code",
   "execution_count": 165,
   "id": "8a57b32f-3e6b-4ae1-b652-e58836e23ce2",
   "metadata": {},
   "outputs": [],
   "source": [
    "# After training the SVM model, make predictions and calculate accuracy\n",
    "y_pred_svm = svm_model.predict(X_test)  # Predicting values on the test set\n",
    "accuracy_svm = accuracy_score(y_test, y_pred_svm)  # Calculating SVM model accuracy\n"
   ]
  },
  {
   "cell_type": "code",
   "execution_count": 171,
   "id": "18f8f09c-daa5-47e3-91ff-101839a84f37",
   "metadata": {},
   "outputs": [
    {
     "name": "stdout",
     "output_type": "stream",
     "text": [
      "\n",
      "Comparison of Model Accuracies:\n",
      "Logistic Regression Accuracy: 0.87\n",
      "SVM Accuracy: 0.83\n"
     ]
    }
   ],
   "source": [
    "# Step 4: Compare Logistic Regression and SVM Models\n",
    "# Compare the accuracies of both models to see which one performs better\n",
    "print(\"\\nComparison of Model Accuracies:\")\n",
    "print(f\"Logistic Regression Accuracy: {accuracy_log:.2f}\")\n",
    "print(f\"SVM Accuracy: {accuracy_svm:.2f}\")\n"
   ]
  },
  {
   "cell_type": "markdown",
   "id": "1f6768f1-af1e-4217-8335-fc7f3909f5bc",
   "metadata": {},
   "source": [
    "This **Step 4** compares the accuracy metrics of both models, helping us identify which model is more effective in predicting subscription behavior.\n"
   ]
  },
  {
   "cell_type": "code",
   "execution_count": 177,
   "id": "46e25664-09ed-40ee-a46b-c32050dd6745",
   "metadata": {},
   "outputs": [],
   "source": [
    "# Step 5: Plot ROC Curve for SVM Model\n",
    "# Plot the ROC curve to compare the performance of Logistic Regression and SVM models visually\n",
    "# Calculating the ROC curve for the SVM model\n",
    "# Calculating the ROC curve for the SVM model\n",
    "y_prob_svm = svm_model.predict_proba(X_test)[:, 1]  # Getting probabilities for the positive class (SVM)\n",
    "fpr_svm, tpr_svm, _ = roc_curve(y_test, y_prob_svm)  # Calculating false positive rate and true positive rate for SVM\n",
    "roc_auc_svm = auc(fpr_svm, tpr_svm)  # Calculating area under the curve for SVM\n",
    "\n"
   ]
  },
  {
   "cell_type": "code",
   "execution_count": 179,
   "id": "f09e5e60-ab93-449b-a7de-8c108367fc1e",
   "metadata": {},
   "outputs": [
    {
     "data": {
      "image/png": "[encoded data removed]",
      "text/plain": [
       "<Figure size 1000x600 with 1 Axes>"
      ]
     },
     "metadata": {},
     "output_type": "display_data"
    }
   ],
   "source": [
    "\n",
    "plt.figure(figsize=(10, 6))\n",
    "plt.plot(fpr, tpr, color='blue', lw=2, label=f'Logistic Regression (AUC = {roc_auc:.2f})')\n",
    "# Plotted ROC curve for logistic regression model.\n",
    "plt.plot(fpr_svm, tpr_svm, color='red', lw=2, label=f'SVM (AUC = {roc_auc_svm:.2f})')\n",
    "# Plotted ROC curve for SVM model.\n",
    "plt.plot([0, 1], [0, 1], color='gray', linestyle='--')  # Reference line for random guess\n",
    "plt.xlabel('False Positive Rate')\n",
    "plt.ylabel('True Positive Rate')\n",
    "plt.title('Receiver Operating Characteristic (ROC) Curve - Logistic Regression vs SVM')\n",
    "plt.legend(loc='lower right')\n",
    "plt.show()"
   ]
  },
  {
   "cell_type": "markdown",
   "id": "bb8cbd09-3c1c-41c7-87be-7815766a6785",
   "metadata": {},
   "source": [
    "**Figure 6:** The ROC curve comparing the performance of Logistic Regression and SVM models, showing the trade-off between sensitivity and specificity for both."
   ]
  },
  {
   "cell_type": "markdown",
   "id": "1c6e8170-e4bd-44cf-a436-d3eb3054097a",
   "metadata": {},
   "source": [
    "**Answer 3**\n",
    "\n",
    "**Discuss SVM Model Accuracy**\n",
    "\n",
    "The SVM model achieved an accuracy of {accuracy_svm:.2f}, which is comparable to the Logistic Regression model.\n",
    "Compared to Logistic Regression, the SVM model performed similarly on the test set, showing competitive precision and recall.\n",
    "SVM's higher complexity might offer slightly better decision boundaries, but it is generally harder to interpret compared to Logistic Regression.\n"
   ]
  },
  {
   "cell_type": "markdown",
   "id": "a363bd20-8d53-427f-8d28-feeef78bc92d",
   "metadata": {},
   "source": [
    "**Question 4**\n",
    "\n",
    "**Task 4:**\n",
    "\n",
    "Build a decision tree model (at most 4 branches) to accurately predict subscription behavior. Discuss the model's accuracy and how that compares to the other two models (variables and accuracy)."
   ]
  },
  {
   "cell_type": "code",
   "execution_count": 314,
   "id": "e2c1061a-2455-489b-9183-4418d9ac4b4f",
   "metadata": {},
   "outputs": [],
   "source": [
    "# Step 1: Build Decision Tree Model\n",
    "# Let's start by defining features and the target variable for our decision tree model\n",
    "# Setting up the features and target ensures we are ready for training.\n",
    "X = df_cleaned.drop(columns=['Response', 'ID', 'Dt_Customer', 'Year_Birth'])  # Features for prediction\n",
    "y = df_cleaned['Response']  # Target variable"
   ]
  },
  {
   "cell_type": "markdown",
   "id": "14f66e63-2ca4-4604-9932-f6e2627de7da",
   "metadata": {},
   "source": [
    "In **Step 1,** Defining the features and target helps the model focus on key attributes for prediction while excluding unnecessary data.\n"
   ]
  },
  {
   "cell_type": "code",
   "execution_count": 193,
   "id": "5c0c0481-26c0-433b-bf2a-81dac0c0289f",
   "metadata": {},
   "outputs": [],
   "source": [
    "# Step 2: Split Data\n",
    "# Split the dataset into training and testing sets to evaluate the decision tree model\n",
    "# Splitting the data helps us evaluate the model's performance on unseen data.\n",
    "X_train, X_test, y_train, y_test = train_test_split(X, y, test_size=0.2, random_state=42)  # Using 80-20 split"
   ]
  },
  {
   "cell_type": "markdown",
   "id": "bc21c6f6-523f-4f9f-9559-8de91f4d0fc5",
   "metadata": {},
   "source": [
    "In **Step 2,** splits the data into training and testing sets using an 80-20 split. It helps in evaluating how well the decision tree model performs on new, unseen data, providing an unbiased assessment of model accuracy."
   ]
  },
  {
   "cell_type": "code",
   "execution_count": 195,
   "id": "92261ab0-9217-4976-8397-d6838dd79f17",
   "metadata": {},
   "outputs": [
    {
     "data": {
      "text/html": [
       "<style>#sk-container-id-3 {\n",
       "  /* Definition of color scheme common for light and dark mode */\n",
       "  --sklearn-color-text: black;\n",
       "  --sklearn-color-line: gray;\n",
       "  /* Definition of color scheme for unfitted estimators */\n",
       "  --sklearn-color-unfitted-level-0: #fff5e6;\n",
       "  --sklearn-color-unfitted-level-1: #f6e4d2;\n",
       "  --sklearn-color-unfitted-level-2: #ffe0b3;\n",
       "  --sklearn-color-unfitted-level-3: chocolate;\n",
       "  /* Definition of color scheme for fitted estimators */\n",
       "  --sklearn-color-fitted-level-0: #f0f8ff;\n",
       "  --sklearn-color-fitted-level-1: #d4ebff;\n",
       "  --sklearn-color-fitted-level-2: #b3dbfd;\n",
       "  --sklearn-color-fitted-level-3: cornflowerblue;\n",
       "\n",
       "  /* Specific color for light theme */\n",
       "  --sklearn-color-text-on-default-background: var(--sg-text-color, var(--theme-code-foreground, var(--jp-content-font-color1, black)));\n",
       "  --sklearn-color-background: var(--sg-background-color, var(--theme-background, var(--jp-layout-color0, white)));\n",
       "  --sklearn-color-border-box: var(--sg-text-color, var(--theme-code-foreground, var(--jp-content-font-color1, black)));\n",
       "  --sklearn-color-icon: #696969;\n",
       "\n",
       "  @media (prefers-color-scheme: dark) {\n",
       "    /* Redefinition of color scheme for dark theme */\n",
       "    --sklearn-color-text-on-default-background: var(--sg-text-color, var(--theme-code-foreground, var(--jp-content-font-color1, white)));\n",
       "    --sklearn-color-background: var(--sg-background-color, var(--theme-background, var(--jp-layout-color0, #111)));\n",
       "    --sklearn-color-border-box: var(--sg-text-color, var(--theme-code-foreground, var(--jp-content-font-color1, white)));\n",
       "    --sklearn-color-icon: #878787;\n",
       "  }\n",
       "}\n",
       "\n",
       "#sk-container-id-3 {\n",
       "  color: var(--sklearn-color-text);\n",
       "}\n",
       "\n",
       "#sk-container-id-3 pre {\n",
       "  padding: 0;\n",
       "}\n",
       "\n",
       "#sk-container-id-3 input.sk-hidden--visually {\n",
       "  border: 0;\n",
       "  clip: rect(1px 1px 1px 1px);\n",
       "  clip: rect(1px, 1px, 1px, 1px);\n",
       "  height: 1px;\n",
       "  margin: -1px;\n",
       "  overflow: hidden;\n",
       "  padding: 0;\n",
       "  position: absolute;\n",
       "  width: 1px;\n",
       "}\n",
       "\n",
       "#sk-container-id-3 div.sk-dashed-wrapped {\n",
       "  border: 1px dashed var(--sklearn-color-line);\n",
       "  margin: 0 0.4em 0.5em 0.4em;\n",
       "  box-sizing: border-box;\n",
       "  padding-bottom: 0.4em;\n",
       "  background-color: var(--sklearn-color-background);\n",
       "}\n",
       "\n",
       "#sk-container-id-3 div.sk-container {\n",
       "  /* jupyter's `normalize.less` sets `[hidden] { display: none; }`\n",
       "     but bootstrap.min.css set `[hidden] { display: none !important; }`\n",
       "     so we also need the `!important` here to be able to override the\n",
       "     default hidden behavior on the sphinx rendered scikit-learn.org.\n",
       "     See: https://github.com/scikit-learn/scikit-learn/issues/21755 */\n",
       "  display: inline-block !important;\n",
       "  position: relative;\n",
       "}\n",
       "\n",
       "#sk-container-id-3 div.sk-text-repr-fallback {\n",
       "  display: none;\n",
       "}\n",
       "\n",
       "div.sk-parallel-item,\n",
       "div.sk-serial,\n",
       "div.sk-item {\n",
       "  /* draw centered vertical line to link estimators */\n",
       "  background-image: linear-gradient(var(--sklearn-color-text-on-default-background), var(--sklearn-color-text-on-default-background));\n",
       "  background-size: 2px 100%;\n",
       "  background-repeat: no-repeat;\n",
       "  background-position: center center;\n",
       "}\n",
       "\n",
       "/* Parallel-specific style estimator block */\n",
       "\n",
       "#sk-container-id-3 div.sk-parallel-item::after {\n",
       "  content: \"\";\n",
       "  width: 100%;\n",
       "  border-bottom: 2px solid var(--sklearn-color-text-on-default-background);\n",
       "  flex-grow: 1;\n",
       "}\n",
       "\n",
       "#sk-container-id-3 div.sk-parallel {\n",
       "  display: flex;\n",
       "  align-items: stretch;\n",
       "  justify-content: center;\n",
       "  background-color: var(--sklearn-color-background);\n",
       "  position: relative;\n",
       "}\n",
       "\n",
       "#sk-container-id-3 div.sk-parallel-item {\n",
       "  display: flex;\n",
       "  flex-direction: column;\n",
       "}\n",
       "\n",
       "#sk-container-id-3 div.sk-parallel-item:first-child::after {\n",
       "  align-self: flex-end;\n",
       "  width: 50%;\n",
       "}\n",
       "\n",
       "#sk-container-id-3 div.sk-parallel-item:last-child::after {\n",
       "  align-self: flex-start;\n",
       "  width: 50%;\n",
       "}\n",
       "\n",
       "#sk-container-id-3 div.sk-parallel-item:only-child::after {\n",
       "  width: 0;\n",
       "}\n",
       "\n",
       "/* Serial-specific style estimator block */\n",
       "\n",
       "#sk-container-id-3 div.sk-serial {\n",
       "  display: flex;\n",
       "  flex-direction: column;\n",
       "  align-items: center;\n",
       "  background-color: var(--sklearn-color-background);\n",
       "  padding-right: 1em;\n",
       "  padding-left: 1em;\n",
       "}\n",
       "\n",
       "\n",
       "/* Toggleable style: style used for estimator/Pipeline/ColumnTransformer box that is\n",
       "clickable and can be expanded/collapsed.\n",
       "- Pipeline and ColumnTransformer use this feature and define the default style\n",
       "- Estimators will overwrite some part of the style using the `sk-estimator` class\n",
       "*/\n",
       "\n",
       "/* Pipeline and ColumnTransformer style (default) */\n",
       "\n",
       "#sk-container-id-3 div.sk-toggleable {\n",
       "  /* Default theme specific background. It is overwritten whether we have a\n",
       "  specific estimator or a Pipeline/ColumnTransformer */\n",
       "  background-color: var(--sklearn-color-background);\n",
       "}\n",
       "\n",
       "/* Toggleable label */\n",
       "#sk-container-id-3 label.sk-toggleable__label {\n",
       "  cursor: pointer;\n",
       "  display: block;\n",
       "  width: 100%;\n",
       "  margin-bottom: 0;\n",
       "  padding: 0.5em;\n",
       "  box-sizing: border-box;\n",
       "  text-align: center;\n",
       "}\n",
       "\n",
       "#sk-container-id-3 label.sk-toggleable__label-arrow:before {\n",
       "  /* Arrow on the left of the label */\n",
       "  content: \"▸\";\n",
       "  float: left;\n",
       "  margin-right: 0.25em;\n",
       "  color: var(--sklearn-color-icon);\n",
       "}\n",
       "\n",
       "#sk-container-id-3 label.sk-toggleable__label-arrow:hover:before {\n",
       "  color: var(--sklearn-color-text);\n",
       "}\n",
       "\n",
       "/* Toggleable content - dropdown */\n",
       "\n",
       "#sk-container-id-3 div.sk-toggleable__content {\n",
       "  max-height: 0;\n",
       "  max-width: 0;\n",
       "  overflow: hidden;\n",
       "  text-align: left;\n",
       "  /* unfitted */\n",
       "  background-color: var(--sklearn-color-unfitted-level-0);\n",
       "}\n",
       "\n",
       "#sk-container-id-3 div.sk-toggleable__content.fitted {\n",
       "  /* fitted */\n",
       "  background-color: var(--sklearn-color-fitted-level-0);\n",
       "}\n",
       "\n",
       "#sk-container-id-3 div.sk-toggleable__content pre {\n",
       "  margin: 0.2em;\n",
       "  border-radius: 0.25em;\n",
       "  color: var(--sklearn-color-text);\n",
       "  /* unfitted */\n",
       "  background-color: var(--sklearn-color-unfitted-level-0);\n",
       "}\n",
       "\n",
       "#sk-container-id-3 div.sk-toggleable__content.fitted pre {\n",
       "  /* unfitted */\n",
       "  background-color: var(--sklearn-color-fitted-level-0);\n",
       "}\n",
       "\n",
       "#sk-container-id-3 input.sk-toggleable__control:checked~div.sk-toggleable__content {\n",
       "  /* Expand drop-down */\n",
       "  max-height: 200px;\n",
       "  max-width: 100%;\n",
       "  overflow: auto;\n",
       "}\n",
       "\n",
       "#sk-container-id-3 input.sk-toggleable__control:checked~label.sk-toggleable__label-arrow:before {\n",
       "  content: \"▾\";\n",
       "}\n",
       "\n",
       "/* Pipeline/ColumnTransformer-specific style */\n",
       "\n",
       "#sk-container-id-3 div.sk-label input.sk-toggleable__control:checked~label.sk-toggleable__label {\n",
       "  color: var(--sklearn-color-text);\n",
       "  background-color: var(--sklearn-color-unfitted-level-2);\n",
       "}\n",
       "\n",
       "#sk-container-id-3 div.sk-label.fitted input.sk-toggleable__control:checked~label.sk-toggleable__label {\n",
       "  background-color: var(--sklearn-color-fitted-level-2);\n",
       "}\n",
       "\n",
       "/* Estimator-specific style */\n",
       "\n",
       "/* Colorize estimator box */\n",
       "#sk-container-id-3 div.sk-estimator input.sk-toggleable__control:checked~label.sk-toggleable__label {\n",
       "  /* unfitted */\n",
       "  background-color: var(--sklearn-color-unfitted-level-2);\n",
       "}\n",
       "\n",
       "#sk-container-id-3 div.sk-estimator.fitted input.sk-toggleable__control:checked~label.sk-toggleable__label {\n",
       "  /* fitted */\n",
       "  background-color: var(--sklearn-color-fitted-level-2);\n",
       "}\n",
       "\n",
       "#sk-container-id-3 div.sk-label label.sk-toggleable__label,\n",
       "#sk-container-id-3 div.sk-label label {\n",
       "  /* The background is the default theme color */\n",
       "  color: var(--sklearn-color-text-on-default-background);\n",
       "}\n",
       "\n",
       "/* On hover, darken the color of the background */\n",
       "#sk-container-id-3 div.sk-label:hover label.sk-toggleable__label {\n",
       "  color: var(--sklearn-color-text);\n",
       "  background-color: var(--sklearn-color-unfitted-level-2);\n",
       "}\n",
       "\n",
       "/* Label box, darken color on hover, fitted */\n",
       "#sk-container-id-3 div.sk-label.fitted:hover label.sk-toggleable__label.fitted {\n",
       "  color: var(--sklearn-color-text);\n",
       "  background-color: var(--sklearn-color-fitted-level-2);\n",
       "}\n",
       "\n",
       "/* Estimator label */\n",
       "\n",
       "#sk-container-id-3 div.sk-label label {\n",
       "  font-family: monospace;\n",
       "  font-weight: bold;\n",
       "  display: inline-block;\n",
       "  line-height: 1.2em;\n",
       "}\n",
       "\n",
       "#sk-container-id-3 div.sk-label-container {\n",
       "  text-align: center;\n",
       "}\n",
       "\n",
       "/* Estimator-specific */\n",
       "#sk-container-id-3 div.sk-estimator {\n",
       "  font-family: monospace;\n",
       "  border: 1px dotted var(--sklearn-color-border-box);\n",
       "  border-radius: 0.25em;\n",
       "  box-sizing: border-box;\n",
       "  margin-bottom: 0.5em;\n",
       "  /* unfitted */\n",
       "  background-color: var(--sklearn-color-unfitted-level-0);\n",
       "}\n",
       "\n",
       "#sk-container-id-3 div.sk-estimator.fitted {\n",
       "  /* fitted */\n",
       "  background-color: var(--sklearn-color-fitted-level-0);\n",
       "}\n",
       "\n",
       "/* on hover */\n",
       "#sk-container-id-3 div.sk-estimator:hover {\n",
       "  /* unfitted */\n",
       "  background-color: var(--sklearn-color-unfitted-level-2);\n",
       "}\n",
       "\n",
       "#sk-container-id-3 div.sk-estimator.fitted:hover {\n",
       "  /* fitted */\n",
       "  background-color: var(--sklearn-color-fitted-level-2);\n",
       "}\n",
       "\n",
       "/* Specification for estimator info (e.g. \"i\" and \"?\") */\n",
       "\n",
       "/* Common style for \"i\" and \"?\" */\n",
       "\n",
       ".sk-estimator-doc-link,\n",
       "a:link.sk-estimator-doc-link,\n",
       "a:visited.sk-estimator-doc-link {\n",
       "  float: right;\n",
       "  font-size: smaller;\n",
       "  line-height: 1em;\n",
       "  font-family: monospace;\n",
       "  background-color: var(--sklearn-color-background);\n",
       "  border-radius: 1em;\n",
       "  height: 1em;\n",
       "  width: 1em;\n",
       "  text-decoration: none !important;\n",
       "  margin-left: 1ex;\n",
       "  /* unfitted */\n",
       "  border: var(--sklearn-color-unfitted-level-1) 1pt solid;\n",
       "  color: var(--sklearn-color-unfitted-level-1);\n",
       "}\n",
       "\n",
       ".sk-estimator-doc-link.fitted,\n",
       "a:link.sk-estimator-doc-link.fitted,\n",
       "a:visited.sk-estimator-doc-link.fitted {\n",
       "  /* fitted */\n",
       "  border: var(--sklearn-color-fitted-level-1) 1pt solid;\n",
       "  color: var(--sklearn-color-fitted-level-1);\n",
       "}\n",
       "\n",
       "/* On hover */\n",
       "div.sk-estimator:hover .sk-estimator-doc-link:hover,\n",
       ".sk-estimator-doc-link:hover,\n",
       "div.sk-label-container:hover .sk-estimator-doc-link:hover,\n",
       ".sk-estimator-doc-link:hover {\n",
       "  /* unfitted */\n",
       "  background-color: var(--sklearn-color-unfitted-level-3);\n",
       "  color: var(--sklearn-color-background);\n",
       "  text-decoration: none;\n",
       "}\n",
       "\n",
       "div.sk-estimator.fitted:hover .sk-estimator-doc-link.fitted:hover,\n",
       ".sk-estimator-doc-link.fitted:hover,\n",
       "div.sk-label-container:hover .sk-estimator-doc-link.fitted:hover,\n",
       ".sk-estimator-doc-link.fitted:hover {\n",
       "  /* fitted */\n",
       "  background-color: var(--sklearn-color-fitted-level-3);\n",
       "  color: var(--sklearn-color-background);\n",
       "  text-decoration: none;\n",
       "}\n",
       "\n",
       "/* Span, style for the box shown on hovering the info icon */\n",
       ".sk-estimator-doc-link span {\n",
       "  display: none;\n",
       "  z-index: 9999;\n",
       "  position: relative;\n",
       "  font-weight: normal;\n",
       "  right: .2ex;\n",
       "  padding: .5ex;\n",
       "  margin: .5ex;\n",
       "  width: min-content;\n",
       "  min-width: 20ex;\n",
       "  max-width: 50ex;\n",
       "  color: var(--sklearn-color-text);\n",
       "  box-shadow: 2pt 2pt 4pt #999;\n",
       "  /* unfitted */\n",
       "  background: var(--sklearn-color-unfitted-level-0);\n",
       "  border: .5pt solid var(--sklearn-color-unfitted-level-3);\n",
       "}\n",
       "\n",
       ".sk-estimator-doc-link.fitted span {\n",
       "  /* fitted */\n",
       "  background: var(--sklearn-color-fitted-level-0);\n",
       "  border: var(--sklearn-color-fitted-level-3);\n",
       "}\n",
       "\n",
       ".sk-estimator-doc-link:hover span {\n",
       "  display: block;\n",
       "}\n",
       "\n",
       "/* \"?\"-specific style due to the `<a>` HTML tag */\n",
       "\n",
       "#sk-container-id-3 a.estimator_doc_link {\n",
       "  float: right;\n",
       "  font-size: 1rem;\n",
       "  line-height: 1em;\n",
       "  font-family: monospace;\n",
       "  background-color: var(--sklearn-color-background);\n",
       "  border-radius: 1rem;\n",
       "  height: 1rem;\n",
       "  width: 1rem;\n",
       "  text-decoration: none;\n",
       "  /* unfitted */\n",
       "  color: var(--sklearn-color-unfitted-level-1);\n",
       "  border: var(--sklearn-color-unfitted-level-1) 1pt solid;\n",
       "}\n",
       "\n",
       "#sk-container-id-3 a.estimator_doc_link.fitted {\n",
       "  /* fitted */\n",
       "  border: var(--sklearn-color-fitted-level-1) 1pt solid;\n",
       "  color: var(--sklearn-color-fitted-level-1);\n",
       "}\n",
       "\n",
       "/* On hover */\n",
       "#sk-container-id-3 a.estimator_doc_link:hover {\n",
       "  /* unfitted */\n",
       "  background-color: var(--sklearn-color-unfitted-level-3);\n",
       "  color: var(--sklearn-color-background);\n",
       "  text-decoration: none;\n",
       "}\n",
       "\n",
       "#sk-container-id-3 a.estimator_doc_link.fitted:hover {\n",
       "  /* fitted */\n",
       "  background-color: var(--sklearn-color-fitted-level-3);\n",
       "}\n",
       "</style><div id=\"sk-container-id-3\" class=\"sk-top-container\"><div class=\"sk-text-repr-fallback\"><pre>DecisionTreeClassifier(max_depth=4, random_state=42)</pre><b>In a Jupyter environment, please rerun this cell to show the HTML representation or trust the notebook. <br />On GitHub, the HTML representation is unable to render, please try loading this page with nbviewer.org.</b></div><div class=\"sk-container\" hidden><div class=\"sk-item\"><div class=\"sk-estimator fitted sk-toggleable\"><input class=\"sk-toggleable__control sk-hidden--visually\" id=\"sk-estimator-id-3\" type=\"checkbox\" checked><label for=\"sk-estimator-id-3\" class=\"sk-toggleable__label fitted sk-toggleable__label-arrow fitted\">&nbsp;&nbsp;DecisionTreeClassifier<a class=\"sk-estimator-doc-link fitted\" rel=\"noreferrer\" target=\"_blank\" href=\"https://scikit-learn.org/1.4/modules/generated/sklearn.tree.DecisionTreeClassifier.html\">?<span>Documentation for DecisionTreeClassifier</span></a><span class=\"sk-estimator-doc-link fitted\">i<span>Fitted</span></span></label><div class=\"sk-toggleable__content fitted\"><pre>DecisionTreeClassifier(max_depth=4, random_state=42)</pre></div> </div></div></div></div>"
      ],
      "text/plain": [
       "DecisionTreeClassifier(max_depth=4, random_state=42)"
      ]
     },
     "execution_count": 195,
     "metadata": {},
     "output_type": "execute_result"
    }
   ],
   "source": [
    "# Step 3: Train Decision Tree Model\n",
    "# Train a Decision Tree model with a maximum of 4 branches to predict subscription behavior\n",
    "# Limiting the tree depth helps avoid overfitting while maintaining interpretability.\n",
    "dt_model = DecisionTreeClassifier(max_depth=4, random_state=42)  # Creating a decision tree model with at most 4 branches\n",
    "dt_model.fit(X_train, y_train)  # Training the decision tree model\n",
    "# The decision tree model is now trained and ready to make predictions."
   ]
  },
  {
   "cell_type": "markdown",
   "id": "6f53a04c-5848-419c-89bd-6bf95c2f4198",
   "metadata": {},
   "source": [
    "In **Step 3** trains the decision tree model with a maximum depth of 4 branches to prevent overfitting. Limiting the depth keeps the model simpler and easier to interpret while still capturing essential relationships in the data."
   ]
  },
  {
   "cell_type": "code",
   "execution_count": 197,
   "id": "77e34b9e-77ab-456a-87cb-aab3c8e938d5",
   "metadata": {},
   "outputs": [
    {
     "name": "stdout",
     "output_type": "stream",
     "text": [
      "Decision Tree Model Accuracy: 0.85\n"
     ]
    }
   ],
   "source": [
    "# Step 4: Make Predictions and Evaluate Model\n",
    "# Make predictions using the decision tree model and evaluate its performance\n",
    "# This step helps us understand how well the model can predict customer behavior.\n",
    "y_pred_dt = dt_model.predict(X_test)  # Predicting values on the test set\n",
    "accuracy_dt = accuracy_score(y_test, y_pred_dt)  # Calculating accuracy for the decision tree model\n",
    "print(f\"Decision Tree Model Accuracy: {accuracy_dt:.2f}\")  # Printing model accuracy\n",
    "# Displayed the accuracy of the decision tree model to see its performance."
   ]
  },
  {
   "cell_type": "markdown",
   "id": "24df7899-d494-441d-aa15-1beee41bddcb",
   "metadata": {},
   "source": [
    "In **Step 4** I used the test set to evaluate the decision tree's accuracy, which is 0.85. This gives an idea of its effectiveness in predicting outcomes.\n"
   ]
  },
  {
   "cell_type": "code",
   "execution_count": 211,
   "id": "0d9d1256-b921-4790-ae6b-f306e2a17867",
   "metadata": {},
   "outputs": [
    {
     "name": "stdout",
     "output_type": "stream",
     "text": [
      "Decision Tree Classification Report:\n",
      "               precision    recall  f1-score   support\n",
      "\n",
      "           0       0.87      0.97      0.92       367\n",
      "           1       0.66      0.28      0.39        75\n",
      "\n",
      "    accuracy                           0.85       442\n",
      "   macro avg       0.76      0.63      0.65       442\n",
      "weighted avg       0.83      0.85      0.83       442\n",
      "\n"
     ]
    }
   ],
   "source": [
    "# Step 5: Display Classification Report\n",
    "# Generate a classification report for the decision tree model to evaluate its detailed performance\n",
    "# The classification report provides metrics like precision, recall, and f1-score to assess the model.\n",
    "print(\"Decision Tree Classification Report:\\n\",classification_report(y_test, y_pred_dt))"
   ]
  },
  {
   "cell_type": "markdown",
   "id": "79124f9b-a006-49c9-9152-cec5f0fead8d",
   "metadata": {},
   "source": [
    " In **Step 5,** I Displayed classification metrics for decision tree model\", classification_report(y_test, y_pred_dt))  \n",
    " \n",
    " Displayed classification metrics for decision tree model\n",
    " \n",
    " The classification report gives us deeper insights into how well the model performs on different classes.\n"
   ]
  },
  {
   "cell_type": "markdown",
   "id": "c06eb8a1-63d6-45c6-a8d5-049edce6f0a9",
   "metadata": {},
   "source": [
    "**Answer 4**\n",
    "\n",
    "**Discuss Decision Tree Model Accuracy**\n",
    "\n",
    "The Decision Tree model achieved an accuracy of {accuracy_dt:.2f}, which is lower than both the SVM and Logistic Regression models.\n",
    "Compared to Logistic Regression and SVM, the Decision Tree model performed relatively less effectively on the test set.\n",
    "Although the Decision Tree is easier to interpret, its lower precision and recall indicate that it is not as reliable as the other models.\n",
    "The classification report gives us deeper insights into how well the model performs on different classes.\n"
   ]
  },
  {
   "cell_type": "markdown",
   "id": "c4cbed1f-3085-4b71-bf94-a9cb11bacf3c",
   "metadata": {},
   "source": [
    "**Question 5**\n",
    "\n",
    "**Task 5:**\n",
    "\n",
    "Compare the accuracy of all the models (overall accuracy, precision, recall) and the overall variables that were deemed significant. Discuss which model you would recommend based on these three metrics. Discuss what key variables they should focus on and their business context once you select your final model (that should be the key takeaway).\n",
    "\n"
   ]
  },
  {
   "cell_type": "code",
   "execution_count": 326,
   "id": "4a9803a1-b084-4906-a9ae-0d1137da60f3",
   "metadata": {},
   "outputs": [
    {
     "name": "stdout",
     "output_type": "stream",
     "text": [
      "\n",
      "Logistic Regression Model Accuracy: 0.87\n",
      "Logistic Regression Precision: 0.86\n",
      "Logistic Regression Recall: 0.87\n"
     ]
    }
   ],
   "source": [
    "# Task 5: Compare All Models\n",
    "# Let's compare the accuracy, precision, and recall of all models.\n",
    "\n",
    "# Step 1: Compare Metrics for Logistic Regression, SVM, and Decision Tree Models\n",
    "# Logistic Regression Metrics\n",
    "log_model = LogisticRegression(max_iter=1000)\n",
    "log_model.fit(X_train, y_train)\n",
    "y_pred_log = log_model.predict(X_test)\n",
    "accuracy_log = accuracy_score(y_test, y_pred_log)\n",
    "precision_log = precision_score(y_test, y_pred_log, average='weighted', zero_division=1)\n",
    "recall_log = recall_score(y_test, y_pred_log, average='weighted', zero_division=1)\n",
    "\n",
    "print(f\"\\nLogistic Regression Model Accuracy: {accuracy_log:.2f}\")\n",
    "print(f\"Logistic Regression Precision: {precision_log:.2f}\")\n",
    "print(f\"Logistic Regression Recall: {recall_log:.2f}\")\n"
   ]
  },
  {
   "cell_type": "markdown",
   "id": "ff1a8cc1-1470-46fa-8e6f-176081a4e174",
   "metadata": {},
   "source": [
    "Here, I calculated the accuracy, precision, and recall for Logistic Regression to see how well it's performing.\n"
   ]
  },
  {
   "cell_type": "code",
   "execution_count": 332,
   "id": "159a5f95-5b34-4db7-97bc-d65c4a05377d",
   "metadata": {},
   "outputs": [
    {
     "name": "stdout",
     "output_type": "stream",
     "text": [
      "\n",
      "SVM Model Accuracy: 0.83\n",
      "SVM Precision: 0.86\n",
      "SVM Recall: 0.83\n"
     ]
    }
   ],
   "source": [
    "# SVM Metrics\n",
    "svm_model = SVC(probability=True, random_state=42)\n",
    "svm_model.fit(X_train, y_train)\n",
    "y_pred_svm = svm_model.predict(X_test)\n",
    "accuracy_svm = accuracy_score(y_test, y_pred_svm)\n",
    "precision_svm = precision_score(y_test, y_pred_svm, average='weighted', zero_division=1)\n",
    "recall_svm = recall_score(y_test, y_pred_svm, average='weighted', zero_division=1)\n",
    "\n",
    "print(f\"\\nSVM Model Accuracy: {accuracy_svm:.2f}\")\n",
    "print(f\"SVM Precision: {precision_svm:.2f}\")\n",
    "print(f\"SVM Recall: {recall_svm:.2f}\")"
   ]
  },
  {
   "cell_type": "markdown",
   "id": "5a4c6f90-9a09-48de-8215-a6f07ba21715",
   "metadata": {},
   "source": [
    "Here, I calculated the accuracy, precision, and recall for SVM Metrics to see how well it's performing.\n"
   ]
  },
  {
   "cell_type": "code",
   "execution_count": 224,
   "id": "28a590e6-e363-44cf-a034-6713d56db60b",
   "metadata": {},
   "outputs": [
    {
     "name": "stdout",
     "output_type": "stream",
     "text": [
      "\n",
      "Decision Tree Model Accuracy: 0.85\n",
      "Decision Tree Precision: 0.83\n",
      "Decision Tree Recall: 0.85\n"
     ]
    }
   ],
   "source": [
    "# Decision Tree Metrics\n",
    "precision_dt = precision_score(y_test, y_pred_dt, average='weighted', zero_division=1)\n",
    "recall_dt = recall_score(y_test, y_pred_dt, average='weighted', zero_division=1)\n",
    "\n",
    "print(f\"\\nDecision Tree Model Accuracy: {accuracy_dt:.2f}\")\n",
    "print(f\"Decision Tree Precision: {precision_dt:.2f}\")\n",
    "print(f\"Decision Tree Recall: {recall_dt:.2f}\")"
   ]
  },
  {
   "cell_type": "markdown",
   "id": "a4d48d5f-8cd2-4998-ac14-1bc75b83b5f5",
   "metadata": {},
   "source": [
    "Here, I calculated the accuracy, precision, and recall for Decision Tree Metrics to see how well it's performing.\n"
   ]
  },
  {
   "cell_type": "code",
   "execution_count": 226,
   "id": "6d097082-261c-4296-bad9-eaa6b4002279",
   "metadata": {},
   "outputs": [
    {
     "name": "stdout",
     "output_type": "stream",
     "text": [
      "\n",
      "Recommended Model: Logistic Regression\n",
      "Key Variables to Focus On: ['NumWebVisitsMonth', 'MntMeatProducts', 'NumDealsPurchases', 'AcceptedCmp3', 'NumCatalogPurchases']\n"
     ]
    }
   ],
   "source": [
    "# Step 2: Discuss Best Model\n",
    "# Based on accuracy, precision, and recall, we choose the model with the best performance across these metrics.\n",
    "if accuracy_log >= accuracy_svm and accuracy_log >= accuracy_dt:\n",
    "    best_model = \"Logistic Regression\"\n",
    "    significant_variables = coefficients.nlargest(5).index.tolist()\n",
    "elif accuracy_svm >= accuracy_log and accuracy_svm >= accuracy_dt:\n",
    "    best_model = \"SVM\"\n",
    "    significant_variables = X.columns.tolist()  # SVM doesn't provide feature importance directly\n",
    "else:\n",
    "    best_model = \"Decision Tree\"\n",
    "    significant_variables = X.columns.tolist()  # Decision Tree can provide feature importance through dt_model.feature_importances_\n",
    "\n",
    "print(f\"\\nRecommended Model: {best_model}\")\n",
    "print(f\"Key Variables to Focus On: {significant_variables}\")\n"
   ]
  },
  {
   "cell_type": "markdown",
   "id": "d5b7e12b-ef69-4c3c-a712-012c482c5a6f",
   "metadata": {},
   "source": [
    "\n",
    "In **Step 2,** Here, I decided which model to recommend by comparing accuracy, precision, and recall. This helps ensure we choose the most effective model for predicting customer behavior\n",
    "\n",
    "If SVM performs the best, we choose it. Note that SVM doesn't provide feature importance, so we consider all variables.\n",
    "\n",
    "If the Decision Tree is the top performer, I selected it and listed all the features, as I can later evaluate their importance using the model.\n",
    "\n",
    "Printed the name of the best model based on the comparison metrics to communicate the recommendation.\n",
    "\n",
    "Printed the key variables that are most significant for prediction, providing insights for business decisions."
   ]
  },
  {
   "cell_type": "markdown",
   "id": "4c666346-eb55-4fdc-b0a7-4f247c70c4a0",
   "metadata": {},
   "source": [
    "**Answer 5:**\n",
    "\n",
    "**Business Context**\n",
    "\n",
    "The key takeaway is to focus on the most significant variables identified, whether they are demographic features (like age or income) or engagement features (like number of store purchases).\n"
   ]
  },
  {
   "cell_type": "markdown",
   "id": "7f7ed345-308c-41ea-a05d-b4ab9f8293de",
   "metadata": {},
   "source": [
    "## Conclusion ##"
   ]
  },
  {
   "cell_type": "markdown",
   "id": "220f95ac-c7c4-4bc2-936a-4c1c0750b621",
   "metadata": {},
   "source": [
    "After going through the entire process of data cleaning, model building, and evaluation, I found that Logistic Regression, SVM, and Decision Tree models all have their strengths. Logistic Regression is easier to interpret and provides a decent accuracy of 0.87, while SVM showed competitive performance with a similar accuracy. The Decision Tree model, with a maximum depth of 4, also provided valuable insights, but its accuracy was slightly lower compared to the other models. In the end, the Logistic Regression model was recommended due to its balance of accuracy and interpretability. Moving forward, focusing on key variables such as customer income, number of store purchases, and customer engagement metrics will help the company better understand subscription behavior and take action to improve customer retention.\n"
   ]
  },
  {
   "cell_type": "markdown",
   "id": "23ee42bc-fad8-495c-afe5-b2b977b109f5",
   "metadata": {},
   "source": [
    "## References ##"
   ]
  },
  {
   "cell_type": "markdown",
   "id": "5441a8cb-85ad-47c2-8452-0d844a64c1af",
   "metadata": {},
   "source": [
    "American Psychological Association. (2020). *Publication manual of the American Psychological Association* (7th ed.).\n",
    "\n",
    "Scikit-learn developers. (n.d.). *sklearn documentation*. https://scikit-learn.org/stable/documentation.html\n",
    "\n",
    "Pandas development team. (n.d.). *pandas documentation*. https://pandas.pydata.org/docs/\n",
    "\n",
    "Matplotlib developers. (n.d.). *matplotlib documentation*. https://matplotlib.org/stable/contents.html\n"
   ]
  },
  {
   "cell_type": "code",
   "execution_count": null,
   "id": "997c3b71-148e-4378-b5fb-6bb7e3386a65",
   "metadata": {},
   "outputs": [],
   "source": []
  }
 ],
 "metadata": {
  "kernelspec": {
   "display_name": "Python 3 (ipykernel)",
   "language": "python",
   "name": "python3"
  },
  "language_info": {
   "codemirror_mode": {
    "name": "ipython",
    "version": 3
   },
   "file_extension": ".py",
   "mimetype": "text/x-python",
   "name": "python",
   "nbconvert_exporter": "python",
   "pygments_lexer": "ipython3",
   "version": "3.12.4"
  }
 },
 "nbformat": 4,
 "nbformat_minor": 5
}
