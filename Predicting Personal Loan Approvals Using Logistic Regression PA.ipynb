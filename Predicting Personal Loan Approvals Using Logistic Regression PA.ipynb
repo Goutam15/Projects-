{
 "cells": [
  {
   "cell_type": "markdown",
   "id": "ea540c4b-f0c2-4845-b37f-4ede469c2bcf",
   "metadata": {},
   "source": [
    "# Module 3 Midweek Project\n",
    "<h1> Predicting Personal Loan Approvals Using Logistic Regression</h1>\n",
    "\n",
    "<b>University:</b> Northeastern University<br>\n",
    "<b>Instructor Name:</b> Vladimir Shapiro<br>\n",
    "<b>Date:</b> 11-13-2024<br>\n",
    "<b>Course Number:</b> ALY6020<br>\n",
    "<b>Course Name:</b> Predictive Analytics<br>\n",
    "<b>Student Name:</b> Goutham Yerramada<br>"
   ]
  },
  {
   "cell_type": "markdown",
   "id": "e903ee2c-a93f-4a34-8a26-292a2e940e0a",
   "metadata": {},
   "source": [
    "# Assignment Summary\n",
    "Loan Approval. Your bank has gotten a list of loans and doesn’t have time to approve or reject them tomorrow. You decided to use logistic regression analysis to help you make that decision. Perform the analysis and also be ready to answer the following three questions to your boss tomorrow morning:\n",
    "\n",
    "<b>What were the three most significant variables?<br>\n",
    "<b>Which of those three had the most negative influence on loan acceptance?<br>\n",
    "<b>How accurate was the model overall, and what was the precision rate?<br>"
   ]
  },
  {
   "cell_type": "markdown",
   "id": "7132095c-7387-4f15-a070-19761093ecaf",
   "metadata": {},
   "source": [
    "## Introduction ##"
   ]
  },
  {
   "cell_type": "markdown",
   "id": "e6a75b39-b950-44b5-b65c-947e6bdd63c6",
   "metadata": {},
   "source": [
    "In this assignment, I tasked a bank with making timely loan approval decisions by employing logistic regression analysis.\n",
    "The bank has a large number of loan applications that need to be evaluated quickly and accurately. By developing a logistic regression model, I am gonna aim to predict loan approvals effectively, ensuring that high-quality decisions are made within a limited time frame. This approach will streamline the bank's approval process and help prioritize loan applications based on their likelihood of being approved.\n"
   ]
  },
  {
   "cell_type": "markdown",
   "id": "9c3f5f7d-f48c-4442-96a5-f039e6e3e709",
   "metadata": {},
   "source": [
    "## Analysis ##"
   ]
  },
  {
   "cell_type": "code",
   "execution_count": 260,
   "id": "8411401b-7f50-4616-bfa6-fb04e950ab88",
   "metadata": {},
   "outputs": [],
   "source": [
    "import pandas as pd\n",
    "import matplotlib.pyplot as plt\n",
    "import seaborn as sns\n",
    "from sklearn.preprocessing import StandardScaler\n",
    "from sklearn.model_selection import train_test_split\n",
    "from sklearn.linear_model import LogisticRegression\n",
    "from sklearn.metrics import classification_report, confusion_matrix, accuracy_score, roc_curve, roc_auc_score\n"
   ]
  },
  {
   "cell_type": "markdown",
   "id": "730d657c-5fa5-4561-86d1-267d21c66b45",
   "metadata": {},
   "source": [
    "This is the first step where we bring our data into Python for analysis"
   ]
  },
  {
   "cell_type": "code",
   "execution_count": 263,
   "id": "4be0b766-adb6-4cdd-96fb-8eea4d38f1e9",
   "metadata": {},
   "outputs": [],
   "source": [
    "file_path = '/Users/gouthammathew/Downloads/Bank_Personal_Loan_Modelling-1.xlsx'\n",
    "df = pd.read_excel(file_path, sheet_name='Data')"
   ]
  },
  {
   "cell_type": "markdown",
   "id": "e46fab29-8565-448c-b61f-a8c29d81111f",
   "metadata": {},
   "source": [
    "#### **Q1:** Data Exploration and Preprocessing "
   ]
  },
  {
   "cell_type": "code",
   "execution_count": 266,
   "id": "8092583a-853d-495e-add6-efd3402b1500",
   "metadata": {},
   "outputs": [],
   "source": [
    "data_df_cleaned = df.drop(columns=['ID', 'ZIP Code'])\n"
   ]
  },
  {
   "cell_type": "markdown",
   "id": "edacb9c5-c595-4af2-b210-1b9bd8cd2ad2",
   "metadata": {},
   "source": [
    "**A1** Cleaned the dataset by removing unnecessary columns ('ID', 'ZIP Code') that do not contribute to model prediction. This step helps to improve model accuracy and efficiency."
   ]
  },
  {
   "cell_type": "markdown",
   "id": "9c852cc7-ca25-462c-9083-96c5f32098e6",
   "metadata": {},
   "source": [
    "#### **Q2:** Check for Missing Values and Duplicates"
   ]
  },
  {
   "cell_type": "code",
   "execution_count": 270,
   "id": "a34d62ea-17f1-4b9b-acef-0309e730ce2c",
   "metadata": {},
   "outputs": [],
   "source": [
    "missing_values = data_df_cleaned.isnull().sum()\n",
    "duplicates = data_df_cleaned.duplicated().sum()\n"
   ]
  },
  {
   "cell_type": "markdown",
   "id": "e74a7745-235d-477a-ad0f-923deb665c27",
   "metadata": {},
   "source": [
    "**A2:** Check for missing values and duplicates to ensure data quality. Missing or duplicated entries can negatively impact our model performance.\n",
    "\n"
   ]
  },
  {
   "cell_type": "markdown",
   "id": "16a29fb5-c11f-425e-b0d6-bd1e8e8cfa8a",
   "metadata": {},
   "source": [
    "#### **Q3:**  Data Normalization"
   ]
  },
  {
   "cell_type": "code",
   "execution_count": 274,
   "id": "904aa29a-c26f-435c-a285-0b936186d555",
   "metadata": {},
   "outputs": [],
   "source": [
    "numerical_features = ['Age', 'Experience', 'Income', 'CCAvg', 'Mortgage']\n",
    "scaler = StandardScaler()\n",
    "data_df_cleaned[numerical_features] = scaler.fit_transform(data_df_cleaned[numerical_features])"
   ]
  },
  {
   "cell_type": "markdown",
   "id": "952d5195-2004-4c9b-81b9-c00933da1d4e",
   "metadata": {},
   "source": [
    "**A3:** Normalize numerical features to bring all features onto a similar scale. This helps in improving the efficiency and performance of the model training.\n",
    "\n"
   ]
  },
  {
   "cell_type": "markdown",
   "id": "ca9943b3-58e2-4799-b5df-706085778b52",
   "metadata": {},
   "source": [
    "#### **Q4**: Splitting the Data into Training and Test Sets"
   ]
  },
  {
   "cell_type": "code",
   "execution_count": 278,
   "id": "a5a6ed9b-8be7-492e-a559-2c5bb4bdba91",
   "metadata": {},
   "outputs": [],
   "source": [
    "X = data_df_cleaned.drop(columns=['Personal Loan'])\n",
    "y = data_df_cleaned['Personal Loan']\n",
    "X_train, X_test, y_train, y_test = train_test_split(X, y, test_size=0.2, stratify=y, random_state=42)\n"
   ]
  },
  {
   "cell_type": "markdown",
   "id": "31425d59-98a5-405c-9a24-a7a64dbb60d5",
   "metadata": {},
   "source": [
    "**A4** Split the dataset into training and testing sets using stratification to maintain class balance, ensuring a representative test set.\n"
   ]
  },
  {
   "cell_type": "markdown",
   "id": "58e21c0f-ea6c-4a81-b5ea-ba6fbce97135",
   "metadata": {},
   "source": [
    "#### **Q5:** Training Logistic Regression Model"
   ]
  },
  {
   "cell_type": "code",
   "execution_count": 282,
   "id": "e935e6bb-f1bf-4a21-b455-a78799af9710",
   "metadata": {},
   "outputs": [
    {
     "data": {
      "text/html": [
       "<style>#sk-container-id-2 {\n",
       "  /* Definition of color scheme common for light and dark mode */\n",
       "  --sklearn-color-text: black;\n",
       "  --sklearn-color-line: gray;\n",
       "  /* Definition of color scheme for unfitted estimators */\n",
       "  --sklearn-color-unfitted-level-0: #fff5e6;\n",
       "  --sklearn-color-unfitted-level-1: #f6e4d2;\n",
       "  --sklearn-color-unfitted-level-2: #ffe0b3;\n",
       "  --sklearn-color-unfitted-level-3: chocolate;\n",
       "  /* Definition of color scheme for fitted estimators */\n",
       "  --sklearn-color-fitted-level-0: #f0f8ff;\n",
       "  --sklearn-color-fitted-level-1: #d4ebff;\n",
       "  --sklearn-color-fitted-level-2: #b3dbfd;\n",
       "  --sklearn-color-fitted-level-3: cornflowerblue;\n",
       "\n",
       "  /* Specific color for light theme */\n",
       "  --sklearn-color-text-on-default-background: var(--sg-text-color, var(--theme-code-foreground, var(--jp-content-font-color1, black)));\n",
       "  --sklearn-color-background: var(--sg-background-color, var(--theme-background, var(--jp-layout-color0, white)));\n",
       "  --sklearn-color-border-box: var(--sg-text-color, var(--theme-code-foreground, var(--jp-content-font-color1, black)));\n",
       "  --sklearn-color-icon: #696969;\n",
       "\n",
       "  @media (prefers-color-scheme: dark) {\n",
       "    /* Redefinition of color scheme for dark theme */\n",
       "    --sklearn-color-text-on-default-background: var(--sg-text-color, var(--theme-code-foreground, var(--jp-content-font-color1, white)));\n",
       "    --sklearn-color-background: var(--sg-background-color, var(--theme-background, var(--jp-layout-color0, #111)));\n",
       "    --sklearn-color-border-box: var(--sg-text-color, var(--theme-code-foreground, var(--jp-content-font-color1, white)));\n",
       "    --sklearn-color-icon: #878787;\n",
       "  }\n",
       "}\n",
       "\n",
       "#sk-container-id-2 {\n",
       "  color: var(--sklearn-color-text);\n",
       "}\n",
       "\n",
       "#sk-container-id-2 pre {\n",
       "  padding: 0;\n",
       "}\n",
       "\n",
       "#sk-container-id-2 input.sk-hidden--visually {\n",
       "  border: 0;\n",
       "  clip: rect(1px 1px 1px 1px);\n",
       "  clip: rect(1px, 1px, 1px, 1px);\n",
       "  height: 1px;\n",
       "  margin: -1px;\n",
       "  overflow: hidden;\n",
       "  padding: 0;\n",
       "  position: absolute;\n",
       "  width: 1px;\n",
       "}\n",
       "\n",
       "#sk-container-id-2 div.sk-dashed-wrapped {\n",
       "  border: 1px dashed var(--sklearn-color-line);\n",
       "  margin: 0 0.4em 0.5em 0.4em;\n",
       "  box-sizing: border-box;\n",
       "  padding-bottom: 0.4em;\n",
       "  background-color: var(--sklearn-color-background);\n",
       "}\n",
       "\n",
       "#sk-container-id-2 div.sk-container {\n",
       "  /* jupyter's `normalize.less` sets `[hidden] { display: none; }`\n",
       "     but bootstrap.min.css set `[hidden] { display: none !important; }`\n",
       "     so we also need the `!important` here to be able to override the\n",
       "     default hidden behavior on the sphinx rendered scikit-learn.org.\n",
       "     See: https://github.com/scikit-learn/scikit-learn/issues/21755 */\n",
       "  display: inline-block !important;\n",
       "  position: relative;\n",
       "}\n",
       "\n",
       "#sk-container-id-2 div.sk-text-repr-fallback {\n",
       "  display: none;\n",
       "}\n",
       "\n",
       "div.sk-parallel-item,\n",
       "div.sk-serial,\n",
       "div.sk-item {\n",
       "  /* draw centered vertical line to link estimators */\n",
       "  background-image: linear-gradient(var(--sklearn-color-text-on-default-background), var(--sklearn-color-text-on-default-background));\n",
       "  background-size: 2px 100%;\n",
       "  background-repeat: no-repeat;\n",
       "  background-position: center center;\n",
       "}\n",
       "\n",
       "/* Parallel-specific style estimator block */\n",
       "\n",
       "#sk-container-id-2 div.sk-parallel-item::after {\n",
       "  content: \"\";\n",
       "  width: 100%;\n",
       "  border-bottom: 2px solid var(--sklearn-color-text-on-default-background);\n",
       "  flex-grow: 1;\n",
       "}\n",
       "\n",
       "#sk-container-id-2 div.sk-parallel {\n",
       "  display: flex;\n",
       "  align-items: stretch;\n",
       "  justify-content: center;\n",
       "  background-color: var(--sklearn-color-background);\n",
       "  position: relative;\n",
       "}\n",
       "\n",
       "#sk-container-id-2 div.sk-parallel-item {\n",
       "  display: flex;\n",
       "  flex-direction: column;\n",
       "}\n",
       "\n",
       "#sk-container-id-2 div.sk-parallel-item:first-child::after {\n",
       "  align-self: flex-end;\n",
       "  width: 50%;\n",
       "}\n",
       "\n",
       "#sk-container-id-2 div.sk-parallel-item:last-child::after {\n",
       "  align-self: flex-start;\n",
       "  width: 50%;\n",
       "}\n",
       "\n",
       "#sk-container-id-2 div.sk-parallel-item:only-child::after {\n",
       "  width: 0;\n",
       "}\n",
       "\n",
       "/* Serial-specific style estimator block */\n",
       "\n",
       "#sk-container-id-2 div.sk-serial {\n",
       "  display: flex;\n",
       "  flex-direction: column;\n",
       "  align-items: center;\n",
       "  background-color: var(--sklearn-color-background);\n",
       "  padding-right: 1em;\n",
       "  padding-left: 1em;\n",
       "}\n",
       "\n",
       "\n",
       "/* Toggleable style: style used for estimator/Pipeline/ColumnTransformer box that is\n",
       "clickable and can be expanded/collapsed.\n",
       "- Pipeline and ColumnTransformer use this feature and define the default style\n",
       "- Estimators will overwrite some part of the style using the `sk-estimator` class\n",
       "*/\n",
       "\n",
       "/* Pipeline and ColumnTransformer style (default) */\n",
       "\n",
       "#sk-container-id-2 div.sk-toggleable {\n",
       "  /* Default theme specific background. It is overwritten whether we have a\n",
       "  specific estimator or a Pipeline/ColumnTransformer */\n",
       "  background-color: var(--sklearn-color-background);\n",
       "}\n",
       "\n",
       "/* Toggleable label */\n",
       "#sk-container-id-2 label.sk-toggleable__label {\n",
       "  cursor: pointer;\n",
       "  display: block;\n",
       "  width: 100%;\n",
       "  margin-bottom: 0;\n",
       "  padding: 0.5em;\n",
       "  box-sizing: border-box;\n",
       "  text-align: center;\n",
       "}\n",
       "\n",
       "#sk-container-id-2 label.sk-toggleable__label-arrow:before {\n",
       "  /* Arrow on the left of the label */\n",
       "  content: \"▸\";\n",
       "  float: left;\n",
       "  margin-right: 0.25em;\n",
       "  color: var(--sklearn-color-icon);\n",
       "}\n",
       "\n",
       "#sk-container-id-2 label.sk-toggleable__label-arrow:hover:before {\n",
       "  color: var(--sklearn-color-text);\n",
       "}\n",
       "\n",
       "/* Toggleable content - dropdown */\n",
       "\n",
       "#sk-container-id-2 div.sk-toggleable__content {\n",
       "  max-height: 0;\n",
       "  max-width: 0;\n",
       "  overflow: hidden;\n",
       "  text-align: left;\n",
       "  /* unfitted */\n",
       "  background-color: var(--sklearn-color-unfitted-level-0);\n",
       "}\n",
       "\n",
       "#sk-container-id-2 div.sk-toggleable__content.fitted {\n",
       "  /* fitted */\n",
       "  background-color: var(--sklearn-color-fitted-level-0);\n",
       "}\n",
       "\n",
       "#sk-container-id-2 div.sk-toggleable__content pre {\n",
       "  margin: 0.2em;\n",
       "  border-radius: 0.25em;\n",
       "  color: var(--sklearn-color-text);\n",
       "  /* unfitted */\n",
       "  background-color: var(--sklearn-color-unfitted-level-0);\n",
       "}\n",
       "\n",
       "#sk-container-id-2 div.sk-toggleable__content.fitted pre {\n",
       "  /* unfitted */\n",
       "  background-color: var(--sklearn-color-fitted-level-0);\n",
       "}\n",
       "\n",
       "#sk-container-id-2 input.sk-toggleable__control:checked~div.sk-toggleable__content {\n",
       "  /* Expand drop-down */\n",
       "  max-height: 200px;\n",
       "  max-width: 100%;\n",
       "  overflow: auto;\n",
       "}\n",
       "\n",
       "#sk-container-id-2 input.sk-toggleable__control:checked~label.sk-toggleable__label-arrow:before {\n",
       "  content: \"▾\";\n",
       "}\n",
       "\n",
       "/* Pipeline/ColumnTransformer-specific style */\n",
       "\n",
       "#sk-container-id-2 div.sk-label input.sk-toggleable__control:checked~label.sk-toggleable__label {\n",
       "  color: var(--sklearn-color-text);\n",
       "  background-color: var(--sklearn-color-unfitted-level-2);\n",
       "}\n",
       "\n",
       "#sk-container-id-2 div.sk-label.fitted input.sk-toggleable__control:checked~label.sk-toggleable__label {\n",
       "  background-color: var(--sklearn-color-fitted-level-2);\n",
       "}\n",
       "\n",
       "/* Estimator-specific style */\n",
       "\n",
       "/* Colorize estimator box */\n",
       "#sk-container-id-2 div.sk-estimator input.sk-toggleable__control:checked~label.sk-toggleable__label {\n",
       "  /* unfitted */\n",
       "  background-color: var(--sklearn-color-unfitted-level-2);\n",
       "}\n",
       "\n",
       "#sk-container-id-2 div.sk-estimator.fitted input.sk-toggleable__control:checked~label.sk-toggleable__label {\n",
       "  /* fitted */\n",
       "  background-color: var(--sklearn-color-fitted-level-2);\n",
       "}\n",
       "\n",
       "#sk-container-id-2 div.sk-label label.sk-toggleable__label,\n",
       "#sk-container-id-2 div.sk-label label {\n",
       "  /* The background is the default theme color */\n",
       "  color: var(--sklearn-color-text-on-default-background);\n",
       "}\n",
       "\n",
       "/* On hover, darken the color of the background */\n",
       "#sk-container-id-2 div.sk-label:hover label.sk-toggleable__label {\n",
       "  color: var(--sklearn-color-text);\n",
       "  background-color: var(--sklearn-color-unfitted-level-2);\n",
       "}\n",
       "\n",
       "/* Label box, darken color on hover, fitted */\n",
       "#sk-container-id-2 div.sk-label.fitted:hover label.sk-toggleable__label.fitted {\n",
       "  color: var(--sklearn-color-text);\n",
       "  background-color: var(--sklearn-color-fitted-level-2);\n",
       "}\n",
       "\n",
       "/* Estimator label */\n",
       "\n",
       "#sk-container-id-2 div.sk-label label {\n",
       "  font-family: monospace;\n",
       "  font-weight: bold;\n",
       "  display: inline-block;\n",
       "  line-height: 1.2em;\n",
       "}\n",
       "\n",
       "#sk-container-id-2 div.sk-label-container {\n",
       "  text-align: center;\n",
       "}\n",
       "\n",
       "/* Estimator-specific */\n",
       "#sk-container-id-2 div.sk-estimator {\n",
       "  font-family: monospace;\n",
       "  border: 1px dotted var(--sklearn-color-border-box);\n",
       "  border-radius: 0.25em;\n",
       "  box-sizing: border-box;\n",
       "  margin-bottom: 0.5em;\n",
       "  /* unfitted */\n",
       "  background-color: var(--sklearn-color-unfitted-level-0);\n",
       "}\n",
       "\n",
       "#sk-container-id-2 div.sk-estimator.fitted {\n",
       "  /* fitted */\n",
       "  background-color: var(--sklearn-color-fitted-level-0);\n",
       "}\n",
       "\n",
       "/* on hover */\n",
       "#sk-container-id-2 div.sk-estimator:hover {\n",
       "  /* unfitted */\n",
       "  background-color: var(--sklearn-color-unfitted-level-2);\n",
       "}\n",
       "\n",
       "#sk-container-id-2 div.sk-estimator.fitted:hover {\n",
       "  /* fitted */\n",
       "  background-color: var(--sklearn-color-fitted-level-2);\n",
       "}\n",
       "\n",
       "/* Specification for estimator info (e.g. \"i\" and \"?\") */\n",
       "\n",
       "/* Common style for \"i\" and \"?\" */\n",
       "\n",
       ".sk-estimator-doc-link,\n",
       "a:link.sk-estimator-doc-link,\n",
       "a:visited.sk-estimator-doc-link {\n",
       "  float: right;\n",
       "  font-size: smaller;\n",
       "  line-height: 1em;\n",
       "  font-family: monospace;\n",
       "  background-color: var(--sklearn-color-background);\n",
       "  border-radius: 1em;\n",
       "  height: 1em;\n",
       "  width: 1em;\n",
       "  text-decoration: none !important;\n",
       "  margin-left: 1ex;\n",
       "  /* unfitted */\n",
       "  border: var(--sklearn-color-unfitted-level-1) 1pt solid;\n",
       "  color: var(--sklearn-color-unfitted-level-1);\n",
       "}\n",
       "\n",
       ".sk-estimator-doc-link.fitted,\n",
       "a:link.sk-estimator-doc-link.fitted,\n",
       "a:visited.sk-estimator-doc-link.fitted {\n",
       "  /* fitted */\n",
       "  border: var(--sklearn-color-fitted-level-1) 1pt solid;\n",
       "  color: var(--sklearn-color-fitted-level-1);\n",
       "}\n",
       "\n",
       "/* On hover */\n",
       "div.sk-estimator:hover .sk-estimator-doc-link:hover,\n",
       ".sk-estimator-doc-link:hover,\n",
       "div.sk-label-container:hover .sk-estimator-doc-link:hover,\n",
       ".sk-estimator-doc-link:hover {\n",
       "  /* unfitted */\n",
       "  background-color: var(--sklearn-color-unfitted-level-3);\n",
       "  color: var(--sklearn-color-background);\n",
       "  text-decoration: none;\n",
       "}\n",
       "\n",
       "div.sk-estimator.fitted:hover .sk-estimator-doc-link.fitted:hover,\n",
       ".sk-estimator-doc-link.fitted:hover,\n",
       "div.sk-label-container:hover .sk-estimator-doc-link.fitted:hover,\n",
       ".sk-estimator-doc-link.fitted:hover {\n",
       "  /* fitted */\n",
       "  background-color: var(--sklearn-color-fitted-level-3);\n",
       "  color: var(--sklearn-color-background);\n",
       "  text-decoration: none;\n",
       "}\n",
       "\n",
       "/* Span, style for the box shown on hovering the info icon */\n",
       ".sk-estimator-doc-link span {\n",
       "  display: none;\n",
       "  z-index: 9999;\n",
       "  position: relative;\n",
       "  font-weight: normal;\n",
       "  right: .2ex;\n",
       "  padding: .5ex;\n",
       "  margin: .5ex;\n",
       "  width: min-content;\n",
       "  min-width: 20ex;\n",
       "  max-width: 50ex;\n",
       "  color: var(--sklearn-color-text);\n",
       "  box-shadow: 2pt 2pt 4pt #999;\n",
       "  /* unfitted */\n",
       "  background: var(--sklearn-color-unfitted-level-0);\n",
       "  border: .5pt solid var(--sklearn-color-unfitted-level-3);\n",
       "}\n",
       "\n",
       ".sk-estimator-doc-link.fitted span {\n",
       "  /* fitted */\n",
       "  background: var(--sklearn-color-fitted-level-0);\n",
       "  border: var(--sklearn-color-fitted-level-3);\n",
       "}\n",
       "\n",
       ".sk-estimator-doc-link:hover span {\n",
       "  display: block;\n",
       "}\n",
       "\n",
       "/* \"?\"-specific style due to the `<a>` HTML tag */\n",
       "\n",
       "#sk-container-id-2 a.estimator_doc_link {\n",
       "  float: right;\n",
       "  font-size: 1rem;\n",
       "  line-height: 1em;\n",
       "  font-family: monospace;\n",
       "  background-color: var(--sklearn-color-background);\n",
       "  border-radius: 1rem;\n",
       "  height: 1rem;\n",
       "  width: 1rem;\n",
       "  text-decoration: none;\n",
       "  /* unfitted */\n",
       "  color: var(--sklearn-color-unfitted-level-1);\n",
       "  border: var(--sklearn-color-unfitted-level-1) 1pt solid;\n",
       "}\n",
       "\n",
       "#sk-container-id-2 a.estimator_doc_link.fitted {\n",
       "  /* fitted */\n",
       "  border: var(--sklearn-color-fitted-level-1) 1pt solid;\n",
       "  color: var(--sklearn-color-fitted-level-1);\n",
       "}\n",
       "\n",
       "/* On hover */\n",
       "#sk-container-id-2 a.estimator_doc_link:hover {\n",
       "  /* unfitted */\n",
       "  background-color: var(--sklearn-color-unfitted-level-3);\n",
       "  color: var(--sklearn-color-background);\n",
       "  text-decoration: none;\n",
       "}\n",
       "\n",
       "#sk-container-id-2 a.estimator_doc_link.fitted:hover {\n",
       "  /* fitted */\n",
       "  background-color: var(--sklearn-color-fitted-level-3);\n",
       "}\n",
       "</style><div id=\"sk-container-id-2\" class=\"sk-top-container\"><div class=\"sk-text-repr-fallback\"><pre>LogisticRegression()</pre><b>In a Jupyter environment, please rerun this cell to show the HTML representation or trust the notebook. <br />On GitHub, the HTML representation is unable to render, please try loading this page with nbviewer.org.</b></div><div class=\"sk-container\" hidden><div class=\"sk-item\"><div class=\"sk-estimator fitted sk-toggleable\"><input class=\"sk-toggleable__control sk-hidden--visually\" id=\"sk-estimator-id-2\" type=\"checkbox\" checked><label for=\"sk-estimator-id-2\" class=\"sk-toggleable__label fitted sk-toggleable__label-arrow fitted\">&nbsp;&nbsp;LogisticRegression<a class=\"sk-estimator-doc-link fitted\" rel=\"noreferrer\" target=\"_blank\" href=\"https://scikit-learn.org/1.4/modules/generated/sklearn.linear_model.LogisticRegression.html\">?<span>Documentation for LogisticRegression</span></a><span class=\"sk-estimator-doc-link fitted\">i<span>Fitted</span></span></label><div class=\"sk-toggleable__content fitted\"><pre>LogisticRegression()</pre></div> </div></div></div></div>"
      ],
      "text/plain": [
       "LogisticRegression()"
      ]
     },
     "execution_count": 282,
     "metadata": {},
     "output_type": "execute_result"
    }
   ],
   "source": [
    "log_reg = LogisticRegression()\n",
    "log_reg.fit(X_train, y_train)\n"
   ]
  },
  {
   "cell_type": "markdown",
   "id": "bd87c080-363d-4d61-83f3-7fc8999c1a6d",
   "metadata": {},
   "source": [
    "**A5:** Train the logistic regression model using the training set. This model will be used to predict whether a customer is approved for a loan.\n",
    "\n"
   ]
  },
  {
   "cell_type": "markdown",
   "id": "0d69ab20-4c65-4639-bf16-0d86fe30266b",
   "metadata": {},
   "source": [
    " #### **Q6:** Evaluating the Model"
   ]
  },
  {
   "cell_type": "code",
   "execution_count": 286,
   "id": "b568837d-d9c9-4d2e-9292-9bf44502c1de",
   "metadata": {},
   "outputs": [],
   "source": [
    "y_pred = log_reg.predict(X_test)"
   ]
  },
  {
   "cell_type": "code",
   "execution_count": 288,
   "id": "a10c79ef-fdb9-49c4-bc48-61c24a2f51aa",
   "metadata": {},
   "outputs": [],
   "source": [
    "accuracy = accuracy_score(y_test, y_pred)\n",
    "conf_matrix = confusion_matrix(y_test, y_pred)\n",
    "class_report = classification_report(y_test, y_pred)"
   ]
  },
  {
   "cell_type": "code",
   "execution_count": 290,
   "id": "a706fa33-d3ca-4db6-9673-1f303163b898",
   "metadata": {},
   "outputs": [
    {
     "name": "stdout",
     "output_type": "stream",
     "text": [
      "Accuracy: 0.953\n",
      "\n",
      "Confusion Matrix:\n",
      "[[889  15]\n",
      " [ 32  64]]\n",
      "\n",
      "Classification Report:\n",
      "              precision    recall  f1-score   support\n",
      "\n",
      "           0       0.97      0.98      0.97       904\n",
      "           1       0.81      0.67      0.73        96\n",
      "\n",
      "    accuracy                           0.95      1000\n",
      "   macro avg       0.89      0.83      0.85      1000\n",
      "weighted avg       0.95      0.95      0.95      1000\n",
      "\n",
      "\n"
     ]
    }
   ],
   "source": [
    "print(f'Accuracy: {accuracy}\\n')\n",
    "print(f'Confusion Matrix:\\n{conf_matrix}\\n')\n",
    "print(f'Classification Report:\\n{class_report}\\n')"
   ]
  },
  {
   "cell_type": "markdown",
   "id": "9403a7b9-75a0-40d5-ad62-33dae58632ef",
   "metadata": {},
   "source": [
    "**A6:** Evaluate the model's performance by predicting on the test set and calculating metrics like accuracy, confusion matrix, and classification report."
   ]
  },
  {
   "cell_type": "markdown",
   "id": "c8027ea6-991d-442f-9d9b-ac7a409538fc",
   "metadata": {},
   "source": [
    "#### **Q7:** Visualizations\n",
    "Confusion Matrix Heatmap"
   ]
  },
  {
   "cell_type": "code",
   "execution_count": 294,
   "id": "76af452f-4d5d-4b2d-832f-a28cc5840dc1",
   "metadata": {},
   "outputs": [
    {
     "data": {
      "image/png": "[encoded data removed]",
      "text/plain": [
       "<Figure size 800x600 with 2 Axes>"
      ]
     },
     "metadata": {},
     "output_type": "display_data"
    }
   ],
   "source": [
    "plt.figure(figsize=(8, 6))\n",
    "sns.heatmap(conf_matrix, annot=True, cmap='Blues', fmt='g')\n",
    "plt.title('Confusion Matrix Heatmap')\n",
    "plt.xlabel('Predicted')\n",
    "plt.ylabel('Actual')\n",
    "plt.show()\n"
   ]
  },
  {
   "cell_type": "markdown",
   "id": "467c9bd9-0ee2-4796-91f1-41eb432f4f02",
   "metadata": {},
   "source": [
    "Figure 1. Confusion matrix heatmap showing the distribution of predicted and actual values"
   ]
  },
  {
   "cell_type": "markdown",
   "id": "960386a6-5ffe-4231-86ba-7cf3a706e58c",
   "metadata": {},
   "source": [
    "#### Distribution of the Target Variable"
   ]
  },
  {
   "cell_type": "code",
   "execution_count": 298,
   "id": "ca213309-b8db-4e39-8de2-7c1eea6f3557",
   "metadata": {},
   "outputs": [
    {
     "data": {
      "image/png": "[encoded data removed]",
      "text/plain": [
       "<Figure size 600x400 with 1 Axes>"
      ]
     },
     "metadata": {},
     "output_type": "display_data"
    }
   ],
   "source": [
    "plt.figure(figsize=(6, 4))\n",
    "sns.countplot(x='Personal Loan', data=data_df_cleaned)\n",
    "plt.title('Distribution of Personal Loan Approvals')\n",
    "plt.xlabel('Personal Loan (0 = No, 1 = Yes)')\n",
    "plt.ylabel('Count')\n",
    "plt.show()"
   ]
  },
  {
   "cell_type": "markdown",
   "id": "9b918125-9780-4e9b-a182-38835a9a8708",
   "metadata": {},
   "source": [
    "Figure 2. Distribution of personal loan approvals (0 = No, 1 = Yes)"
   ]
  },
  {
   "cell_type": "markdown",
   "id": "f100f31a-d8ee-4f78-9ab2-c77db83dfd67",
   "metadata": {},
   "source": [
    "####  Feature Importance (Coefficients Visualization)"
   ]
  },
  {
   "cell_type": "code",
   "execution_count": 302,
   "id": "79a01af5-121b-420a-aa97-eee741194697",
   "metadata": {},
   "outputs": [
    {
     "data": {
      "image/png": "[encoded data removed]",
      "text/plain": [
       "<Figure size 1000x600 with 1 Axes>"
      ]
     },
     "metadata": {},
     "output_type": "display_data"
    }
   ],
   "source": [
    "coefficients = pd.Series(log_reg.coef_[0], index=X.columns)\n",
    "plt.figure(figsize=(10, 6))\n",
    "coefficients.sort_values().plot(kind='barh')\n",
    "plt.title('Feature Importance Based on Logistic Regression Coefficients')\n",
    "plt.xlabel('Coefficient Value')\n",
    "plt.ylabel('Feature')\n",
    "plt.show()\n"
   ]
  },
  {
   "cell_type": "markdown",
   "id": "6aa730b5-5def-426f-a0bf-8023b8c8a7c9",
   "metadata": {},
   "source": [
    "Figure 3. Feature importance based on logistic regression coefficients"
   ]
  },
  {
   "cell_type": "markdown",
   "id": "c7b0787a-bb19-4ce6-9a57-423b81464f06",
   "metadata": {},
   "source": [
    "#### ROC Curve"
   ]
  },
  {
   "cell_type": "code",
   "execution_count": 306,
   "id": "087df91e-8b2f-4923-bbd8-5d87c820f39f",
   "metadata": {},
   "outputs": [],
   "source": [
    "y_prob = log_reg.predict_proba(X_test)[:, 1]\n",
    "fpr, tpr, _ = roc_curve(y_test, y_prob)\n",
    "roc_auc = roc_auc_score(y_test, y_prob)"
   ]
  },
  {
   "cell_type": "code",
   "execution_count": 308,
   "id": "a4c5116a-d98b-491e-adf4-ae17d5a6e8b3",
   "metadata": {},
   "outputs": [
    {
     "data": {
      "image/png": "[encoded data removed]",
      "text/plain": [
       "<Figure size 800x600 with 1 Axes>"
      ]
     },
     "metadata": {},
     "output_type": "display_data"
    }
   ],
   "source": [
    "plt.figure(figsize=(8, 6))\n",
    "plt.plot(fpr, tpr, color='blue', label=f'ROC Curve (AUC = {roc_auc:.2f})')\n",
    "plt.plot([0, 1], [0, 1], color='red', linestyle='--')\n",
    "plt.title('Receiver Operating Characteristic (ROC) Curve')\n",
    "plt.xlabel('False Positive Rate')\n",
    "plt.ylabel('True Positive Rate')\n",
    "plt.legend()\n",
    "plt.show()"
   ]
  },
  {
   "cell_type": "markdown",
   "id": "b4de6b8e-23ef-4308-97a8-9fa99b95813d",
   "metadata": {},
   "source": [
    "Figure 4. Receiver operating characteristic (ROC) curve for logistic regression model performance"
   ]
  },
  {
   "cell_type": "markdown",
   "id": "677da137-6b02-4f56-b6bd-0acc3190b398",
   "metadata": {},
   "source": [
    "**A7:** Evaluate the model's performance by predicting on the test set and calculating metrics like accuracy, confusion matrix, and classification report."
   ]
  },
  {
   "cell_type": "markdown",
   "id": "50402d7c-4deb-4c8a-8e99-d59757b45ffa",
   "metadata": {},
   "source": [
    "### **Q8.** \n",
    "<b>What were the three most significant variables?<br>\n"
   ]
  },
  {
   "cell_type": "markdown",
   "id": "e2d12b48-5080-4c10-8b26-e198fbb22b0e",
   "metadata": {},
   "source": [
    "**A8:** The three most significant variables in predicting loan approval were 'Income', 'CCAvg', and 'Family'."
   ]
  },
  {
   "cell_type": "markdown",
   "id": "6cda6483-901b-4ff0-b20c-63777c84f6cc",
   "metadata": {},
   "source": [
    "**Q9.** <b>Which of those three had the most negative influence on loan acceptance?<br>"
   ]
  },
  {
   "cell_type": "markdown",
   "id": "90d43fba-d891-4f7c-a373-1bbf58707a50",
   "metadata": {},
   "source": [
    "**A9:** Of these three variables, 'CCAvg' (average credit card spending) had the most negative influence on loan acceptance, meaning that higher spending might decrease the chances of getting approved."
   ]
  },
  {
   "cell_type": "markdown",
   "id": "aec6efa9-649a-44e2-9f98-ea3a663169fc",
   "metadata": {},
   "source": [
    "**Q10.** <b>How accurate was the model overall, and what was the precision rate?<br>"
   ]
  },
  {
   "cell_type": "markdown",
   "id": "685319b4-fe95-4471-8e7f-9ca40add389d",
   "metadata": {},
   "source": [
    "**A10:** Overall, the model was about 95% accurate, and the precision rate for identifying approved loans was 81%."
   ]
  },
  {
   "cell_type": "markdown",
   "id": "58686709-0937-4356-a7c6-61f8a8c986ee",
   "metadata": {},
   "source": [
    "## Conclusion"
   ]
  },
  {
   "cell_type": "markdown",
   "id": "316c692a-4737-4833-8bc9-eab709ef7961",
   "metadata": {},
   "source": [
    "In conclusion, the logistic regression model developed for predicting personal loan approval showed promising results. The model achieved an accuracy of 95%, which indicates that it can effectively predict loan approvals based on the provided features. Among the factors considered, 'Income', 'CCAvg' (average credit card spending), and 'Family' were identified as the most significant predictors. Interestingly, 'CCAvg' had the most negative impact on loan approval, implying that higher average credit card usage reduced the likelihood of loan approval. The precision rate for approved loans was 81%, meaning the model is quite effective at identifying those who will be granted loans, though there is still room for improvement. One area for potential enhancement is addressing class imbalance, which could improve the recall for the minority class (loan approvals). By implementing strategies such as resampling techniques or adjusting class weights, the model could better capture loan approval cases that are currently underrepresented. Overall, the model serves as a solid foundation for automating loan approval decisions, with further tuning and enhancement possibilities.\n"
   ]
  },
  {
   "cell_type": "markdown",
   "id": "23cfad9d-72e2-4796-bf66-d5ed77c850d4",
   "metadata": {},
   "source": [
    "## References"
   ]
  },
  {
   "cell_type": "markdown",
   "id": "43ca5f97-5aa7-45c4-b680-98352efaa5d0",
   "metadata": {},
   "source": [
    "American Psychological Association. (2020). Publication manual of the American Psychological Association (7th ed.).\n",
    "\n",
    "Pedregosa, F., Varoquaux, G., Gramfort, A., Michel, V., Thirion, B., Grisel, O., ... & Duchesnay, É. (2011). Scikit-learn: Machine learning in Python. Journal of Machine Learning Research, 12, 2825-2830.\n",
    " \n",
    "McKinney, W. (2010). Data Structures for Statistical Computing in Python. Proceedings of the 9th Python in Science Conference, 51-56.\n",
    "\n",
    "Hunter, J. D. (2007). Matplotlib: A 2D graphics environment. Computing in Science & Engineering, 9(3), 90-95.\n",
    "\n"
   ]
  },
  {
   "cell_type": "code",
   "execution_count": null,
   "id": "9c71cabd-2f41-479e-924b-91c5257bc37a",
   "metadata": {},
   "outputs": [],
   "source": []
  }
 ],
 "metadata": {
  "kernelspec": {
   "display_name": "Python 3 (ipykernel)",
   "language": "python",
   "name": "python3"
  },
  "language_info": {
   "codemirror_mode": {
    "name": "ipython",
    "version": 3
   },
   "file_extension": ".py",
   "mimetype": "text/x-python",
   "name": "python",
   "nbconvert_exporter": "python",
   "pygments_lexer": "ipython3",
   "version": "3.12.4"
  }
 },
 "nbformat": 4,
 "nbformat_minor": 5
}
